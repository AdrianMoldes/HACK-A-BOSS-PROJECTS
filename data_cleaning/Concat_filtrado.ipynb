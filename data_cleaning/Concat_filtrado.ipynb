{
 "cells": [
  {
   "cell_type": "code",
   "execution_count": 1,
   "id": "0763bcd6-7eb0-4177-bca9-6d14d3488b0b",
   "metadata": {
    "tags": []
   },
   "outputs": [],
   "source": [
    "import pandas as pd\n",
    "import numpy as np\n",
    "import re\n",
    "import unidecode"
   ]
  },
  {
   "cell_type": "code",
   "execution_count": 2,
   "id": "e08a699a-3e86-494e-821c-cce037f2e81c",
   "metadata": {},
   "outputs": [],
   "source": [
    "df_douglas = pd.read_csv(\"datos_perfumes_douglas_filtrados.csv\")\n",
    "\n",
    "df_notino = pd.read_csv(\"datos_perfumes_notino_filtrados.csv\")\n",
    "\n",
    "df_paco = pd.read_csv(\"datos_perfumes_paco_filtrados.csv\")\n",
    "\n",
    "df_perfumeriacom = pd.read_csv(\"datos_perfumes_perfumeriacom_filtrados.csv\")\n",
    "\n",
    "df_prefumes24 = pd.read_csv(\"datos_perfumes_prefumes24_filtrados.csv\")\n",
    "\n",
    "df_primor = pd.read_csv(\"datos_perfumes_primor_filtrados.csv\")\n",
    "\n",
    "df_druni = pd.read_csv(\"datos_perfumes_druni_filtrados.csv\")"
   ]
  },
  {
   "cell_type": "code",
   "execution_count": 3,
   "id": "951820ee-89d1-461c-a40f-0d987ef5ed6b",
   "metadata": {},
   "outputs": [],
   "source": [
    "df = pd.concat([df_douglas, df_notino, df_paco, df_perfumeriacom, df_prefumes24, df_primor, df_druni], ignore_index=True)"
   ]
  },
  {
   "cell_type": "code",
   "execution_count": 4,
   "id": "8655e961-1f8d-4cfc-a2de-2d67b8197b6b",
   "metadata": {
    "tags": []
   },
   "outputs": [],
   "source": [
    "# Quito cualquier tipo de acento:\n",
    "df['marca'] = df['marca'].apply(lambda x: unidecode.unidecode(x))\n",
    "df['nombre'] = df['nombre'].apply(lambda x: unidecode.unidecode(x))"
   ]
  },
  {
   "cell_type": "code",
   "execution_count": 5,
   "id": "9375487e-61ac-40b2-aca1-73b3ab014dad",
   "metadata": {},
   "outputs": [],
   "source": [
    "def mapear_marcas(df):\n",
    "    \n",
    "    mapping = {\n",
    "        \"zarkoperfume\"            : \"zarko perfume\",\n",
    "        \"women'secret\"            : \"women's secret\",\n",
    "        \"viktor&rolf\"             : \"viktor & rolf\",\n",
    "        \"van cleef&arpels\"        : \"van cleef & arpels\",\n",
    "        \"polo\"                    : \"\",\n",
    "        \"beverly hills polo club\" : \"giorgio beverly hills\",\n",
    "        \"giorgio beverly\"         : \"giorgio beverly hills\",\n",
    "        \"agatha\"                  : \"agatha ruiz de la prada\",\n",
    "        \"agatha paris\"            : \"agatha ruiz de la prada\",\n",
    "        \"dolce&gabbana\"           : \"dolce & gabbana\",\n",
    "        \"escentric\"               : \"escentric molecules\",\n",
    "        \"hackett\"                 : \"hackett london\",\n",
    "        \"joop\"                    : \"joop!\",\n",
    "        \"mercedes-benz parfums\"   : \"mercedes-benz\",\n",
    "        \"montale\"                 : \"montale paris\",\n",
    "        \"pacha\"                   : \"pacha ibiza\",\n",
    "        \"tiffany\"                 : \"tiffany & co\",\n",
    "        \"tiffany & co.\"           : \"tiffany & co\",\n",
    "        \"tabac original\"          : \"tabac\",\n",
    "        \"zadig&voltaire\"          : \"zadig & voltaire\"\n",
    "        }\n",
    "    \n",
    "    df['marca'] = df['marca'].replace(mapping)\n",
    "    \n",
    "    return df\n",
    "\n",
    "df = mapear_marcas(df)"
   ]
  },
  {
   "cell_type": "code",
   "execution_count": 6,
   "id": "29d221a5-b5c6-475b-ae6a-38606c445849",
   "metadata": {
    "tags": []
   },
   "outputs": [],
   "source": [
    "df = df[df['nombre'] != 'sin nombre']"
   ]
  },
  {
   "cell_type": "code",
   "execution_count": 7,
   "id": "ff68d868-c73a-4ed2-8538-ce69266a71e1",
   "metadata": {},
   "outputs": [],
   "source": [
    "df = df[~df['nombre'].str.contains('set ')]"
   ]
  },
  {
   "cell_type": "code",
   "execution_count": 8,
   "id": "5b30890a-5444-44da-b3ca-32036e5eeb1f",
   "metadata": {
    "tags": []
   },
   "outputs": [],
   "source": [
    "df['nombre'] = df['nombre'].str.strip()"
   ]
  },
  {
   "cell_type": "code",
   "execution_count": 9,
   "id": "f20055cb-deb9-464c-8fe0-0d0596203b15",
   "metadata": {
    "tags": []
   },
   "outputs": [],
   "source": [
    "# Crear un diccionario para almacenar los nombres genéricos\n",
    "lista = df['nombre'].value_counts().index.sort_values().tolist()\n",
    "nombres_genericos = {}\n",
    "for perfume in lista:\n",
    "    # Usar expresiones regulares para buscar patrones comunes\n",
    "    matches = re.findall(r'\\b(?:eau de|perfume de|pour|eau de toilette\\b|\\beau de parfum\\b)?([\\w\\s]+)\\b', perfume, re.IGNORECASE)\n",
    "    if matches:\n",
    "        nombre_generico = matches[-1].strip()\n",
    "        nombres_genericos[perfume] = nombre_generico\n",
    "        \n",
    "def mapear_nombres(df):\n",
    "    \n",
    "    for name, replacement in nombres_genericos.items():\n",
    "        df['nombre'] = df['nombre'].str.replace(name, replacement)\n",
    "\n",
    "    df['nombre'] = df['nombre'].str.strip()\n",
    "    \n",
    "    return df\n",
    "\n",
    "df = mapear_nombres(df)"
   ]
  },
  {
   "cell_type": "code",
   "execution_count": 10,
   "id": "beca399b-12a3-41b0-bdfe-d643cf5a23c2",
   "metadata": {
    "tags": []
   },
   "outputs": [],
   "source": [
    "def mapear_nombres_manual(df):    \n",
    "\n",
    "    mapping = {\n",
    "        'eau de  perfume de mujer'    : '',\n",
    "        'perfume de mujer'            : '',\n",
    "        'fragancias de mujer'         : '',\n",
    "        'giorgio armani'              : '',\n",
    "        'yves saint laurent'          : '',\n",
    "        'eau de  de mujer recargable' : '',\n",
    "        'edp'                         : '',\n",
    "        'edt'                         : ''\n",
    "    }\n",
    "\n",
    "    for name, replacement in mapping.items():\n",
    "        df['nombre'] = df['nombre'].str.replace(name, replacement)\n",
    "\n",
    "    df['nombre'] = df['nombre'].str.strip()\n",
    "\n",
    "    return df\n",
    "\n",
    "df = mapear_nombres_manual(df)"
   ]
  },
  {
   "cell_type": "code",
   "execution_count": 11,
   "id": "c05f3de6-b6ad-4ac7-9a0a-36ae75c51b36",
   "metadata": {
    "tags": []
   },
   "outputs": [],
   "source": [
    "df.loc[df['num_valoraciones'] == 0, ['valoracion', 'num_valoraciones']] = np.nan"
   ]
  },
  {
   "cell_type": "code",
   "execution_count": 12,
   "id": "ff130fe8-e692-4c29-9a4a-23dd17f6546c",
   "metadata": {
    "tags": []
   },
   "outputs": [],
   "source": [
    "df_ordenado = df.sort_values(by= 'precio_sin_desc')\n",
    "\n",
    "df = df_ordenado.drop_duplicates(subset= ['tienda', 'categoria', 'marca', 'nombre', 'tipo'])"
   ]
  },
  {
   "cell_type": "code",
   "execution_count": 13,
   "id": "ec0d8d80-9fe3-4d14-971c-3056c119596c",
   "metadata": {
    "tags": []
   },
   "outputs": [],
   "source": [
    "df = df.sort_values(by= 'marca')"
   ]
  },
  {
   "cell_type": "code",
   "execution_count": 14,
   "id": "de254284-d6b1-4930-9caa-cedabbc001cd",
   "metadata": {
    "tags": []
   },
   "outputs": [],
   "source": [
    "df.to_csv('datos_perfumes_totales.csv', index=False)"
   ]
  }
 ],
 "metadata": {
  "kernelspec": {
   "display_name": "Python 3 (ipykernel)",
   "language": "python",
   "name": "python3"
  },
  "language_info": {
   "codemirror_mode": {
    "name": "ipython",
    "version": 3
   },
   "file_extension": ".py",
   "mimetype": "text/x-python",
   "name": "python",
   "nbconvert_exporter": "python",
   "pygments_lexer": "ipython3",
   "version": "3.11.4"
  }
 },
 "nbformat": 4,
 "nbformat_minor": 5
}
