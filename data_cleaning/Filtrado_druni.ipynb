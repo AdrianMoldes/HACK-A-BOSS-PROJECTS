{
 "cells": [
  {
   "cell_type": "code",
   "execution_count": 1,
   "id": "4d14e585-2fd5-420a-bd7d-272a49e8e1e6",
   "metadata": {
    "tags": []
   },
   "outputs": [],
   "source": [
    "from time import sleep\n",
    "import pandas as pd\n",
    "import numpy as np\n",
    "\n",
    "# Librerias visualización:\n",
    "import matplotlib.pyplot as plt\n",
    "import seaborn as sns\n",
    "\n",
    "# Para visualizar el progreso:\n",
    "import tqdm"
   ]
  },
  {
   "cell_type": "code",
   "execution_count": 2,
   "id": "fbd88e04-a89c-4489-88ae-f105334d8bf3",
   "metadata": {
    "tags": []
   },
   "outputs": [],
   "source": [
    "df_druni = pd.read_csv(\"datos_perfumes_druni.csv\")"
   ]
  },
  {
   "cell_type": "code",
   "execution_count": 3,
   "id": "f6170c0d-aa60-4888-921b-2ba1e65c67df",
   "metadata": {
    "tags": []
   },
   "outputs": [],
   "source": [
    "df_druni_clean = df_druni.copy()"
   ]
  },
  {
   "cell_type": "markdown",
   "id": "84930239-ff7b-4b5e-ae50-4639d992b6c8",
   "metadata": {},
   "source": [
    "### Elimino la primera columna:"
   ]
  },
  {
   "cell_type": "code",
   "execution_count": 4,
   "id": "86b2d753-c97c-4760-9a32-c5c51e26d77a",
   "metadata": {
    "tags": []
   },
   "outputs": [
    {
     "data": {
      "text/plain": [
       "Index(['Unnamed: 0', 'categoria', 'marca', 'nombre', 'tipo', 'precio_sin_desc',\n",
       "       'descuento', 'precio_con_desc', 'valoracion', 'num_valoraciones'],\n",
       "      dtype='object')"
      ]
     },
     "execution_count": 4,
     "metadata": {},
     "output_type": "execute_result"
    }
   ],
   "source": [
    "df_druni_clean.columns"
   ]
  },
  {
   "cell_type": "code",
   "execution_count": 5,
   "id": "35a58838-3329-4e2b-82f3-7fbdaa875a54",
   "metadata": {
    "tags": []
   },
   "outputs": [],
   "source": [
    "df_druni_clean = df_druni_clean.drop([\"Unnamed: 0\"], axis= 1)"
   ]
  },
  {
   "cell_type": "code",
   "execution_count": 6,
   "id": "5d408003-ac79-4ca0-b414-4e4cd6f372ad",
   "metadata": {
    "tags": []
   },
   "outputs": [
    {
     "data": {
      "text/html": [
       "<div>\n",
       "<style scoped>\n",
       "    .dataframe tbody tr th:only-of-type {\n",
       "        vertical-align: middle;\n",
       "    }\n",
       "\n",
       "    .dataframe tbody tr th {\n",
       "        vertical-align: top;\n",
       "    }\n",
       "\n",
       "    .dataframe thead th {\n",
       "        text-align: right;\n",
       "    }\n",
       "</style>\n",
       "<table border=\"1\" class=\"dataframe\">\n",
       "  <thead>\n",
       "    <tr style=\"text-align: right;\">\n",
       "      <th></th>\n",
       "      <th>categoria</th>\n",
       "      <th>marca</th>\n",
       "      <th>nombre</th>\n",
       "      <th>tipo</th>\n",
       "      <th>precio_sin_desc</th>\n",
       "      <th>descuento</th>\n",
       "      <th>precio_con_desc</th>\n",
       "      <th>valoracion</th>\n",
       "      <th>num_valoraciones</th>\n",
       "    </tr>\n",
       "  </thead>\n",
       "  <tbody>\n",
       "    <tr>\n",
       "      <th>0</th>\n",
       "      <td>Perfumes para Hombre</td>\n",
       "      <td>HUGO BOSS</td>\n",
       "      <td>Boss Bottled</td>\n",
       "      <td>Eau de Toilette para hombre</td>\n",
       "      <td>69,00€</td>\n",
       "      <td>NaN</td>\n",
       "      <td>29,95€</td>\n",
       "      <td>96%</td>\n",
       "      <td>571.0</td>\n",
       "    </tr>\n",
       "    <tr>\n",
       "      <th>1</th>\n",
       "      <td>Perfumes para Hombre</td>\n",
       "      <td>JEAN PAUL GAULTIER</td>\n",
       "      <td>Jean Paul Gaultier Le Beau</td>\n",
       "      <td>Eau de parfum para hombre</td>\n",
       "      <td>89,50€</td>\n",
       "      <td>NaN</td>\n",
       "      <td>47,95€</td>\n",
       "      <td>94%</td>\n",
       "      <td>28.0</td>\n",
       "    </tr>\n",
       "    <tr>\n",
       "      <th>2</th>\n",
       "      <td>Perfumes para Hombre</td>\n",
       "      <td>ARMANI</td>\n",
       "      <td>Acqua Di Gio</td>\n",
       "      <td>Eau de Toilette para hombre</td>\n",
       "      <td>85,00€</td>\n",
       "      <td>NaN</td>\n",
       "      <td>38,95€</td>\n",
       "      <td>96%</td>\n",
       "      <td>440.0</td>\n",
       "    </tr>\n",
       "  </tbody>\n",
       "</table>\n",
       "</div>"
      ],
      "text/plain": [
       "              categoria               marca                      nombre  \\\n",
       "0  Perfumes para Hombre           HUGO BOSS                Boss Bottled   \n",
       "1  Perfumes para Hombre  JEAN PAUL GAULTIER  Jean Paul Gaultier Le Beau   \n",
       "2  Perfumes para Hombre              ARMANI                Acqua Di Gio   \n",
       "\n",
       "                          tipo precio_sin_desc descuento precio_con_desc  \\\n",
       "0  Eau de Toilette para hombre          69,00€       NaN          29,95€   \n",
       "1    Eau de parfum para hombre          89,50€       NaN          47,95€   \n",
       "2  Eau de Toilette para hombre          85,00€       NaN          38,95€   \n",
       "\n",
       "  valoracion  num_valoraciones  \n",
       "0        96%             571.0  \n",
       "1        94%              28.0  \n",
       "2        96%             440.0  "
      ]
     },
     "execution_count": 6,
     "metadata": {},
     "output_type": "execute_result"
    }
   ],
   "source": [
    "df_druni_clean.head(3)"
   ]
  },
  {
   "cell_type": "markdown",
   "id": "ed038ba5-8c36-4eb1-b676-98277a18ff55",
   "metadata": {},
   "source": [
    "### Añado la columna tienda:"
   ]
  },
  {
   "cell_type": "code",
   "execution_count": 7,
   "id": "4bd7764d-6202-4e02-8690-fc2147b4dc74",
   "metadata": {
    "tags": []
   },
   "outputs": [],
   "source": [
    "df_druni_clean.insert(0, 'tienda', \"druni\")"
   ]
  },
  {
   "cell_type": "markdown",
   "id": "8f0745ef-a64a-461c-8f34-d78870ccaf51",
   "metadata": {},
   "source": [
    "### Paso las columnas a minusculas:"
   ]
  },
  {
   "cell_type": "code",
   "execution_count": 8,
   "id": "f0d0a78a-9f34-4bf6-9104-cf0c7feaac15",
   "metadata": {},
   "outputs": [],
   "source": [
    "def convertir_a_minusculas(valor):\n",
    "    if isinstance(valor, str):\n",
    "        return valor.lower()\n",
    "    return valor\n",
    "\n",
    "df_druni_clean = df_druni_clean.map(convertir_a_minusculas)"
   ]
  },
  {
   "cell_type": "markdown",
   "id": "a7d087ab-0a8e-4cd6-a41e-b741cb90d3be",
   "metadata": {},
   "source": [
    "### Limpio las columnas marca y nombre"
   ]
  },
  {
   "cell_type": "code",
   "execution_count": 9,
   "id": "1f341687-a978-4ec4-bb46-e50101e23494",
   "metadata": {
    "tags": []
   },
   "outputs": [
    {
     "data": {
      "text/plain": [
       "array(['hugo boss', 'jean paul gaultier', 'armani', 'nikos',\n",
       "       'paco rabanne', 'calvin klein', 'davidoff', 'ralph\\xa0lauren',\n",
       "       'yves saint laurent', 'carolina herrera', 'versace', 'rochas',\n",
       "       'givenchy', 'aramis', 'dior', 'montblanc', 'loewe', 'jaguar',\n",
       "       'valentino', 'scalpers', 'moschino', 'prada', 'mugler',\n",
       "       'alfa romeo', 'armand\\xa0basi', 'viktor & rolf', 'tom ford',\n",
       "       'cacharel', 'dolce & gabbana', 'hermès', 'joop', 'cerruti',\n",
       "       'azzaro', 'gucci', 'pedro del hierro', 'cartier', 'guerlain',\n",
       "       'boucheron', 'issey miyake', 'kenzo', 'tommy hilfiger', 'tous',\n",
       "       'narciso\\xa0rodriguez', 'pepe jeans', 'diesel', 'drakkar',\n",
       "       'bvlgari', 'angel\\xa0schlesser', 'fun & basics', 'halloween',\n",
       "       'trussardi', 'guess', 'lacoste', 'clinique', 'ungaro', 'hackett',\n",
       "       'abercrombie & fitch', 'head', 'sisley', 'beverly hills polo club',\n",
       "       'zadig & voltaire', 'coach', 'police', 'mandarina\\xa0duck',\n",
       "       'jimmy choo', 'f1 fragrances', 'hollister', 'el ganso',\n",
       "       'karl lagerfeld', 'biotherm', 'burberry', 'lancaster',\n",
       "       'britney spears', 'lancome', 'dkny', 'elizabeth arden',\n",
       "       'nina\\xa0ricci', 'chloe', 'courreges', 'hoss intropia',\n",
       "       'estee lauder', 'shiseido', 'cabotine', 'escada', 'lanvin',\n",
       "       'nº\\xa04711', 'eau my bb', 'alyssa ashley', 'marc jacobs',\n",
       "       'giorgio beverly hills', 'roberto cavalli', 'michael kors',\n",
       "       'lolita\\xa0lempicka', 'oscar de la renta', 'roberto torretta',\n",
       "       'devota & lomba', 'sophie la girafe', 'lua & lee', 'tiffany',\n",
       "       \"l' atelier parfum paris\", 'elle', 'chopard', 'agatha paris',\n",
       "       'gianfranco\\xa0ferre', 'balenciaga', 'van cleef & arpels'],\n",
       "      dtype=object)"
      ]
     },
     "execution_count": 9,
     "metadata": {},
     "output_type": "execute_result"
    }
   ],
   "source": [
    "df_druni_clean[\"marca\"].unique()"
   ]
  },
  {
   "cell_type": "code",
   "execution_count": 10,
   "id": "838c6158-cc88-4e7a-9d5c-759180084a24",
   "metadata": {
    "tags": []
   },
   "outputs": [],
   "source": [
    "df_druni_clean[\"marca\"] = df_druni_clean[\"marca\"].str.replace(\"\\xa0\", \" \")\n",
    "df_druni_clean[\"nombre\"] = df_druni_clean[\"nombre\"].str.replace(\"\\xa0\", \" \")"
   ]
  },
  {
   "cell_type": "markdown",
   "id": "eaefe53f-bc26-4f5b-95b4-3930c764f5a4",
   "metadata": {},
   "source": [
    "### Limpio categoria"
   ]
  },
  {
   "cell_type": "code",
   "execution_count": 11,
   "id": "645d33d1-ab9e-4ee7-a528-799f00a63a1f",
   "metadata": {
    "tags": []
   },
   "outputs": [
    {
     "data": {
      "text/plain": [
       "array(['Perfumes para Hombre', 'Perfumes para Mujer'], dtype=object)"
      ]
     },
     "execution_count": 11,
     "metadata": {},
     "output_type": "execute_result"
    }
   ],
   "source": [
    "df_druni[\"categoria\"].unique()"
   ]
  },
  {
   "cell_type": "code",
   "execution_count": 12,
   "id": "d7fde289-9aab-47da-970d-9d4de00eea61",
   "metadata": {
    "tags": []
   },
   "outputs": [],
   "source": [
    "df_druni_clean['categoria'] = df_druni_clean['categoria'].str.replace('perfumes para hombre', 'hombre')\n",
    "df_druni_clean['categoria'] = df_druni_clean['categoria'].str.replace('perfumes para mujer', 'mujer')"
   ]
  },
  {
   "cell_type": "markdown",
   "id": "d0a7661d-7913-4602-bc14-1b402c9e8d60",
   "metadata": {},
   "source": [
    "### Limpiamos la columna \"tipo\" agrupando:"
   ]
  },
  {
   "cell_type": "code",
   "execution_count": 13,
   "id": "593495b1-1688-4fee-9e7a-4e385fb43a95",
   "metadata": {
    "tags": []
   },
   "outputs": [
    {
     "data": {
      "text/plain": [
       "tipo\n",
       "eau de parfum para mujer                  439\n",
       "eau de toilette para hombre               273\n",
       "eau de toilette para mujer                240\n",
       "eau de parfum para hombre                 134\n",
       "eau de toilette unisex                     42\n",
       "                                         ... \n",
       "eau de toilette para niños y mamás          1\n",
       "bruma corporal con destellos plateados      1\n",
       "crema corporal perfumada para mujer         1\n",
       "eau de parfum para mujer recargable         1\n",
       "leche corporal perfumada                    1\n",
       "Name: count, Length: 100, dtype: int64"
      ]
     },
     "execution_count": 13,
     "metadata": {},
     "output_type": "execute_result"
    }
   ],
   "source": [
    "df_druni_clean[\"tipo\"].value_counts()"
   ]
  },
  {
   "cell_type": "code",
   "execution_count": 14,
   "id": "2e464237-d54e-405e-ad8d-9c0decd3a66c",
   "metadata": {
    "tags": []
   },
   "outputs": [],
   "source": [
    "def mapear_tipos_y_limpiar(df):\n",
    "\n",
    "    mapping = {\n",
    "        'eau de parfum para mujer'                                      : 'eau de parfum',\n",
    "        'eau de toilette para hombre'                                   : 'eau de toilette',\n",
    "        'eau de toilette para mujer'                                    : 'eau de toilette',\n",
    "        'eau de parfum para hombre'                                     : 'eau de parfum',\n",
    "        'eau de toilette unisex'                                        : 'eau de toilette',\n",
    "        'desodorante en spray para hombre'                              : 'desodorante',\n",
    "        'parfum para hombre'                                            : 'parfum',\n",
    "        'eau de parfum'                                                 : 'eau de parfum',\n",
    "        'eau de toilette infantil'                                      : 'eau de toilette',\n",
    "        'eau de parfum unisex'                                          : 'eau de parfum',\n",
    "        'eau de parfum intense para mujer'                              : 'eau de parfum',\n",
    "        'loción para después del afeitado'                              : 'loción afeitado',\n",
    "        'spray corporal'                                                : 'spray corporal',\n",
    "        'desodorante en stick para hombre'                              : 'desodorante',\n",
    "        'recarga eau de parfum para mujer'                              : 'eau de parfum',\n",
    "        'parfum para mujer'                                             : 'parfum',\n",
    "        'eau de toilette'                                               : 'eau de toilette',\n",
    "        'eau de toilette intense para hombre'                           : 'eau de toilette',\n",
    "        'bálsamo para después del afeitado'                             : 'bálsamo afeitado',\n",
    "        'eua de parfum para mujer'                                      : 'eau de parfum',\n",
    "        'eau de cologne para mujer'                                     : 'eau de cologne',\n",
    "        'gel de ducha para mujer'                                       : 'gel de ducha',\n",
    "        'loción corporal para mujer'                                    : 'loción corporal',\n",
    "        'leche corporal para mujer'                                     : 'leche corporal',\n",
    "        'eau de cologne unisex'                                         : 'eau de cologne',\n",
    "        'recarga eau de toilette para mujer'                            : 'eau de toilette',\n",
    "        'eau de parfum intense para hombre'                             : 'eau de parfum',\n",
    "        'desodorante en spray para mujer'                               : 'desodorante',\n",
    "        'recarga parfum'                                                : 'parfum',\n",
    "        'eau de cologne infantil'                                       : 'eau de cologne',\n",
    "        'crema corporal perfumada'                                      : 'crema corporal',\n",
    "        'eau de parfum infinissime'                                     : 'eau de parfum',\n",
    "        'gel de ducha perfumado'                                        : 'gel de ducha',\n",
    "        'eau de parfum extreme para hombre'                             : 'eau de parfum',\n",
    "        'eau de cologne para hombre'                                    : 'eau de cologne',\n",
    "        'desodorante perfumado para mujer'                              : 'desodorante',\n",
    "        'recarga eau de parfum'                                         : 'eau de parfum',\n",
    "        'recarga parfum para hombre'                                    : 'parfum',\n",
    "        'spray corporal para mujer'                                     : 'spray corporal',\n",
    "        'loción para el cuerpo perfumado'                               : 'loción corporal',\n",
    "        'desodorante en spray'                                          : 'desodorante',\n",
    "        'eau de toilette para ella'                                     : 'eau de toilette',\n",
    "        'eau de parfum fraiche'                                         : 'eau de parfum',\n",
    "        'básicos para el bebé'                                          : 'productos para bebé',\n",
    "        'essence de parfum para mujer'                                  : 'eau de parfum',\n",
    "        'desodorante para mujer'                                        : 'desodorante',\n",
    "        'eau de toilette recargable'                                    : 'eau de toilette',\n",
    "        'eau de toilette unisex edición limitada'                       : 'eau de toilette',\n",
    "        'eau de toilette de mujer'                                      : 'eau de toilette',\n",
    "        'eau de toilette infantil para niñas'                           : 'eau de toilette',\n",
    "        'eau de soin parfumée infantil'                                 : 'eau de toilette',\n",
    "        'eau de parfum intenso para mujer'                              : 'eau de parfum',\n",
    "        'eau de toilette para niños'                                    : 'eau de toilette',\n",
    "        'gel de baño perfumado'                                         : 'gel de ducha',\n",
    "        'eau de toilette infantill'                                     : 'eau de toilette',\n",
    "        'leche corporal perfumada para mujer'                           : 'leche corporal',\n",
    "        'recarga eau de parfum divine'                                  : 'eau de parfum',\n",
    "        'eau de toilette roller-pearl'                                  : 'eau de toilette',\n",
    "        'eua de toilette para mujer'                                    : 'eau de toilette',\n",
    "        'loción corporal perfumada'                                     : 'loción corporal',\n",
    "        'eau de parfum fraiche para mujer'                              : 'eau de parfum',\n",
    "        'locion corporal para mujer'                                    : 'loción corporal',\n",
    "        'eau de parfum sin alcohol'                                     : 'eau de parfum',\n",
    "        'eau de toilette para mujer edición limitada'                   : 'eau de toilette',\n",
    "        'eau de toilette infantil para niños'                           : 'eau de toilette',\n",
    "        'eau de toillete para mujer'                                    : 'eau de toilette',\n",
    "        'recarga eau de parfum intense para mujer'                      : 'eau de parfum',\n",
    "        'eau de toilette  para hombre'                                  : 'eau de toilette',\n",
    "        'recarga eau de parfum para hombre'                             : 'eau de parfum',\n",
    "        'tratamiento hidratante para rostro y barba'                    : 'cuidado facial y de barba',\n",
    "        'eau de parfum hombre'                                          : 'eau de parfum',\n",
    "        'desodorante en barra perfumado'                                : 'desodorante',\n",
    "        'desodorante en spray perfumado'                                : 'desodorante',\n",
    "        'recarga eau de toilette para hombre'                           : 'eau de toilette',\n",
    "        'eau de toilette intensa para hombre'                           : 'eau de toilette',\n",
    "        'bálsamo after-shave perfumado'                                 : 'bálsamo para afeitado',\n",
    "        'eau de toilette perfume para hombre'                           : 'eau de toilette',\n",
    "        'recarga eau de parfum intense'                                 : 'eau de parfum',\n",
    "        'le parfum para hombre'                                         : 'parfum para hombre',\n",
    "        'parfum intense para hombre'                                    : 'parfum para hombre',\n",
    "        'perfume intenso para hombre'                                   : 'eau de parfum',\n",
    "        'recarga eau de toilette'                                       : 'eau de toilette',\n",
    "        'crema para el afeitado'                                        : 'cuidado para afeitado',\n",
    "        'limpiador facial 2 en 1 limpiador y mascarilla facial'         : 'limpiador facial',\n",
    "        'desodorante en crema unisex de uso diario'                     : 'desodorante',\n",
    "        'desodorante en roll on'                                        : 'desodorante',\n",
    "        'desodorante en crema para pieles sensibles'                    : 'desodorante',\n",
    "        'bruma corporal con destellos dorados'                          : 'bruma corporal',\n",
    "        'eau de parfum para mujer'                                      : 'eau de parfum',\n",
    "        'loción corporal hidratante'                                    : 'loción corporal',\n",
    "        'crema corporal para mujer'                                     : 'crema corporal',\n",
    "        'eau de parfum recargable para mujer'                           : 'eau de parfum',\n",
    "        'loción corporal hidratante y perfumada'                        : 'loción corporal',\n",
    "        'eau de toilette para niños y mamás'                            : 'eau de toilette',\n",
    "        'bruma corporal con destellos plateados'                        : 'bruma corporal',\n",
    "        'crema corporal perfumada para mujer'                           : 'crema corporal',\n",
    "        'eau de parfum para mujer recargable'                           : 'eau de parfum',\n",
    "        'leche corporal perfumada'                                      : 'leche corporal',\n",
    "        \"desodorante perfumado\"                                         : \"desodorante\",\n",
    "        \"eua de parfum\"                                                 : \"eau de parfum\",\n",
    "        \"para niñas\"                                                    : \"\",\n",
    "        \"edición limitada\"                                              : \"\",\n",
    "        \"recargable\"                                                    : \"\",\n",
    "        \"\\xa0\"                                                          : \"\",\n",
    "        \"le parfum\"                                                     : \"\",\n",
    "        \"y mamás\"                                                       : \"\",\n",
    "        \"toilettel\"                                                     : \"toilette\",\n",
    "        \"essence de parfum\"                                             : \"parfum\",\n",
    "        \"divine\"                                                        : \"\",\n",
    "        \"para mujer\"                                                    : \"\",\n",
    "        \"para hombre\"                                                   : \"\",\n",
    "        \"intense\"                                                       : \"\",\n",
    "        \"niñas\"                                                         : \"\",\n",
    "        \"intense\"                                                       : \"\",\n",
    "        \"deparfum\"                                                      : \"de parfum\",\n",
    "        \"extreme\": \"\",\n",
    "        \"intenso\": \"\",\n",
    "        \"eau de toilette parfum\": \"eau de toilette\",\n",
    "        \"intensa\": \"\",\n",
    "        \"\": \"\",\n",
    "\n",
    "\n",
    "\n",
    "    }\n",
    "\n",
    "    for name, replacement in mapping.items():\n",
    "        df['tipo'] = df['tipo'].str.replace(name, replacement, regex=False)\n",
    "\n",
    "    df['tipo'] = df['tipo'].str.strip()\n",
    "    \n",
    "    return df"
   ]
  },
  {
   "cell_type": "code",
   "execution_count": null,
   "id": "e1839489-7612-4c9d-bdd6-0f9dbd537881",
   "metadata": {},
   "outputs": [],
   "source": [
    "df_druni_clean = mapear_tipos_y_limpiar(df_druni_clean)"
   ]
  },
  {
   "cell_type": "code",
   "execution_count": 15,
   "id": "03ebb1c9-8580-4208-b61f-c2e9b0acdfb3",
   "metadata": {},
   "outputs": [
    {
     "data": {
      "text/plain": [
       "tipo\n",
       "eau de parfum                  648\n",
       "eau de toilette                607\n",
       "desodorante                     37\n",
       "parfum                          31\n",
       "eau de cologne                  11\n",
       "spray corporal                  11\n",
       "loción afeitado                  9\n",
       "loción corporal                  7\n",
       "gel de ducha                     7\n",
       "bálsamo afeitado                 6\n",
       "leche corporal                   5\n",
       "crema corporal                   4\n",
       "bruma corporal                   2\n",
       "loción coporal hidratante        1\n",
       "loción corporal y perfumada      1\n",
       "cuidado facial y de barba        1\n",
       "limpiador facial                 1\n",
       "cuidado para afeitado            1\n",
       "bálsamo para afeitado            1\n",
       "                                 1\n",
       "productos para bebé              1\n",
       "Name: count, dtype: int64"
      ]
     },
     "execution_count": 15,
     "metadata": {},
     "output_type": "execute_result"
    }
   ],
   "source": [
    "df_druni_clean[\"tipo\"].value_counts()"
   ]
  },
  {
   "cell_type": "markdown",
   "id": "5759020e-849f-45be-ba59-e046f26cb6cf",
   "metadata": {},
   "source": [
    "### Cambio la columna valoración al standard de 5 estrellas"
   ]
  },
  {
   "cell_type": "code",
   "execution_count": 240,
   "id": "9b7e855e-62b0-483d-ae59-5e57cedef2c9",
   "metadata": {
    "tags": []
   },
   "outputs": [],
   "source": [
    "def escalar_valoracion(val):\n",
    "    valoracion = (5/100)*val\n",
    "    return valoracion"
   ]
  },
  {
   "cell_type": "code",
   "execution_count": 241,
   "id": "223a0a47-689c-4acd-8183-b6806a1efb1e",
   "metadata": {
    "tags": []
   },
   "outputs": [],
   "source": [
    "# Limpio la columna valoracion y la paso a float:\n",
    "\n",
    "df_druni_clean[\"valoracion\"] = df_druni_clean[\"valoracion\"].str.replace(\"%\",\"\").replace(\"sin rating\", np.nan).astype(\"float\")"
   ]
  },
  {
   "cell_type": "code",
   "execution_count": 242,
   "id": "9af42d47-bc2f-40d8-9f02-850a3f65452d",
   "metadata": {
    "tags": []
   },
   "outputs": [],
   "source": [
    "# Reescalo la valoración:\n",
    "\n",
    "df_druni_clean[\"valoracion\"] = df_druni_clean[\"valoracion\"].apply(escalar_valoracion)\n",
    "df_druni_clean[\"valoracion\"] = df_druni_clean[\"valoracion\"].apply(lambda x: round(x,2))"
   ]
  },
  {
   "cell_type": "markdown",
   "id": "5f230c99-f7be-4173-918b-375dde4dda7f",
   "metadata": {},
   "source": [
    "### Limpio las columnas de precios:"
   ]
  },
  {
   "cell_type": "code",
   "execution_count": 243,
   "id": "d1813524-142a-449e-9a4e-6d88a1678741",
   "metadata": {
    "tags": []
   },
   "outputs": [
    {
     "data": {
      "text/html": [
       "<div>\n",
       "<style scoped>\n",
       "    .dataframe tbody tr th:only-of-type {\n",
       "        vertical-align: middle;\n",
       "    }\n",
       "\n",
       "    .dataframe tbody tr th {\n",
       "        vertical-align: top;\n",
       "    }\n",
       "\n",
       "    .dataframe thead th {\n",
       "        text-align: right;\n",
       "    }\n",
       "</style>\n",
       "<table border=\"1\" class=\"dataframe\">\n",
       "  <thead>\n",
       "    <tr style=\"text-align: right;\">\n",
       "      <th></th>\n",
       "      <th>tienda</th>\n",
       "      <th>categoria</th>\n",
       "      <th>marca</th>\n",
       "      <th>nombre</th>\n",
       "      <th>tipo</th>\n",
       "      <th>precio_sin_desc</th>\n",
       "      <th>descuento</th>\n",
       "      <th>precio_con_desc</th>\n",
       "      <th>valoracion</th>\n",
       "      <th>num_valoraciones</th>\n",
       "    </tr>\n",
       "  </thead>\n",
       "  <tbody>\n",
       "    <tr>\n",
       "      <th>0</th>\n",
       "      <td>druni</td>\n",
       "      <td>hombre</td>\n",
       "      <td>hugo boss</td>\n",
       "      <td>boss bottled</td>\n",
       "      <td>eau de toilette</td>\n",
       "      <td>69,00€</td>\n",
       "      <td>NaN</td>\n",
       "      <td>29,95€</td>\n",
       "      <td>4.8</td>\n",
       "      <td>571.0</td>\n",
       "    </tr>\n",
       "    <tr>\n",
       "      <th>1</th>\n",
       "      <td>druni</td>\n",
       "      <td>hombre</td>\n",
       "      <td>jean paul gaultier</td>\n",
       "      <td>jean paul gaultier le beau</td>\n",
       "      <td>eau de parfum</td>\n",
       "      <td>89,50€</td>\n",
       "      <td>NaN</td>\n",
       "      <td>47,95€</td>\n",
       "      <td>4.7</td>\n",
       "      <td>28.0</td>\n",
       "    </tr>\n",
       "    <tr>\n",
       "      <th>2</th>\n",
       "      <td>druni</td>\n",
       "      <td>hombre</td>\n",
       "      <td>armani</td>\n",
       "      <td>acqua di gio</td>\n",
       "      <td>eau de toilette</td>\n",
       "      <td>85,00€</td>\n",
       "      <td>NaN</td>\n",
       "      <td>38,95€</td>\n",
       "      <td>4.8</td>\n",
       "      <td>440.0</td>\n",
       "    </tr>\n",
       "  </tbody>\n",
       "</table>\n",
       "</div>"
      ],
      "text/plain": [
       "  tienda categoria               marca                      nombre  \\\n",
       "0  druni    hombre           hugo boss                boss bottled   \n",
       "1  druni    hombre  jean paul gaultier  jean paul gaultier le beau   \n",
       "2  druni    hombre              armani                acqua di gio   \n",
       "\n",
       "              tipo precio_sin_desc descuento precio_con_desc  valoracion  \\\n",
       "0  eau de toilette          69,00€       NaN          29,95€         4.8   \n",
       "1    eau de parfum          89,50€       NaN          47,95€         4.7   \n",
       "2  eau de toilette          85,00€       NaN          38,95€         4.8   \n",
       "\n",
       "   num_valoraciones  \n",
       "0             571.0  \n",
       "1              28.0  \n",
       "2             440.0  "
      ]
     },
     "execution_count": 243,
     "metadata": {},
     "output_type": "execute_result"
    }
   ],
   "source": [
    "df_druni_clean.head(3)"
   ]
  },
  {
   "cell_type": "code",
   "execution_count": 244,
   "id": "41eba384-e4c9-4eae-ac95-1630d62dde0f",
   "metadata": {
    "tags": []
   },
   "outputs": [],
   "source": [
    "df_druni_clean[\"precio_sin_desc\"] = df_druni_clean[\"precio_sin_desc\"].str.replace(\"€\",\"\").str.replace(\",\",\".\").replace(\"sin precio\",np.nan)\n",
    "# Se hace una comprobación en la página para corroborar que es un error y se corrige:\n",
    "df_druni_clean[\"precio_sin_desc\"] = df_druni_clean[\"precio_sin_desc\"].str.replace(\"16.600.00\",\"166\")\n",
    "\n",
    "df_druni_clean[\"precio_sin_desc\"] = df_druni_clean[\"precio_sin_desc\"].astype(\"float\")\n",
    "df_druni_clean[\"precio_con_desc\"] = df_druni_clean[\"precio_con_desc\"].str.replace(\"€\",\"\").str.replace(\",\",\".\").replace(\"sin precio\",np.nan).astype(\"float\")"
   ]
  },
  {
   "cell_type": "markdown",
   "id": "2fbd19ed-3307-432e-93f5-24fe3ac3ffda",
   "metadata": {},
   "source": [
    "- Elimino la columna descuento y creo otra a partir del precio con y sin descuento"
   ]
  },
  {
   "cell_type": "code",
   "execution_count": 245,
   "id": "bdf27638-2363-4449-b206-71d66c8b3cbc",
   "metadata": {
    "tags": []
   },
   "outputs": [],
   "source": [
    "def porcentaje_descuento(con_desc, sin_desc):\n",
    "    descuento = 100 - (con_desc/sin_desc)*100\n",
    "    return descuento"
   ]
  },
  {
   "cell_type": "code",
   "execution_count": 246,
   "id": "4e8c1544-63a0-4b07-b952-e85b069c088b",
   "metadata": {
    "tags": []
   },
   "outputs": [],
   "source": [
    "df_druni_clean = df_druni_clean.drop([\"descuento\"], axis=1)"
   ]
  },
  {
   "cell_type": "code",
   "execution_count": 247,
   "id": "23b6bffe-9fe1-4075-9e83-c251533971a7",
   "metadata": {
    "tags": []
   },
   "outputs": [],
   "source": [
    "descuentos = []\n",
    "for con, sin in zip(df_druni_clean[\"precio_con_desc\"], df_druni_clean[\"precio_sin_desc\"]):\n",
    "    try:\n",
    "        descuento = round(porcentaje_descuento(con, sin))\n",
    "        descuentos.append(descuento)\n",
    "    except:\n",
    "        descuentos.append(np.nan)"
   ]
  },
  {
   "cell_type": "code",
   "execution_count": 248,
   "id": "69c02842-8f0c-4dc8-aaf0-40fd5d5da101",
   "metadata": {
    "tags": []
   },
   "outputs": [],
   "source": [
    "df_druni_clean.insert(5, \"descuento\", descuentos)"
   ]
  },
  {
   "cell_type": "code",
   "execution_count": 249,
   "id": "12738f94-8675-45bd-9858-a511fb38aeef",
   "metadata": {
    "tags": []
   },
   "outputs": [
    {
     "data": {
      "text/html": [
       "<div>\n",
       "<style scoped>\n",
       "    .dataframe tbody tr th:only-of-type {\n",
       "        vertical-align: middle;\n",
       "    }\n",
       "\n",
       "    .dataframe tbody tr th {\n",
       "        vertical-align: top;\n",
       "    }\n",
       "\n",
       "    .dataframe thead th {\n",
       "        text-align: right;\n",
       "    }\n",
       "</style>\n",
       "<table border=\"1\" class=\"dataframe\">\n",
       "  <thead>\n",
       "    <tr style=\"text-align: right;\">\n",
       "      <th></th>\n",
       "      <th>tienda</th>\n",
       "      <th>categoria</th>\n",
       "      <th>marca</th>\n",
       "      <th>nombre</th>\n",
       "      <th>tipo</th>\n",
       "      <th>descuento</th>\n",
       "      <th>precio_sin_desc</th>\n",
       "      <th>precio_con_desc</th>\n",
       "      <th>valoracion</th>\n",
       "      <th>num_valoraciones</th>\n",
       "    </tr>\n",
       "  </thead>\n",
       "  <tbody>\n",
       "    <tr>\n",
       "      <th>0</th>\n",
       "      <td>druni</td>\n",
       "      <td>hombre</td>\n",
       "      <td>hugo boss</td>\n",
       "      <td>boss bottled</td>\n",
       "      <td>eau de toilette</td>\n",
       "      <td>57.0</td>\n",
       "      <td>69.0</td>\n",
       "      <td>29.95</td>\n",
       "      <td>4.8</td>\n",
       "      <td>571.0</td>\n",
       "    </tr>\n",
       "    <tr>\n",
       "      <th>1</th>\n",
       "      <td>druni</td>\n",
       "      <td>hombre</td>\n",
       "      <td>jean paul gaultier</td>\n",
       "      <td>jean paul gaultier le beau</td>\n",
       "      <td>eau de parfum</td>\n",
       "      <td>46.0</td>\n",
       "      <td>89.5</td>\n",
       "      <td>47.95</td>\n",
       "      <td>4.7</td>\n",
       "      <td>28.0</td>\n",
       "    </tr>\n",
       "    <tr>\n",
       "      <th>2</th>\n",
       "      <td>druni</td>\n",
       "      <td>hombre</td>\n",
       "      <td>armani</td>\n",
       "      <td>acqua di gio</td>\n",
       "      <td>eau de toilette</td>\n",
       "      <td>54.0</td>\n",
       "      <td>85.0</td>\n",
       "      <td>38.95</td>\n",
       "      <td>4.8</td>\n",
       "      <td>440.0</td>\n",
       "    </tr>\n",
       "  </tbody>\n",
       "</table>\n",
       "</div>"
      ],
      "text/plain": [
       "  tienda categoria               marca                      nombre  \\\n",
       "0  druni    hombre           hugo boss                boss bottled   \n",
       "1  druni    hombre  jean paul gaultier  jean paul gaultier le beau   \n",
       "2  druni    hombre              armani                acqua di gio   \n",
       "\n",
       "              tipo  descuento  precio_sin_desc  precio_con_desc  valoracion  \\\n",
       "0  eau de toilette       57.0             69.0            29.95         4.8   \n",
       "1    eau de parfum       46.0             89.5            47.95         4.7   \n",
       "2  eau de toilette       54.0             85.0            38.95         4.8   \n",
       "\n",
       "   num_valoraciones  \n",
       "0             571.0  \n",
       "1              28.0  \n",
       "2             440.0  "
      ]
     },
     "execution_count": 249,
     "metadata": {},
     "output_type": "execute_result"
    }
   ],
   "source": [
    "df_druni_clean.head(3)"
   ]
  },
  {
   "cell_type": "markdown",
   "id": "d387e867-f220-4bf4-8f9c-067363ed3632",
   "metadata": {},
   "source": [
    "### Dropeo NaN's"
   ]
  },
  {
   "cell_type": "code",
   "execution_count": 250,
   "id": "165d7872-e18d-40ed-8a7c-e8311a42e9ae",
   "metadata": {
    "tags": []
   },
   "outputs": [],
   "source": [
    "df_druni_clean = df_druni_clean.dropna(subset= [\"precio_sin_desc\"])"
   ]
  },
  {
   "cell_type": "code",
   "execution_count": 251,
   "id": "6eaf1f86-cbc8-4656-a3bc-4b7bd7ddb094",
   "metadata": {
    "tags": []
   },
   "outputs": [
    {
     "data": {
      "text/plain": [
       "0"
      ]
     },
     "execution_count": 251,
     "metadata": {},
     "output_type": "execute_result"
    }
   ],
   "source": [
    "df_druni_clean.duplicated().sum()"
   ]
  },
  {
   "cell_type": "markdown",
   "id": "eacdd60b-1ba7-42b3-a95c-5d33fe9bf37f",
   "metadata": {},
   "source": [
    "### Filtro por los tipos sobre los que vamos a trabajar:"
   ]
  },
  {
   "cell_type": "code",
   "execution_count": 252,
   "id": "211b2782-c6ab-4ee1-bb52-c9553b2980fc",
   "metadata": {},
   "outputs": [],
   "source": [
    "lista_tipos = ['eau de parfum', 'eau de toilette', 'parfum', 'eau de cologne']\n",
    "df_druni_clean = df_druni_clean[df_druni_clean[\"tipo\"].isin(lista_tipos)].reset_index(drop=True)"
   ]
  },
  {
   "cell_type": "markdown",
   "id": "411dcc0b-d79b-404a-b36e-f731ec527ac9",
   "metadata": {},
   "source": [
    "# GUARDO A CSV:"
   ]
  },
  {
   "cell_type": "code",
   "execution_count": 253,
   "id": "91a79471-c949-4375-be27-e243deef5215",
   "metadata": {
    "tags": []
   },
   "outputs": [],
   "source": [
    "df_druni_clean.to_csv(\"datos_perfumes_druni_filtrados.csv\", index=False, sep= \",\")"
   ]
  }
 ],
 "metadata": {
  "kernelspec": {
   "display_name": "Python 3 (ipykernel)",
   "language": "python",
   "name": "python3"
  },
  "language_info": {
   "codemirror_mode": {
    "name": "ipython",
    "version": 3
   },
   "file_extension": ".py",
   "mimetype": "text/x-python",
   "name": "python",
   "nbconvert_exporter": "python",
   "pygments_lexer": "ipython3",
   "version": "3.11.5"
  }
 },
 "nbformat": 4,
 "nbformat_minor": 5
}
