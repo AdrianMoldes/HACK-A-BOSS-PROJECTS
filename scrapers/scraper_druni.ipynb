{
 "cells": [
  {
   "cell_type": "code",
   "execution_count": 2,
   "id": "26d227fd-3b00-4640-9ddc-26d1f6b84743",
   "metadata": {
    "tags": []
   },
   "outputs": [],
   "source": [
    "import requests \n",
    "\n",
    "from bs4 import BeautifulSoup\n",
    "import selenium\n",
    "from selenium import webdriver\n",
    "from selenium.webdriver.common.by import By\n",
    "from selenium.webdriver.common.keys import Keys\n",
    "from selenium.webdriver.chrome.options import Options\n",
    "\n",
    "from time import sleep\n",
    "import pandas as pd\n",
    "import numpy as np\n",
    "\n",
    "# Para visualizar el progreso:\n",
    "import tqdm"
   ]
  },
  {
   "cell_type": "markdown",
   "id": "3ceeede4-043a-459c-abae-5dd5105c93d3",
   "metadata": {},
   "source": [
    "# FUNCIONES SCRAPING:\n",
    "### nota--> esto se podría haber hecho en una única función donde, a medida que se va pasando por cada página, se extrae la información de cada producto."
   ]
  },
  {
   "cell_type": "markdown",
   "id": "078b2bb8-34c1-433d-898d-249bc474fad1",
   "metadata": {},
   "source": [
    "- URLS"
   ]
  },
  {
   "cell_type": "code",
   "execution_count": 5,
   "id": "6e62c024-3f0d-404f-b6e4-e97f4884e506",
   "metadata": {
    "tags": []
   },
   "outputs": [],
   "source": [
    "def iniciar_scraper(user_agent, elementos_busqueda):\n",
    "    \n",
    "    # Options:\n",
    "    opts = Options()\n",
    "    opts.add_argument(\"--disable-extensions\")\n",
    "    opts.add_argument(f\"User-Agent={user_agent}\")\n",
    "    \n",
    "    # Initialize:\n",
    "    browser = webdriver.Chrome(options=opts)\n",
    "    browser.maximize_window()\n",
    "    sleep(5)\n",
    "    \n",
    "    urls_paginas_perfumes = []\n",
    "    \n",
    "    inicio = 1\n",
    "    for elemento in elementos_busqueda:\n",
    "    \n",
    "        scrape_url = f\"https://www.druni.es/perfumes/{elemento}\"   \n",
    "\n",
    "        browser.get(scrape_url)\n",
    "        sleep(5)###########################################################################\n",
    "        \n",
    "        #Acepto cookies:\n",
    "        if inicio == 1:            \n",
    "            browser.find_element(By.CLASS_NAME, \"cn-buttons\").click()\n",
    "            sleep(6)########################################################################\n",
    "\n",
    "        urls_paginas_perfumes.append(scrape_url)\n",
    "\n",
    "        while True:\n",
    "\n",
    "            if not browser.current_url == scrape_url:\n",
    "                browser.get(scrape_url)\n",
    "                sleep(5)\n",
    "\n",
    "            soup = BeautifulSoup(browser.page_source, \"html.parser\")\n",
    "\n",
    "            try:\n",
    "                scrape_url = soup.find(\"ul\", class_= \"items pages-items\").find_all(\"li\")[-1].find(\"a\")[\"href\"]\n",
    "                urls_paginas_perfumes.append(scrape_url)\n",
    "                sleep(1)\n",
    "            except:\n",
    "                break\n",
    "                \n",
    "        inicio += 1\n",
    "    ############################################################################################################    \n",
    "    browser.close()    \n",
    "    return urls_paginas_perfumes\n",
    "\n"
   ]
  },
  {
   "cell_type": "markdown",
   "id": "e8bbb766-2ca4-4354-b120-2ccd4b00dbec",
   "metadata": {},
   "source": [
    "- FUNCIÓN INFO:"
   ]
  },
  {
   "cell_type": "code",
   "execution_count": 1,
   "id": "0214ea0f-1a0e-4b14-8a76-917ebb3d0d83",
   "metadata": {
    "tags": []
   },
   "outputs": [],
   "source": [
    "def scrape_info(url):\n",
    "    \n",
    "    response = requests.get(url)\n",
    "    sleep(10)\n",
    "    soup = BeautifulSoup(response.text, \"html.parser\")\n",
    "    \n",
    "    productos = soup.find_all(\"div\", class_= \"product-item-info\")\n",
    "    \n",
    "    cat = soup.find(\"h1\", class_= \"page-title\").find(\"span\", class_= \"base\").text\n",
    "    \n",
    "    info_productos = []\n",
    "    \n",
    "    for producto in productos:\n",
    "        \n",
    "        categoria = cat\n",
    "        \n",
    "        try:\n",
    "            marca = producto.find(\"p\", class_= \"product-brand\").text\n",
    "        except:\n",
    "            marca = \"Sin marca\"\n",
    "            \n",
    "        try:\n",
    "            nombre = producto.find(\"strong\", class_= \"product name product-item-name\").text.strip()\n",
    "        except:\n",
    "            nombre = \"Sin nombre\"\n",
    "        \n",
    "        try:\n",
    "            tipo = producto.find(\"div\", class_= \"product description product-item-description\").text.strip()\n",
    "        except:\n",
    "            tipo = \"Sin categoria\"           \n",
    "            \n",
    "        try:\n",
    "            precio_sin_desc = producto.find(\"span\", class_= \"price-container tax weee\").find(\"span\", class_= \"price-wrapper\").text.replace(\"\\xa0\", \"\")\n",
    "        except:\n",
    "            try:\n",
    "                precio_sin_desc = producto.find(\"div\", class_= \"special-old-box\").find(\"span\", class_= \"price-wrapper\").text.replace(\"\\xa0\", \"\")\n",
    "            except:\n",
    "                precio_sin_desc = \"Sin precio\"\n",
    "            \n",
    "        try:\n",
    "            descuento = producto.find(\"div\", class_= \"discount-box old-price sly-regular-price no-display\").text.strip().replace(\"-\", \"\")\n",
    "        except:\n",
    "            descuento = \"No aparece\"\n",
    "            \n",
    "        try:\n",
    "            precio_con_desc = producto.find(\"div\", class_= \"price-box\").find(\"p\", class_=\"minimal-price\").find(\"span\", class_=\"price-wrapper\").text.replace(\"\\xa0\", \"\")\n",
    "        except:\n",
    "            try:\n",
    "                precio_con_desc = producto.find(\"span\", class_= \"special-price\").find(\"span\", class_= \"price-wrapper\").text.replace(\"\\xa0\", \"\")\n",
    "            except:\n",
    "                precio_con_desc = \"Sin precio\"\n",
    "            \n",
    "            \n",
    "        try:\n",
    "            valoracion = producto.find(\"div\", class_= \"rating-result\").text.replace(\"\\n\", \"\")\n",
    "        except:\n",
    "            valoracion = \"Sin rating\"\n",
    "            \n",
    "        try:\n",
    "            num_valoraciones = producto.find(\"a\", class_= \"action view\").text.replace(\"(\", \"\").replace(\")\", \"\")\n",
    "        except:\n",
    "            num_valoraciones = \"Sin opiniones\"\n",
    "            \n",
    "        info_productos.append([categoria, marca, nombre, tipo, precio_sin_desc, descuento, precio_con_desc, valoracion, num_valoraciones])\n",
    "\n",
    "    return info_productos   "
   ]
  },
  {
   "cell_type": "code",
   "execution_count": 13,
   "id": "6b8d37b2-f789-4b19-a2e6-35f82e31c056",
   "metadata": {
    "tags": []
   },
   "outputs": [],
   "source": [
    "######################################################################################################################################################"
   ]
  },
  {
   "cell_type": "code",
   "execution_count": 14,
   "id": "8d105782-e76b-48cd-a1eb-f64d2ebb3093",
   "metadata": {},
   "outputs": [],
   "source": [
    "######################################################################################################################################################"
   ]
  },
  {
   "cell_type": "markdown",
   "id": "78d79ae1-a44c-4999-8376-aba51567a559",
   "metadata": {},
   "source": [
    "# Scrapeo URLS"
   ]
  },
  {
   "cell_type": "code",
   "execution_count": 4,
   "id": "1df8f0f6-de00-4101-a071-3c10bf73bd95",
   "metadata": {
    "tags": []
   },
   "outputs": [],
   "source": [
    "# PONER EL USER-AGENT Y LOS ELEMENTOS DE BUSQUEDA:\n",
    "user_agent = \"Mozilla/5.0 (Windows NT 10.0; Win64; x64) AppleWebKit/537.36 (KHTML, like Gecko) Chrome/118.0.0.0 Safari/537.36\"\n",
    "\n",
    "busqueda = [\"hombre\", \"mujer\"]"
   ]
  },
  {
   "cell_type": "code",
   "execution_count": 7,
   "id": "a4e0b8b9-1666-4f16-9eb3-a5e0ee8d693f",
   "metadata": {
    "tags": []
   },
   "outputs": [],
   "source": [
    "# Inicio el scrapeo de las url's, guardándolas en la siguiente variable\n",
    "\n",
    "urls_totales = iniciar_scraper(user_agent, busqueda)"
   ]
  },
  {
   "cell_type": "code",
   "execution_count": 8,
   "id": "c23fc532-d0cf-4878-8cb2-2692a832733d",
   "metadata": {
    "tags": []
   },
   "outputs": [],
   "source": [
    "df_urls_perfumes = pd.DataFrame(urls_totales, columns= [\"url\"])"
   ]
  },
  {
   "cell_type": "markdown",
   "id": "e345a381-bc37-4414-bf19-cb45faa09e77",
   "metadata": {},
   "source": [
    "## CSV:"
   ]
  },
  {
   "cell_type": "code",
   "execution_count": 9,
   "id": "11ce685f-e8d5-4425-bc3e-f07ee6ab2cf9",
   "metadata": {
    "tags": []
   },
   "outputs": [],
   "source": [
    "df_urls_perfumes.to_csv(\"urls_perfumes_druni.csv\", index=\"False\", sep= \",\")"
   ]
  },
  {
   "cell_type": "code",
   "execution_count": null,
   "id": "af3232df-2769-4b7b-ac71-493de5e226e7",
   "metadata": {},
   "outputs": [],
   "source": [
    "######################################################################################################################################################"
   ]
  },
  {
   "cell_type": "code",
   "execution_count": null,
   "id": "6397d4b3-0c2e-4569-8971-b2a5cbbdec2f",
   "metadata": {},
   "outputs": [],
   "source": [
    "######################################################################################################################################################"
   ]
  },
  {
   "cell_type": "markdown",
   "id": "c220107f-f419-40a2-8013-9e51a7f81957",
   "metadata": {
    "tags": []
   },
   "source": [
    "# Scrapeo la info de todos los productos de cada página:"
   ]
  },
  {
   "cell_type": "code",
   "execution_count": 183,
   "id": "963e34e8-b179-48b0-96f2-ac505a636ea0",
   "metadata": {
    "tags": []
   },
   "outputs": [
    {
     "name": "stderr",
     "output_type": "stream",
     "text": [
      "100%|██████████| 59/59 [10:25<00:00, 10.60s/it]\n"
     ]
    }
   ],
   "source": [
    "info_productos = []\n",
    "\n",
    "for url in tqdm.tqdm(df_urls_perfumes[\"url\"].values):\n",
    "\n",
    "    info = scrape_info(url)\n",
    "    info_productos.extend(info)"
   ]
  },
  {
   "cell_type": "code",
   "execution_count": 184,
   "id": "6af27165-5d24-48c9-bc18-173d9a647c70",
   "metadata": {
    "tags": []
   },
   "outputs": [],
   "source": [
    "df_info_productos = pd.DataFrame(info_productos, columns= [\"categoria\", \"marca\", \"nombre\", \"tipo\", \"precio_sin_desc\", \"descuento\", \"precio_con_desc\", \"valoracion\", \"num_valoraciones\"] )"
   ]
  },
  {
   "cell_type": "markdown",
   "id": "cf840e1e-0a6d-4913-a54e-c1cc54f389da",
   "metadata": {
    "tags": []
   },
   "source": [
    "## CSV:"
   ]
  },
  {
   "cell_type": "code",
   "execution_count": 185,
   "id": "6bf87d7f-d8e5-4393-8517-0512f137fe7c",
   "metadata": {
    "tags": []
   },
   "outputs": [],
   "source": [
    "# df_info_productos.to_csv(\"datos_perfumes_druni.csv\", index=\"False\", sep= \",\")"
   ]
  },
  {
   "cell_type": "code",
   "execution_count": null,
   "id": "8442fc51-26ca-4fb2-ab9f-ebce5d298d2e",
   "metadata": {},
   "outputs": [],
   "source": [
    "######################################################################################################################################################"
   ]
  },
  {
   "cell_type": "code",
   "execution_count": null,
   "id": "b8173f81-691b-4662-8834-4766ac72c567",
   "metadata": {},
   "outputs": [],
   "source": [
    "######################################################################################################################################################"
   ]
  }
 ],
 "metadata": {
  "kernelspec": {
   "display_name": "Python 3 (ipykernel)",
   "language": "python",
   "name": "python3"
  },
  "language_info": {
   "codemirror_mode": {
    "name": "ipython",
    "version": 3
   },
   "file_extension": ".py",
   "mimetype": "text/x-python",
   "name": "python",
   "nbconvert_exporter": "python",
   "pygments_lexer": "ipython3",
   "version": "3.11.5"
  }
 },
 "nbformat": 4,
 "nbformat_minor": 5
}
