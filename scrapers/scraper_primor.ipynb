{
 "cells": [
  {
   "cell_type": "code",
   "execution_count": 4,
   "id": "26d227fd-3b00-4640-9ddc-26d1f6b84743",
   "metadata": {
    "tags": []
   },
   "outputs": [],
   "source": [
    "import requests \n",
    "\n",
    "from bs4 import BeautifulSoup\n",
    "import selenium\n",
    "from selenium import webdriver\n",
    "from selenium.webdriver.common.by import By\n",
    "from selenium.webdriver.common.keys import Keys\n",
    "from selenium.webdriver.chrome.options import Options\n",
    "\n",
    "from time import sleep\n",
    "import pandas as pd\n",
    "import numpy as np\n",
    "\n",
    "# Para visualizar el progreso:\n",
    "import tqdm\n",
    "\n",
    "from pyshadow.main import Shadow"
   ]
  },
  {
   "cell_type": "markdown",
   "id": "3ceeede4-043a-459c-abae-5dd5105c93d3",
   "metadata": {},
   "source": [
    "# FUNCIONES SCRAPING:"
   ]
  },
  {
   "cell_type": "markdown",
   "id": "078b2bb8-34c1-433d-898d-249bc474fad1",
   "metadata": {},
   "source": [
    "- URLS"
   ]
  },
  {
   "cell_type": "code",
   "execution_count": 2,
   "id": "6e62c024-3f0d-404f-b6e4-e97f4884e506",
   "metadata": {
    "tags": []
   },
   "outputs": [],
   "source": [
    "def iniciar_scraper(user_agent, urls):\n",
    "    \n",
    "    # Options:\n",
    "    opts = Options()\n",
    "    opts.add_argument(\"--disable-extensions\")\n",
    "    opts.add_argument(f\"User-Agent={user_agent}\")\n",
    "    \n",
    "    # Initialize:\n",
    "    browser = webdriver.Chrome(options=opts)\n",
    "    browser.maximize_window()\n",
    "    sleep(5)\n",
    "\n",
    "    urls_paginas_perfumes = []\n",
    "    \n",
    "    inicio = 1\n",
    "    \n",
    "    for url in urls:\n",
    "        \n",
    "        scrape_url = url\n",
    "        browser.get(scrape_url)\n",
    "        sleep(5)###########################################################################\n",
    "        \n",
    "        #Acepto cookies:\n",
    "        if inicio == 1:            \n",
    "            browser.find_element(By.CLASS_NAME, \"amgdprcookie-modal__link\").click()\n",
    "            sleep(6)########################################################################\n",
    "\n",
    "        urls_paginas_perfumes.append(scrape_url)\n",
    "\n",
    "        while True:\n",
    "\n",
    "            if not browser.current_url == scrape_url:\n",
    "                browser.get(scrape_url)\n",
    "                sleep(5)\n",
    "\n",
    "            soup = BeautifulSoup(browser.page_source, \"html.parser\")\n",
    "\n",
    "            try:\n",
    "                scrape_url = soup.find(\"ul\", class_= \"pager__list\").find_all(\"li\")[-1].find(\"a\")[\"href\"]\n",
    "                urls_paginas_perfumes.append(scrape_url)\n",
    "                sleep(1)\n",
    "            except:\n",
    "                break\n",
    "                \n",
    "        inicio += 1\n",
    "    ############################################################################################################    \n",
    "    browser.close()    \n",
    "    return urls_paginas_perfumes"
   ]
  },
  {
   "cell_type": "markdown",
   "id": "e8bbb766-2ca4-4354-b120-2ccd4b00dbec",
   "metadata": {},
   "source": [
    "- FUNCIÓN INFO:"
   ]
  },
  {
   "cell_type": "code",
   "execution_count": 19,
   "id": "0214ea0f-1a0e-4b14-8a76-917ebb3d0d83",
   "metadata": {
    "tags": []
   },
   "outputs": [],
   "source": [
    "def scrape_info(user_agent, url):\n",
    "    \n",
    "    response = requests.get(url)\n",
    "    sleep(10)\n",
    "    soup = BeautifulSoup(response.text, \"html.parser\")\n",
    "    \n",
    "    productos = soup.find_all(\"div\", class_= \"product-item-info\")\n",
    "    \n",
    "    cat = soup.find(\"h2\", class_= \"category-info__title\").text\n",
    "    \n",
    "    info_productos = []\n",
    "    \n",
    "    for producto in productos:\n",
    "        \n",
    "        categoria = cat\n",
    "        \n",
    "        try:\n",
    "            marca = producto.find(\"div\", class_= \"product-grid-item__brand\").text\n",
    "        except:\n",
    "            marca = \"Sin marca\"\n",
    "            \n",
    "        try:\n",
    "            nombre = producto.find(\"div\", class_= \"product-grid-item__name\").text.strip()\n",
    "        except:\n",
    "            nombre = \"Sin nombre\"\n",
    "            \n",
    "        try:\n",
    "            tipo = producto.find(\"div\", class_= \"product description product-item-description\").text.strip()\n",
    "        except:\n",
    "            tipo = \"Sin categoria\"       \n",
    "                 \n",
    "        try:\n",
    "            precio_sin_desc = producto.find(\"span\", class_= \"price__value\").text.strip().replace(\"\\xa0\", \"\").replace(\"Precio habitual\\n\\n\", \"\").strip()\n",
    "        except:\n",
    "            precio_sin_desc = \"Sin precio\"\n",
    "            \n",
    "        try:\n",
    "            descuento = producto.find(\"span\", class_= \"price__value--percent\").text.strip().replace(\"(\", \"\").replace(\")\", \"\")\n",
    "        except:\n",
    "            descuento = \"Sin descuento\"\n",
    "            \n",
    "        try:\n",
    "            precio_con_desc = producto.find(\"span\", class_= \"price\").text.strip().replace(\"\\xa0\", \"\")\n",
    "        except:\n",
    "            precio_con_desc = \"Sin precio descuento\"\n",
    "        \n",
    "        \n",
    "        try:\n",
    "            url_producto = producto[\"data-link\"]\n",
    "            #################################################\n",
    "            # Options:\n",
    "            opts = Options()\n",
    "            opts.add_argument(\"--disable-extensions\")\n",
    "            opts.add_argument(f\"User-Agent={user_agent}\")\n",
    "            # Initialize:\n",
    "            browser = webdriver.Chrome(options=opts)\n",
    "            sleep(3)\n",
    "            browser.get(url_producto)\n",
    "            sleep(5)            \n",
    "            browser.find_element(By.CLASS_NAME, \"amgdprcookie-modal__link\").click()\n",
    "            sleep(3)\n",
    "            shadow = Shadow(browser)\n",
    "            \n",
    "            valoracion = shadow.find_elements('span[class=\"grade\"]')[0].text\n",
    "            num_valoraciones = shadow.find_elements('span[class=\"count\"]')[0].text.replace(\"(\", \"\").replace(\")\", \"\")\n",
    "            browser.close()\n",
    "            #################################################\n",
    "            \n",
    "        except:\n",
    "            valoracion = \"Sin valoracion\"\n",
    "            num_valoraciones = \"Sin valoraciones\"\n",
    "        \n",
    "        info_productos.append([categoria, marca, nombre, tipo, precio_sin_desc, descuento, precio_con_desc, valoracion, num_valoraciones])\n",
    "\n",
    "    return info_productos   "
   ]
  },
  {
   "cell_type": "code",
   "execution_count": null,
   "id": "12a4cb02-9e58-4ed5-86b3-28da3552f675",
   "metadata": {},
   "outputs": [],
   "source": [
    "######################################################################################################################################################"
   ]
  },
  {
   "cell_type": "code",
   "execution_count": null,
   "id": "45fb47aa-5d15-454e-a716-fdc879d3fcf2",
   "metadata": {},
   "outputs": [],
   "source": [
    "######################################################################################################################################################"
   ]
  },
  {
   "cell_type": "markdown",
   "id": "7aca7235-3f32-4f40-9e1b-65fa3bb8099d",
   "metadata": {},
   "source": [
    "# Scrapeo URLS"
   ]
  },
  {
   "cell_type": "code",
   "execution_count": 3,
   "id": "46d886c8-91f5-4f96-bf80-6ff8acdcb969",
   "metadata": {
    "tags": []
   },
   "outputs": [],
   "source": [
    "# PONER EL PATH Y EL USER-AGENT PROPIOS:\n",
    "user_agent = \"Mozilla/5.0 (Windows NT 10.0; Win64; x64) AppleWebKit/537.36 (KHTML, like Gecko) Chrome/118.0.0.0 Safari/537.36\"\n",
    "\n",
    "urls = [\"https://www.primor.eu/es_es/perfumes-para-hombres\", \"https://www.primor.eu/es_es/perfumes-de-mujer\"]"
   ]
  },
  {
   "cell_type": "code",
   "execution_count": 4,
   "id": "939b61f9-a9e5-4017-9702-b6cb274e4048",
   "metadata": {
    "collapsed": true,
    "jupyter": {
     "outputs_hidden": true
    },
    "tags": []
   },
   "outputs": [
    {
     "data": {
      "text/plain": [
       "['https://www.primor.eu/es_es/perfumes-para-hombres',\n",
       " 'https://www.primor.eu/es_es/perfumes-para-hombres?p=2',\n",
       " 'https://www.primor.eu/es_es/perfumes-para-hombres?p=3',\n",
       " 'https://www.primor.eu/es_es/perfumes-para-hombres?p=4',\n",
       " 'https://www.primor.eu/es_es/perfumes-para-hombres?p=5',\n",
       " 'https://www.primor.eu/es_es/perfumes-para-hombres?p=6',\n",
       " 'https://www.primor.eu/es_es/perfumes-para-hombres?p=7',\n",
       " 'https://www.primor.eu/es_es/perfumes-para-hombres?p=8',\n",
       " 'https://www.primor.eu/es_es/perfumes-para-hombres?p=9',\n",
       " 'https://www.primor.eu/es_es/perfumes-para-hombres?p=10',\n",
       " 'https://www.primor.eu/es_es/perfumes-para-hombres?p=11',\n",
       " 'https://www.primor.eu/es_es/perfumes-para-hombres?p=12',\n",
       " 'https://www.primor.eu/es_es/perfumes-para-hombres?p=13',\n",
       " 'https://www.primor.eu/es_es/perfumes-para-hombres?p=14',\n",
       " 'https://www.primor.eu/es_es/perfumes-para-hombres?p=15',\n",
       " 'https://www.primor.eu/es_es/perfumes-para-hombres?p=16',\n",
       " 'https://www.primor.eu/es_es/perfumes-para-hombres?p=17',\n",
       " 'https://www.primor.eu/es_es/perfumes-para-hombres?p=18',\n",
       " 'https://www.primor.eu/es_es/perfumes-para-hombres?p=19',\n",
       " 'https://www.primor.eu/es_es/perfumes-para-hombres?p=20',\n",
       " 'https://www.primor.eu/es_es/perfumes-para-hombres?p=21',\n",
       " 'https://www.primor.eu/es_es/perfumes-para-hombres?p=22',\n",
       " 'https://www.primor.eu/es_es/perfumes-para-hombres?p=23',\n",
       " 'https://www.primor.eu/es_es/perfumes-para-hombres?p=24',\n",
       " 'https://www.primor.eu/es_es/perfumes-para-hombres?p=25',\n",
       " 'https://www.primor.eu/es_es/perfumes-para-hombres?p=26',\n",
       " 'https://www.primor.eu/es_es/perfumes-para-hombres?p=27',\n",
       " 'https://www.primor.eu/es_es/perfumes-para-hombres?p=28',\n",
       " 'https://www.primor.eu/es_es/perfumes-para-hombres?p=29',\n",
       " 'https://www.primor.eu/es_es/perfumes-para-hombres?p=30',\n",
       " 'https://www.primor.eu/es_es/perfumes-para-hombres?p=31',\n",
       " 'https://www.primor.eu/es_es/perfumes-para-hombres?p=32',\n",
       " 'https://www.primor.eu/es_es/perfumes-para-hombres?p=33',\n",
       " 'https://www.primor.eu/es_es/perfumes-para-hombres?p=34',\n",
       " 'https://www.primor.eu/es_es/perfumes-para-hombres?p=35',\n",
       " 'https://www.primor.eu/es_es/perfumes-para-hombres?p=36',\n",
       " 'https://www.primor.eu/es_es/perfumes-para-hombres?p=37',\n",
       " 'https://www.primor.eu/es_es/perfumes-para-hombres?p=38',\n",
       " 'https://www.primor.eu/es_es/perfumes-de-mujer',\n",
       " 'https://www.primor.eu/es_es/perfumes-de-mujer?p=2',\n",
       " 'https://www.primor.eu/es_es/perfumes-de-mujer?p=3',\n",
       " 'https://www.primor.eu/es_es/perfumes-de-mujer?p=4',\n",
       " 'https://www.primor.eu/es_es/perfumes-de-mujer?p=5',\n",
       " 'https://www.primor.eu/es_es/perfumes-de-mujer?p=6',\n",
       " 'https://www.primor.eu/es_es/perfumes-de-mujer?p=7',\n",
       " 'https://www.primor.eu/es_es/perfumes-de-mujer?p=8',\n",
       " 'https://www.primor.eu/es_es/perfumes-de-mujer?p=9',\n",
       " 'https://www.primor.eu/es_es/perfumes-de-mujer?p=10',\n",
       " 'https://www.primor.eu/es_es/perfumes-de-mujer?p=11',\n",
       " 'https://www.primor.eu/es_es/perfumes-de-mujer?p=12',\n",
       " 'https://www.primor.eu/es_es/perfumes-de-mujer?p=13',\n",
       " 'https://www.primor.eu/es_es/perfumes-de-mujer?p=14',\n",
       " 'https://www.primor.eu/es_es/perfumes-de-mujer?p=15',\n",
       " 'https://www.primor.eu/es_es/perfumes-de-mujer?p=16',\n",
       " 'https://www.primor.eu/es_es/perfumes-de-mujer?p=17',\n",
       " 'https://www.primor.eu/es_es/perfumes-de-mujer?p=18',\n",
       " 'https://www.primor.eu/es_es/perfumes-de-mujer?p=19',\n",
       " 'https://www.primor.eu/es_es/perfumes-de-mujer?p=20',\n",
       " 'https://www.primor.eu/es_es/perfumes-de-mujer?p=21',\n",
       " 'https://www.primor.eu/es_es/perfumes-de-mujer?p=22',\n",
       " 'https://www.primor.eu/es_es/perfumes-de-mujer?p=23',\n",
       " 'https://www.primor.eu/es_es/perfumes-de-mujer?p=24',\n",
       " 'https://www.primor.eu/es_es/perfumes-de-mujer?p=25',\n",
       " 'https://www.primor.eu/es_es/perfumes-de-mujer?p=26',\n",
       " 'https://www.primor.eu/es_es/perfumes-de-mujer?p=27',\n",
       " 'https://www.primor.eu/es_es/perfumes-de-mujer?p=28',\n",
       " 'https://www.primor.eu/es_es/perfumes-de-mujer?p=29',\n",
       " 'https://www.primor.eu/es_es/perfumes-de-mujer?p=30',\n",
       " 'https://www.primor.eu/es_es/perfumes-de-mujer?p=31',\n",
       " 'https://www.primor.eu/es_es/perfumes-de-mujer?p=32',\n",
       " 'https://www.primor.eu/es_es/perfumes-de-mujer?p=33',\n",
       " 'https://www.primor.eu/es_es/perfumes-de-mujer?p=34',\n",
       " 'https://www.primor.eu/es_es/perfumes-de-mujer?p=35',\n",
       " 'https://www.primor.eu/es_es/perfumes-de-mujer?p=36',\n",
       " 'https://www.primor.eu/es_es/perfumes-de-mujer?p=37',\n",
       " 'https://www.primor.eu/es_es/perfumes-de-mujer?p=38',\n",
       " 'https://www.primor.eu/es_es/perfumes-de-mujer?p=39',\n",
       " 'https://www.primor.eu/es_es/perfumes-de-mujer?p=40',\n",
       " 'https://www.primor.eu/es_es/perfumes-de-mujer?p=41',\n",
       " 'https://www.primor.eu/es_es/perfumes-de-mujer?p=42',\n",
       " 'https://www.primor.eu/es_es/perfumes-de-mujer?p=43',\n",
       " 'https://www.primor.eu/es_es/perfumes-de-mujer?p=44',\n",
       " 'https://www.primor.eu/es_es/perfumes-de-mujer?p=45',\n",
       " 'https://www.primor.eu/es_es/perfumes-de-mujer?p=46',\n",
       " 'https://www.primor.eu/es_es/perfumes-de-mujer?p=47',\n",
       " 'https://www.primor.eu/es_es/perfumes-de-mujer?p=48',\n",
       " 'https://www.primor.eu/es_es/perfumes-de-mujer?p=49',\n",
       " 'https://www.primor.eu/es_es/perfumes-de-mujer?p=50',\n",
       " 'https://www.primor.eu/es_es/perfumes-de-mujer?p=51',\n",
       " 'https://www.primor.eu/es_es/perfumes-de-mujer?p=52',\n",
       " 'https://www.primor.eu/es_es/perfumes-de-mujer?p=53',\n",
       " 'https://www.primor.eu/es_es/perfumes-de-mujer?p=54',\n",
       " 'https://www.primor.eu/es_es/perfumes-de-mujer?p=55',\n",
       " 'https://www.primor.eu/es_es/perfumes-de-mujer?p=56',\n",
       " 'https://www.primor.eu/es_es/perfumes-de-mujer?p=57',\n",
       " 'https://www.primor.eu/es_es/perfumes-de-mujer?p=58',\n",
       " 'https://www.primor.eu/es_es/perfumes-de-mujer?p=59',\n",
       " 'https://www.primor.eu/es_es/perfumes-de-mujer?p=60',\n",
       " 'https://www.primor.eu/es_es/perfumes-de-mujer?p=61']"
      ]
     },
     "execution_count": 4,
     "metadata": {},
     "output_type": "execute_result"
    }
   ],
   "source": [
    "urls_paginas_perfumes = iniciar_scraper(user_agent, urls)"
   ]
  },
  {
   "cell_type": "code",
   "execution_count": 6,
   "id": "2784ff87-bc2b-4491-b8e3-280a70f054c9",
   "metadata": {
    "tags": []
   },
   "outputs": [],
   "source": [
    "df_urls_paginas_perfumes = pd.DataFrame(urls_paginas_perfumes, columns= [\"url\"])"
   ]
  },
  {
   "cell_type": "markdown",
   "id": "ac24b645-ea88-4783-a077-5d23fb01e9bc",
   "metadata": {},
   "source": [
    "## CSV"
   ]
  },
  {
   "cell_type": "code",
   "execution_count": 8,
   "id": "9da00174-4a3d-4ee8-ac6d-aa028128f4fe",
   "metadata": {
    "tags": []
   },
   "outputs": [],
   "source": [
    "df_urls_paginas_perfumes.to_csv(\"urls_paginas_primor.csv\", index= False, sep= \",\")"
   ]
  },
  {
   "cell_type": "code",
   "execution_count": null,
   "id": "9d2d4ab9-69d8-4af7-8886-0575c8d47693",
   "metadata": {},
   "outputs": [],
   "source": [
    "######################################################################################################################################################"
   ]
  },
  {
   "cell_type": "code",
   "execution_count": null,
   "id": "8d105782-e76b-48cd-a1eb-f64d2ebb3093",
   "metadata": {},
   "outputs": [],
   "source": [
    "######################################################################################################################################################"
   ]
  },
  {
   "cell_type": "markdown",
   "id": "c220107f-f419-40a2-8013-9e51a7f81957",
   "metadata": {
    "tags": []
   },
   "source": [
    "# Scrapeo la info de todos los productos de cada página:"
   ]
  },
  {
   "cell_type": "code",
   "execution_count": 9,
   "id": "39bfbdfe-6539-4e38-8658-3a666a7a8501",
   "metadata": {
    "tags": []
   },
   "outputs": [],
   "source": [
    "user_agent = \"Mozilla/5.0 (Windows NT 10.0; Win64; x64) AppleWebKit/537.36 (KHTML, like Gecko) Chrome/118.0.0.0 Safari/537.36\""
   ]
  },
  {
   "cell_type": "code",
   "execution_count": null,
   "id": "f99b23a8-4b63-4220-856e-2c8a2f19b739",
   "metadata": {},
   "outputs": [],
   "source": [
    "# urls = pd.read_csv(\"urls_paginas_primor.csv\")"
   ]
  },
  {
   "cell_type": "code",
   "execution_count": 25,
   "id": "963e34e8-b179-48b0-96f2-ac505a636ea0",
   "metadata": {
    "tags": []
   },
   "outputs": [
    {
     "name": "stderr",
     "output_type": "stream",
     "text": [
      "  0%|          | 0/25 [00:00<?, ?it/s]C:\\Users\\regue\\AppData\\Local\\Temp\\ipykernel_16532\\3148243916.py:56: DeprecationWarning: use options instead of chrome_options\n",
      "  browser = webdriver.Chrome(executable_path = path_driver, chrome_options=opts)\n",
      "100%|██████████| 25/25 [2:54:22<00:00, 418.50s/it]  \n"
     ]
    }
   ],
   "source": [
    "info_productos = []\n",
    "\n",
    "for url in tqdm.tqdm(urls[:25]):\n",
    "\n",
    "    info = scrape_info(user_agent, url)\n",
    "    info_productos.extend(info)"
   ]
  },
  {
   "cell_type": "code",
   "execution_count": 26,
   "id": "6af27165-5d24-48c9-bc18-173d9a647c70",
   "metadata": {
    "tags": []
   },
   "outputs": [],
   "source": [
    "df_info_productos = pd.DataFrame(info_productos, columns= [\"categoria\", \"marca\", \"nombre\", \"tipo\", \"precio_sin_desc\", \"descuento\", \"precio_con_desc\", \"valoracion\", \"num_valoraciones\"] )"
   ]
  },
  {
   "cell_type": "code",
   "execution_count": 28,
   "id": "b34ab0be-3162-4e25-acca-fb3bebf1930b",
   "metadata": {
    "tags": []
   },
   "outputs": [
    {
     "data": {
      "text/html": [
       "<div>\n",
       "<style scoped>\n",
       "    .dataframe tbody tr th:only-of-type {\n",
       "        vertical-align: middle;\n",
       "    }\n",
       "\n",
       "    .dataframe tbody tr th {\n",
       "        vertical-align: top;\n",
       "    }\n",
       "\n",
       "    .dataframe thead th {\n",
       "        text-align: right;\n",
       "    }\n",
       "</style>\n",
       "<table border=\"1\" class=\"dataframe\">\n",
       "  <thead>\n",
       "    <tr style=\"text-align: right;\">\n",
       "      <th></th>\n",
       "      <th>categoria</th>\n",
       "      <th>marca</th>\n",
       "      <th>nombre</th>\n",
       "      <th>tipo</th>\n",
       "      <th>precio_sin_desc</th>\n",
       "      <th>descuento</th>\n",
       "      <th>precio_con_desc</th>\n",
       "      <th>valoracion</th>\n",
       "      <th>num_valoraciones</th>\n",
       "    </tr>\n",
       "  </thead>\n",
       "  <tbody>\n",
       "    <tr>\n",
       "      <th>0</th>\n",
       "      <td>Perfumes para hombres</td>\n",
       "      <td>Hugo Boss</td>\n",
       "      <td>Boss Bottled EDT</td>\n",
       "      <td>Sin categoria</td>\n",
       "      <td>81,70€</td>\n",
       "      <td>-56%</td>\n",
       "      <td>35,95€</td>\n",
       "      <td>4,81</td>\n",
       "      <td>212</td>\n",
       "    </tr>\n",
       "    <tr>\n",
       "      <th>1</th>\n",
       "      <td>Perfumes para hombres</td>\n",
       "      <td>Davidoff</td>\n",
       "      <td>Cool Water Hombre</td>\n",
       "      <td>Sin categoria</td>\n",
       "      <td>74,00€</td>\n",
       "      <td>-74%</td>\n",
       "      <td>18,94€</td>\n",
       "      <td>4,71</td>\n",
       "      <td>118</td>\n",
       "    </tr>\n",
       "    <tr>\n",
       "      <th>2</th>\n",
       "      <td>Perfumes para hombres</td>\n",
       "      <td>Armani</td>\n",
       "      <td>Giorgio Armani Perfume Hombre Acqua Di Gio Hom...</td>\n",
       "      <td>Sin categoria</td>\n",
       "      <td>85,00€</td>\n",
       "      <td>-54%</td>\n",
       "      <td>38,94€</td>\n",
       "      <td>4,93</td>\n",
       "      <td>98</td>\n",
       "    </tr>\n",
       "    <tr>\n",
       "      <th>3</th>\n",
       "      <td>Perfumes para hombres</td>\n",
       "      <td>Calvin Klein</td>\n",
       "      <td>Ck In2u For Him EDT</td>\n",
       "      <td>Sin categoria</td>\n",
       "      <td>76,00€</td>\n",
       "      <td>-76%</td>\n",
       "      <td>18,49€</td>\n",
       "      <td>4,70</td>\n",
       "      <td>94</td>\n",
       "    </tr>\n",
       "    <tr>\n",
       "      <th>4</th>\n",
       "      <td>Perfumes para hombres</td>\n",
       "      <td>Carolina Herrera</td>\n",
       "      <td>212 Men EDT</td>\n",
       "      <td>Sin categoria</td>\n",
       "      <td>74,50€</td>\n",
       "      <td>-49%</td>\n",
       "      <td>37,95€</td>\n",
       "      <td>4,89</td>\n",
       "      <td>66</td>\n",
       "    </tr>\n",
       "    <tr>\n",
       "      <th>...</th>\n",
       "      <td>...</td>\n",
       "      <td>...</td>\n",
       "      <td>...</td>\n",
       "      <td>...</td>\n",
       "      <td>...</td>\n",
       "      <td>...</td>\n",
       "      <td>...</td>\n",
       "      <td>...</td>\n",
       "      <td>...</td>\n",
       "    </tr>\n",
       "    <tr>\n",
       "      <th>595</th>\n",
       "      <td>Perfumes para hombres</td>\n",
       "      <td>Cartier</td>\n",
       "      <td>L'Envol EDP</td>\n",
       "      <td>Sin categoria</td>\n",
       "      <td>85,00€</td>\n",
       "      <td>Sin descuento</td>\n",
       "      <td>63,99€</td>\n",
       "      <td>5,00</td>\n",
       "      <td>1</td>\n",
       "    </tr>\n",
       "    <tr>\n",
       "      <th>596</th>\n",
       "      <td>Perfumes para hombres</td>\n",
       "      <td>Cartier</td>\n",
       "      <td>Déclaration Haute Fraîcheur Eau de Toilette</td>\n",
       "      <td>Sin categoria</td>\n",
       "      <td>82,00€</td>\n",
       "      <td>Sin descuento</td>\n",
       "      <td>58,99€</td>\n",
       "      <td>4,00</td>\n",
       "      <td>2</td>\n",
       "    </tr>\n",
       "    <tr>\n",
       "      <th>597</th>\n",
       "      <td>Perfumes para hombres</td>\n",
       "      <td>4711</td>\n",
       "      <td>Acqua Colonia Lychee &amp; White Mint</td>\n",
       "      <td>Sin categoria</td>\n",
       "      <td>57,00€</td>\n",
       "      <td>-50%</td>\n",
       "      <td>28,64€</td>\n",
       "      <td>4,00</td>\n",
       "      <td>1</td>\n",
       "    </tr>\n",
       "    <tr>\n",
       "      <th>598</th>\n",
       "      <td>Perfumes para hombres</td>\n",
       "      <td>Dior</td>\n",
       "      <td>EAU SAUVAGE EXTRÊME Eau de Toilette Intense</td>\n",
       "      <td>Sin categoria</td>\n",
       "      <td>136,00€</td>\n",
       "      <td>Sin descuento</td>\n",
       "      <td>101,95€</td>\n",
       "      <td>5</td>\n",
       "      <td>1</td>\n",
       "    </tr>\n",
       "    <tr>\n",
       "      <th>599</th>\n",
       "      <td>Perfumes para hombres</td>\n",
       "      <td>Guerlain</td>\n",
       "      <td>L'Homme Ideal EDT</td>\n",
       "      <td>Sin categoria</td>\n",
       "      <td>121,41€</td>\n",
       "      <td>-46%</td>\n",
       "      <td>65,94€</td>\n",
       "      <td>4,88</td>\n",
       "      <td>8</td>\n",
       "    </tr>\n",
       "  </tbody>\n",
       "</table>\n",
       "<p>600 rows × 9 columns</p>\n",
       "</div>"
      ],
      "text/plain": [
       "                 categoria             marca  \\\n",
       "0    Perfumes para hombres         Hugo Boss   \n",
       "1    Perfumes para hombres          Davidoff   \n",
       "2    Perfumes para hombres            Armani   \n",
       "3    Perfumes para hombres      Calvin Klein   \n",
       "4    Perfumes para hombres  Carolina Herrera   \n",
       "..                     ...               ...   \n",
       "595  Perfumes para hombres           Cartier   \n",
       "596  Perfumes para hombres           Cartier   \n",
       "597  Perfumes para hombres              4711   \n",
       "598  Perfumes para hombres              Dior   \n",
       "599  Perfumes para hombres          Guerlain   \n",
       "\n",
       "                                                nombre           tipo  \\\n",
       "0                                     Boss Bottled EDT  Sin categoria   \n",
       "1                                    Cool Water Hombre  Sin categoria   \n",
       "2    Giorgio Armani Perfume Hombre Acqua Di Gio Hom...  Sin categoria   \n",
       "3                                  Ck In2u For Him EDT  Sin categoria   \n",
       "4                                          212 Men EDT  Sin categoria   \n",
       "..                                                 ...            ...   \n",
       "595                                        L'Envol EDP  Sin categoria   \n",
       "596        Déclaration Haute Fraîcheur Eau de Toilette  Sin categoria   \n",
       "597                  Acqua Colonia Lychee & White Mint  Sin categoria   \n",
       "598        EAU SAUVAGE EXTRÊME Eau de Toilette Intense  Sin categoria   \n",
       "599                                  L'Homme Ideal EDT  Sin categoria   \n",
       "\n",
       "    precio_sin_desc      descuento precio_con_desc valoracion num_valoraciones  \n",
       "0            81,70€           -56%          35,95€       4,81              212  \n",
       "1            74,00€           -74%          18,94€       4,71              118  \n",
       "2            85,00€           -54%          38,94€       4,93               98  \n",
       "3            76,00€           -76%          18,49€       4,70               94  \n",
       "4            74,50€           -49%          37,95€       4,89               66  \n",
       "..              ...            ...             ...        ...              ...  \n",
       "595          85,00€  Sin descuento          63,99€       5,00                1  \n",
       "596          82,00€  Sin descuento          58,99€       4,00                2  \n",
       "597          57,00€           -50%          28,64€       4,00                1  \n",
       "598         136,00€  Sin descuento         101,95€          5                1  \n",
       "599         121,41€           -46%          65,94€       4,88                8  \n",
       "\n",
       "[600 rows x 9 columns]"
      ]
     },
     "execution_count": 28,
     "metadata": {},
     "output_type": "execute_result"
    }
   ],
   "source": [
    "df_info_productos"
   ]
  },
  {
   "cell_type": "markdown",
   "id": "cf840e1e-0a6d-4913-a54e-c1cc54f389da",
   "metadata": {
    "tags": []
   },
   "source": [
    "## CSV:"
   ]
  },
  {
   "cell_type": "code",
   "execution_count": 27,
   "id": "6bf87d7f-d8e5-4393-8517-0512f137fe7c",
   "metadata": {
    "tags": []
   },
   "outputs": [],
   "source": [
    "df_info_productos.to_csv(\"datos_perfumes_primor.csv\", index=\"False\", sep= \",\")"
   ]
  },
  {
   "cell_type": "code",
   "execution_count": null,
   "id": "8442fc51-26ca-4fb2-ab9f-ebce5d298d2e",
   "metadata": {},
   "outputs": [],
   "source": [
    "######################################################################################################################################################"
   ]
  },
  {
   "cell_type": "code",
   "execution_count": null,
   "id": "b8173f81-691b-4662-8834-4766ac72c567",
   "metadata": {
    "tags": []
   },
   "outputs": [],
   "source": [
    "######################################################################################################################################################"
   ]
  }
 ],
 "metadata": {
  "kernelspec": {
   "display_name": "Python 3 (ipykernel)",
   "language": "python",
   "name": "python3"
  },
  "language_info": {
   "codemirror_mode": {
    "name": "ipython",
    "version": 3
   },
   "file_extension": ".py",
   "mimetype": "text/x-python",
   "name": "python",
   "nbconvert_exporter": "python",
   "pygments_lexer": "ipython3",
   "version": "3.11.5"
  }
 },
 "nbformat": 4,
 "nbformat_minor": 5
}
