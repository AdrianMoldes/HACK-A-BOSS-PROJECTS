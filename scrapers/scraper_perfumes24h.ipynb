{
 "cells": [
  {
   "cell_type": "code",
   "execution_count": 1,
   "id": "d87687c4-5931-412f-b90f-d724ccc0527c",
   "metadata": {
    "tags": []
   },
   "outputs": [],
   "source": [
    "import requests \n",
    "\n",
    "from bs4 import BeautifulSoup\n",
    "import selenium\n",
    "from selenium import webdriver\n",
    "from selenium.webdriver.common.by import By\n",
    "from selenium.webdriver.common.keys import Keys\n",
    "from selenium.webdriver.chrome.options import Options\n",
    "\n",
    "from time import sleep\n",
    "import pandas as pd\n",
    "import numpy as np\n",
    "\n",
    "# Para visualizar el progreso:\n",
    "import tqdm"
   ]
  },
  {
   "cell_type": "markdown",
   "id": "63d9922c-944d-490d-a9d8-cca5e8413539",
   "metadata": {},
   "source": [
    "# FUNCIONES SCRAPING:"
   ]
  },
  {
   "cell_type": "markdown",
   "id": "b05c043b-17a5-447f-b498-d4530974330f",
   "metadata": {},
   "source": [
    "- FUNCIÓN INFO:"
   ]
  },
  {
   "cell_type": "code",
   "execution_count": 2,
   "id": "f210fb13-876b-44ef-a34c-87347f734c4b",
   "metadata": {
    "tags": []
   },
   "outputs": [],
   "source": [
    "def scrape_info(user_agent, urls, scroll):\n",
    "    \n",
    "    # Options:\n",
    "    opts = Options()\n",
    "    opts.add_argument(\"--disable-extensions\")\n",
    "    opts.add_argument(f\"User-Agent={user_agent}\")\n",
    "    \n",
    "    # Initialize:\n",
    "    browser = webdriver.Chrome(options=opts)\n",
    "    browser.maximize_window()\n",
    "    sleep(5)\n",
    "    \n",
    "    info_productos = []\n",
    "    \n",
    "    inicio = 1\n",
    "    for url in urls:\n",
    "        \n",
    "        browser.get(url)\n",
    "        sleep(5)###########################################################################\n",
    "        \n",
    "        #Acepto cookies:\n",
    "        if inicio == 1:            \n",
    "            browser.find_element(By.CLASS_NAME, \"buttons_aviso_cookies\").click()\n",
    "            sleep(5)########################################################################\n",
    "            \n",
    "        # Scroll de la página hasta el final para tener todos los productos visibles:\n",
    "        if scroll:        \n",
    "            last_height = browser.execute_script(\"return document.documentElement.scrollHeight\")\n",
    "            while True:\n",
    "                # Scroll:\n",
    "                browser.execute_script(\"window.scrollTo(0,document.documentElement.scrollHeight);\")\n",
    "                sleep(3)\n",
    "                # Calcula la altura del nuevo scroll y la compara con la del último:\n",
    "                new_height = browser.execute_script(\"return document.documentElement.scrollHeight\")\n",
    "\n",
    "                if new_height == last_height:\n",
    "                    print(\"Ya no hay más página.\")\n",
    "                    break\n",
    "                last_height = new_height    \n",
    "                \n",
    "        # Saco la info de cada producto:\n",
    "        soup = BeautifulSoup(browser.page_source, \"html.parser\")\n",
    "        sleep(5)\n",
    "        \n",
    "        productos = productos = soup.find(\"div\", class_= \"contenedor_productos\").find_all(\"div\", class_= \"mini_contenedor_grupo\")\n",
    "        cat = soup.find(\"div\", class_= \"div_titulo\").find(\"h1\").text\n",
    "        \n",
    "        for producto in tqdm.tqdm(productos):\n",
    "        \n",
    "            categoria = cat\n",
    "            url_producto = producto.find_all(\"a\")[1][\"href\"]\n",
    "\n",
    "            try:\n",
    "                marca = producto.find(\"div\", class_= \"container_info_producto\").find(\"div\", class_= \"nombre_marca\").text\n",
    "            except:\n",
    "                marca = \"Sin marca\"\n",
    "\n",
    "            try:\n",
    "                nombre = producto.find(\"div\", class_= \"container_info_producto\").find(\"div\", class_= \"nombre_grupo\").text\n",
    "            except:\n",
    "                nombre = \"Sin nombre\"\n",
    "\n",
    "            try:\n",
    "                tipo = producto.find(\"div\", class_= \"container_info_producto\").find(\"div\", class_= \"tipo_producto\").text\n",
    "            except:\n",
    "                tipo = \"Sin categoria\"           \n",
    "\n",
    "            try:    \n",
    "                precio_sin_desc = producto.find(\"div\", class_= \"contenedor_precios\").find_all(\"div\", class_= \"precio\")[0].find(\"div\", class_= \"txt_precio_real\").text\n",
    "            except:\n",
    "                precio_sin_desc = \"Sin precio\"\n",
    "                \n",
    "            try:\n",
    "                precio_con_desc = producto.find(\"div\", class_= \"contenedor_precios\").find_all(\"div\", class_= \"precio\")[0].find(\"div\", class_= \"txt_precio_venta\").text\n",
    "            except:\n",
    "                precio_con_desc = \"Sin precio\"\n",
    "                    \n",
    "            try:\n",
    "                descuento = 100 - 100*(float(precio_con_desc.replace(\"€\", \"\").replace(\",\", \".\"))/float(precio_sin_desc.replace(\"€\", \"\").replace(\",\", \".\")))\n",
    "            except:\n",
    "                descuento = \"No tiene\"\n",
    "            \n",
    "            response_url = requests.get(url_producto)\n",
    "            soup_url = BeautifulSoup(response_url.text, \"html.parser\")\n",
    "            try:\n",
    "                info_rating = soup_url.find(\"div\", class_= \"contenedor-info-rating-total\").find(\"div\", class_= \"contenedor-cantidad-opiniones\").find(\"span\").text.replace(\"Opinión\", \"\").replace(\"Opiniones\", \"\").split(\"/5\")\n",
    "            except:\n",
    "                valoracion = \"Sin rating\"\n",
    "                num_valoraciones = \"Sin valoraciones\"\n",
    "\n",
    "            valoracion = info_rating[0]\n",
    "            num_valoraciones = info_rating[1].strip().replace(\"(\", \"\").replace(\")\", \"\")\n",
    "\n",
    "                \n",
    "\n",
    "            info_productos.append([categoria, marca, nombre, tipo, precio_sin_desc, descuento, precio_con_desc, valoracion, num_valoraciones])\n",
    "        \n",
    "        \n",
    "        \n",
    "        \n",
    "   \n",
    "        inicio += 1\n",
    "    ############################################################################################################    \n",
    "    browser.close()\n",
    "    df_info_productos = pd.DataFrame(info_productos, columns= [\"categoria\", \"marca\", \"nombre\", \"tipo\", \"precio_sin_desc\", \"descuento\", \"precio_con_desc\", \"valoracion\", \"num_valoraciones\"])\n",
    "    return df_info_productos"
   ]
  },
  {
   "cell_type": "markdown",
   "id": "3780284c-ab63-464d-96e3-d01fa8f80638",
   "metadata": {},
   "source": [
    "# Scrapeo la info de todos los productos de cada página:"
   ]
  },
  {
   "cell_type": "code",
   "execution_count": 3,
   "id": "187f3698-2270-4188-ae75-3916eeacd4ba",
   "metadata": {
    "tags": []
   },
   "outputs": [],
   "source": [
    "# PONER EL USER-AGENT Y LOS ELEMENTOS DE BUSQUEDA:\n",
    "user_agent = \"Mozilla/5.0 (Windows NT 10.0; Win64; x64) AppleWebKit/537.36 (KHTML, like Gecko) Chrome/118.0.0.0 Safari/537.36\"\n",
    "\n",
    "urls = [\"https://perfumes24h.com/perfumes-hombre/\", \"https://perfumes24h.com/perfumes-mujer/\"]"
   ]
  },
  {
   "cell_type": "code",
   "execution_count": 4,
   "id": "59492ae6-68ed-4198-8bf0-6d945ceebf94",
   "metadata": {
    "tags": []
   },
   "outputs": [
    {
     "name": "stderr",
     "output_type": "stream",
     "text": [
      "C:\\Users\\regue\\AppData\\Local\\Temp\\ipykernel_4616\\1832564813.py:9: DeprecationWarning: use options instead of chrome_options\n",
      "  browser = webdriver.Chrome(executable_path = path_driver, chrome_options=opts)\n"
     ]
    },
    {
     "name": "stdout",
     "output_type": "stream",
     "text": [
      "Ya no hay más página.\n"
     ]
    },
    {
     "name": "stderr",
     "output_type": "stream",
     "text": [
      "100%|██████████| 1135/1135 [13:22<00:00,  1.41it/s]\n"
     ]
    },
    {
     "name": "stdout",
     "output_type": "stream",
     "text": [
      "Ya no hay más página.\n"
     ]
    },
    {
     "name": "stderr",
     "output_type": "stream",
     "text": [
      "100%|██████████| 1977/1977 [23:14<00:00,  1.42it/s]\n"
     ]
    }
   ],
   "source": [
    "df_info_productos = scrape_info(user_agent, urls, True)"
   ]
  },
  {
   "cell_type": "markdown",
   "id": "7f34e0af-2dfe-4f51-b360-119df3ea6616",
   "metadata": {},
   "source": [
    "## CSV:"
   ]
  },
  {
   "cell_type": "code",
   "execution_count": 5,
   "id": "bf2f6899-90f0-4246-ac85-81daad4f2244",
   "metadata": {
    "tags": []
   },
   "outputs": [],
   "source": [
    "df_info_productos.to_csv(\"datos_perfumes_perfumes24h.csv\", index=\"False\", sep= \",\")"
   ]
  },
  {
   "cell_type": "code",
   "execution_count": 103,
   "id": "2f4c3520-9d4b-4786-8f61-57c9e56db265",
   "metadata": {
    "tags": []
   },
   "outputs": [],
   "source": [
    "######################################################################################################################################################"
   ]
  },
  {
   "cell_type": "code",
   "execution_count": 104,
   "id": "13373f89-902d-40de-b1a4-e353bf244923",
   "metadata": {
    "tags": []
   },
   "outputs": [],
   "source": [
    "######################################################################################################################################################"
   ]
  }
 ],
 "metadata": {
  "kernelspec": {
   "display_name": "Python 3 (ipykernel)",
   "language": "python",
   "name": "python3"
  },
  "language_info": {
   "codemirror_mode": {
    "name": "ipython",
    "version": 3
   },
   "file_extension": ".py",
   "mimetype": "text/x-python",
   "name": "python",
   "nbconvert_exporter": "python",
   "pygments_lexer": "ipython3",
   "version": "3.11.5"
  }
 },
 "nbformat": 4,
 "nbformat_minor": 5
}
