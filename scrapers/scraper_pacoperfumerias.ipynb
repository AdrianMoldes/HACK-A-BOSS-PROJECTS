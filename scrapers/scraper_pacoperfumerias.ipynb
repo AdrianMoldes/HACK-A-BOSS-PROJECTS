{
 "cells": [
  {
   "cell_type": "code",
   "execution_count": 253,
   "id": "b5d83b94-8cdb-4f9e-b076-d56488cd1f1c",
   "metadata": {
    "tags": []
   },
   "outputs": [],
   "source": [
    "import requests \n",
    "\n",
    "from bs4 import BeautifulSoup\n",
    "import selenium\n",
    "from selenium import webdriver\n",
    "from selenium.webdriver.common.by import By\n",
    "from selenium.webdriver.common.keys import Keys\n",
    "from selenium.webdriver.chrome.options import Options\n",
    "\n",
    "from time import sleep\n",
    "import pandas as pd\n",
    "import numpy as np\n",
    "\n",
    "# Para visualizar el progreso:\n",
    "import tqdm"
   ]
  },
  {
   "cell_type": "markdown",
   "id": "2a91ce63-4793-4e0b-a673-6893034e8ab5",
   "metadata": {},
   "source": [
    "# FUNCIONES SCRAPING:"
   ]
  },
  {
   "cell_type": "markdown",
   "id": "b1733b51-1d69-443d-ad9e-a2ef77fccff6",
   "metadata": {
    "tags": []
   },
   "source": [
    "- FUNCIÓN INFO:"
   ]
  },
  {
   "cell_type": "code",
   "execution_count": 249,
   "id": "08f0645c-52a4-4f97-8f62-6af3f8950858",
   "metadata": {
    "tags": []
   },
   "outputs": [],
   "source": [
    "def scrape_info(user_agent, urls):\n",
    "    \n",
    "    # Options:\n",
    "    opts = Options()\n",
    "    opts.add_argument(\"--disable-extensions\")\n",
    "    opts.add_argument(f\"User-Agent={user_agent}\")\n",
    "    \n",
    "    # Initialize:\n",
    "    browser = webdriver.Chrome(options=opts)\n",
    "    browser.maximize_window()\n",
    "    sleep(5)\n",
    "    \n",
    "    info_productos = []\n",
    "    \n",
    "    inicio = 1\n",
    "    for url in urls:\n",
    "        \n",
    "        browser.get(url)\n",
    "        sleep(5)###########################################################################\n",
    "        \n",
    "        #Acepto cookies:\n",
    "        if inicio == 1:            \n",
    "            browser.find_element(By.ID, \"onetrust-accept-btn-handler\").click()\n",
    "            sleep(5)########################################################################\n",
    "            \n",
    "        # Desarrollo la página hasta que no de más\n",
    "        while True:\n",
    "            try:\n",
    "                element = browser.find_element(By.CLASS_NAME, \"more\")\n",
    "                browser.execute_script(\"arguments[0].click();\", element)\n",
    "                sleep(5)#####################################################################\n",
    "            except:\n",
    "                break    \n",
    "                \n",
    "        # Saco la info de cada producto:\n",
    "        soup = BeautifulSoup(browser.page_source, \"html.parser\")\n",
    "        sleep(5)\n",
    "        \n",
    "        productos = soup.find(\"div\", class_= \"product-grid\").find_all(\"div\", class_= \"product-card\")\n",
    "        cat = soup.find(\"h1\", class_= \"page-title\").text.replace(\"\\n\", \"\")\n",
    "        \n",
    "        for producto in tqdm.tqdm(productos):\n",
    "        \n",
    "            categoria = cat\n",
    "\n",
    "            try:\n",
    "                marca = producto.find(\"div\", class_= \"product-tile__body\").find(\"div\", class_= \"product-tile__model\").find(\"p\").text\n",
    "            except:\n",
    "                marca = \"Sin marca\"\n",
    "\n",
    "            try:\n",
    "                nombre = producto.find(\"div\", class_= \"product-tile__body\").find(\"div\", class_= \"product-tile__name\").find(\"p\").text\n",
    "            except:\n",
    "                nombre = \"Sin nombre\"\n",
    "\n",
    "            try:\n",
    "                tipo = producto.find(\"div\", class_= \"product-tile__body\").find(\"div\", class_= \"product-tile__description\").find(\"p\").text\n",
    "            except:\n",
    "                tipo = \"Sin categoria\"           \n",
    "\n",
    "            try:    \n",
    "                especial = producto.find(\"div\", class_= \"product-tile__footer\").find(\"div\", class_= \"swatch-grid-price price\").find_all(\"span\", class_= \"value\")\n",
    "                \n",
    "                if len(especial) == 2:\n",
    "                    precio_sin_desc = especial[0][\"content\"]\n",
    "                    precio_con_desc = especial[1][\"content\"]\n",
    "                if len(especial) == 1:\n",
    "                    precio_sin_desc = especial[0][\"content\"]\n",
    "                    precio_con_desc = \"Sin descuento\"\n",
    "            except:\n",
    "                precio_sin_desc = \"Sin precio\"\n",
    "                precio_con_desc = \"Sin precio\"\n",
    "                    \n",
    "            try:\n",
    "                descuento = producto.find(\"div\", class_= \"product-tile__footer\").find(\"div\", class_= \"swatch-grid-price price\").find(\"span\", class_= \"discount\").text\n",
    "            except:\n",
    "                descuento = \"No tiene\"\n",
    "            \n",
    "            try:\n",
    "                rating = producto.find(\"div\", class_= \"product-tile__body\").find(\"div\", class_= \"product-tile__rating\").find_all(\"div\", class_= \"product-rating__star text-icon\")\n",
    "                val = 0\n",
    "                for estrellas in rating:\n",
    "                    if not estrellas.find(\"use\")[\"xlink:href\"] == \"#iconStar\":\n",
    "                        val +=1\n",
    "                        \n",
    "                valoracion = val\n",
    "            except:\n",
    "                valoracion = \"Sin rating\"\n",
    "\n",
    "            try:\n",
    "                num_valoraciones = producto.find(\"div\", class_= \"product-tile__body\").find(\"div\", class_= \"product-tile__rating\").find(\"span\", class_= \"product-rating__reviews-number\").text.strip(\"()\")\n",
    "            except:\n",
    "                num_valoraciones = \"Sin valoraciones\"\n",
    "\n",
    "            info_productos.append([categoria, marca, nombre, tipo, precio_sin_desc, descuento, precio_con_desc, valoracion, num_valoraciones])\n",
    "        \n",
    "        \n",
    "        \n",
    "        \n",
    "   \n",
    "        inicio += 1\n",
    "    ############################################################################################################    \n",
    "    browser.close()\n",
    "    df_info_productos = pd.DataFrame(info_productos, columns= [\"categoria\", \"marca\", \"nombre\", \"tipo\", \"precio_sin_desc\", \"descuento\", \"precio_con_desc\", \"valoracion\", \"num_valoraciones\"])\n",
    "    return df_info_productos"
   ]
  },
  {
   "cell_type": "markdown",
   "id": "7d44ac33-6873-4f6d-8399-8b5cf34b9aa5",
   "metadata": {},
   "source": [
    "# Scrapeo la info de todos los productos de cada página:"
   ]
  },
  {
   "cell_type": "code",
   "execution_count": 250,
   "id": "74be609c-f559-4acc-bb50-e9dfb0bc7894",
   "metadata": {
    "tags": []
   },
   "outputs": [],
   "source": [
    "# PONER EL USER-AGENT Y LOS ELEMENTOS DE BUSQUEDA:\n",
    "user_agent = \"Mozilla/5.0 (Windows NT 10.0; Win64; x64) AppleWebKit/537.36 (KHTML, like Gecko) Chrome/118.0.0.0 Safari/537.36\"\n",
    "\n",
    "urls = [\"https://www.pacoperfumerias.com/perfumes-hombre\", \"https://www.pacoperfumerias.com/perfumes-mujer\"]"
   ]
  },
  {
   "cell_type": "code",
   "execution_count": 251,
   "id": "e07dbae3-7540-4d56-a224-d23256342d09",
   "metadata": {
    "tags": []
   },
   "outputs": [
    {
     "name": "stderr",
     "output_type": "stream",
     "text": [
      "C:\\Users\\regue\\AppData\\Local\\Temp\\ipykernel_18044\\4200724839.py:9: DeprecationWarning: use options instead of chrome_options\n",
      "  browser = webdriver.Chrome(executable_path = path_driver, chrome_options=opts)\n",
      "100%|██████████| 621/621 [00:00<00:00, 854.60it/s]\n",
      "100%|██████████| 947/947 [00:01<00:00, 834.97it/s]\n"
     ]
    }
   ],
   "source": [
    "df_info_productos = scrape_info(user_agent, urls)"
   ]
  },
  {
   "cell_type": "markdown",
   "id": "707ff32a-1bc6-4bc6-967b-4dc48d55e3d1",
   "metadata": {},
   "source": [
    "## CSV:"
   ]
  },
  {
   "cell_type": "code",
   "execution_count": 252,
   "id": "42000a6e-e507-4c2f-a08c-af2b58336783",
   "metadata": {
    "tags": []
   },
   "outputs": [],
   "source": [
    "# df_info_productos.to_csv(\"datos_perfumes_paco.csv\", index=\"False\", sep= \",\")"
   ]
  },
  {
   "cell_type": "code",
   "execution_count": 213,
   "id": "032ea132-68a8-4f51-a991-275ef8b4bed2",
   "metadata": {
    "tags": []
   },
   "outputs": [],
   "source": [
    "######################################################################################################################################################"
   ]
  },
  {
   "cell_type": "code",
   "execution_count": 214,
   "id": "950b3de7-1b4f-4736-8218-249222cf93bd",
   "metadata": {
    "tags": []
   },
   "outputs": [],
   "source": [
    "######################################################################################################################################################"
   ]
  }
 ],
 "metadata": {
  "kernelspec": {
   "display_name": "Python 3 (ipykernel)",
   "language": "python",
   "name": "python3"
  },
  "language_info": {
   "codemirror_mode": {
    "name": "ipython",
    "version": 3
   },
   "file_extension": ".py",
   "mimetype": "text/x-python",
   "name": "python",
   "nbconvert_exporter": "python",
   "pygments_lexer": "ipython3",
   "version": "3.11.5"
  }
 },
 "nbformat": 4,
 "nbformat_minor": 5
}
