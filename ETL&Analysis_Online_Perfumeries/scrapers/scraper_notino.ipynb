{
 "cells": [
  {
   "cell_type": "code",
   "execution_count": 1,
   "id": "d393cd9f-4875-4300-9ac1-5d297780b965",
   "metadata": {
    "tags": []
   },
   "outputs": [],
   "source": [
    "import requests \n",
    "\n",
    "from bs4 import BeautifulSoup\n",
    "import selenium\n",
    "from selenium import webdriver\n",
    "from selenium.webdriver.common.by import By\n",
    "from selenium.webdriver.common.keys import Keys\n",
    "from selenium.webdriver.chrome.options import Options\n",
    "\n",
    "from time import sleep\n",
    "import pandas as pd\n",
    "import numpy as np\n",
    "\n",
    "# Para visualizar el progreso:\n",
    "import tqdm"
   ]
  },
  {
   "cell_type": "markdown",
   "id": "2a9f6ae5-0ce3-47f1-9348-35bdd362e0d2",
   "metadata": {},
   "source": [
    "# FUNCIONES SCRAPING:"
   ]
  },
  {
   "cell_type": "markdown",
   "id": "18a1563b-77a5-46b7-9f43-77fc84d42c1f",
   "metadata": {},
   "source": [
    "- URLS"
   ]
  },
  {
   "cell_type": "code",
   "execution_count": 11,
   "id": "a58ec749-f4f6-4b6b-9fea-e207088eb3da",
   "metadata": {
    "tags": []
   },
   "outputs": [],
   "source": [
    "def iniciar_scraper(user_agent, scrape_urls):\n",
    "    \n",
    "    # Options:\n",
    "    opts = Options()\n",
    "    opts.add_argument(\"--disable-extensions\")\n",
    "    opts.add_argument(f\"User-Agent={user_agent}\")\n",
    "    \n",
    "    urls_paginas_perfumes = []\n",
    "    \n",
    "    inicio = 1\n",
    "    for url in scrape_urls:\n",
    "        # Initialize:\n",
    "        browser = webdriver.Chrome(options=opts)\n",
    "        browser.maximize_window()\n",
    "        sleep(2)\n",
    "\n",
    "        browser.get(url)\n",
    "        sleep(5)###########################################################################\n",
    "        \n",
    "        #Acepto cookies:\n",
    "        if inicio == 1:            \n",
    "            browser.find_element(By.ID, \"onetrust-accept-btn-handler\").click()\n",
    "            sleep(6)########################################################################\n",
    "\n",
    "        soup = BeautifulSoup(browser.page_source, \"html.parser\")\n",
    "        \n",
    "        num_paginas = int(soup.find(\"div\", class_= \"styled__FooterWrapper-sc-1ecav21-0 komnRu\").find_all(\"span\")[-1].text)        \n",
    "        if inicio == 1:\n",
    "            urls_paginas = [f\"{url}?f={num_pagina}-1-55544-55549\" for num_pagina in range(1,num_paginas)]\n",
    "        if inicio == 2:\n",
    "            urls_paginas = [f\"{url}?f={num_pagina}-1-55544-55545\" for num_pagina in range(1,num_paginas)]\n",
    "            \n",
    "        urls_paginas_perfumes.extend(urls_paginas)\n",
    "        \n",
    "        inicio += 1\n",
    "        browser.close()  \n",
    "        \n",
    "    ############################################################################################################    \n",
    "      \n",
    "    return pd.DataFrame(urls_paginas_perfumes, columns= [\"url\"])"
   ]
  },
  {
   "cell_type": "markdown",
   "id": "87f125e9-9e60-4ac2-bfc0-04a146bea44c",
   "metadata": {},
   "source": [
    "- FUNCIÓN INFO"
   ]
  },
  {
   "cell_type": "code",
   "execution_count": 11,
   "id": "f0d826c9-208b-483d-9bff-bbe6cf470991",
   "metadata": {
    "tags": []
   },
   "outputs": [],
   "source": [
    "def scrape_info(user_agent, url):\n",
    "   \n",
    "    \n",
    "    # Options:\n",
    "    opts = Options()\n",
    "    opts.add_argument(\"--disable-extensions\")\n",
    "    opts.add_argument(f\"User-Agent={user_agent}\")\n",
    "    \n",
    "    \n",
    "    browser = webdriver.Chrome(options=opts)\n",
    "    #browser.set_window_position(-2000,0)\n",
    "    sleep(2)\n",
    "    \n",
    "    browser.get(url)\n",
    "    sleep(5)\n",
    "    \n",
    "    # Acepto cookies:\n",
    "    browser.find_element(By.ID, \"onetrust-accept-btn-handler\").click()\n",
    "    sleep(2)\n",
    "    \n",
    "    soup = BeautifulSoup(browser.page_source, \"html.parser\")\n",
    "    \n",
    "    attrs= {\"data-testid\": \"product-container\"}\n",
    "    productos = soup.find_all(\"div\", attrs= attrs)\n",
    "    \n",
    "    cat = soup.find(\"h1\", class_= \"styled__StyledPageTitle-sc-1ddrixz-1 dtvZwa\").text\n",
    "    \n",
    "    info_productos = []\n",
    "    \n",
    "    for producto in productos:\n",
    "        \n",
    "        categoria = cat\n",
    "        \n",
    "        try:\n",
    "            marca = producto.find(\"div\", class_= \"sc-fhzFiK cnoxFk\").find(\"h2\").text\n",
    "        except:\n",
    "            marca = \"Sin marca\"\n",
    "            \n",
    "        try:\n",
    "            nombre = producto.find(\"div\", class_= \"sc-fhzFiK cnoxFk\").find(\"h3\").text\n",
    "        except:\n",
    "            nombre = \"Sin nombre\"\n",
    "            \n",
    "        try:\n",
    "            tipo = producto.find(\"div\", class_= \"sc-fhzFiK cnoxFk\").find(\"p\").text\n",
    "        except:\n",
    "            tipo = \"Sin categoria\"       \n",
    "                 \n",
    "        try:\n",
    "            attrs_1= {\"data-testid\": \"product-price\"}\n",
    "            attrs_2= {\"data-testid\": \"price-component\"}\n",
    "            precio_con_desc = producto.find(\"div\", attrs= attrs_1).find(\"span\", attrs= attrs_2).text\n",
    "        except:\n",
    "            precio_con_desc = \"Sin precio\"\n",
    "            \n",
    "        try:\n",
    "            descuento = producto.find(\"span\", class_= \"styled__DiscountValue-sc-1b3ggfp-1 llWxOW\").text\n",
    "        except:\n",
    "            descuento = \"Sin descuento\"\n",
    "        \n",
    "        try:\n",
    "            url_producto = (\"https://www.notino.es\" + producto.find(\"a\")[\"href\"])\n",
    "            #################################################\n",
    "            # Initialize:\n",
    "            browser_prod = webdriver.Chrome(options=opts)\n",
    "            sleep(2)\n",
    "            browser_prod.get(url_producto)\n",
    "            sleep(4)            \n",
    "            browser_prod.find_element(By.ID, \"onetrust-accept-btn-handler\").click()\n",
    "            sleep(2)\n",
    "            \n",
    "            ############################### CAMBIA ESTO\n",
    "            soup_prod = BeautifulSoup(browser_prod.page_source, \"html.parser\")\n",
    "            \n",
    "            attrs_3= {\"id\": \"pdHeader\"}\n",
    "            attrs_4= {\"id\": \"pdSelectedVariant\"}\n",
    "            attrs_5= {\"data-testid\": \"originalPriceLineThroughWrapper\"}\n",
    "            \n",
    "            valoracion = soup_prod.find(\"div\", attrs=attrs_3).find_all(\"a\")[1][\"title\"]\n",
    "            num_valoraciones = soup_prod.find(\"div\", attrs=attrs_3).find(\"span\", class_= \"sc-kgTSHT bSWHSL\").text.replace(\"×\", \"\")\n",
    "            precio_sin_desc = soup_prod.find(\"div\", attrs= attrs_4).find(\"span\", attrs= attrs_5).find(\"span\").text\n",
    "            sleep(2)\n",
    "            browser_prod.close()\n",
    "            #################################################\n",
    "            \n",
    "        except:\n",
    "            valoracion = \"Sin valoracion\"\n",
    "            num_valoraciones = \"Sin valoraciones\"\n",
    "            precio_sin_desc = \"Es el precio con desc\"\n",
    "        \n",
    "        info_productos.append([categoria, marca, nombre, tipo, precio_sin_desc, descuento, precio_con_desc, valoracion, num_valoraciones])\n",
    "        \n",
    "    browser.close()\n",
    "    return info_productos"
   ]
  },
  {
   "cell_type": "code",
   "execution_count": null,
   "id": "591b4caf-a461-4a8a-bb01-2ca6f005a4cc",
   "metadata": {},
   "outputs": [],
   "source": [
    "######################################################################################################################################################"
   ]
  },
  {
   "cell_type": "code",
   "execution_count": null,
   "id": "35940c42-ade0-4590-9f20-60c198f858b5",
   "metadata": {},
   "outputs": [],
   "source": [
    "######################################################################################################################################################"
   ]
  },
  {
   "cell_type": "markdown",
   "id": "d20e1fde-f8c9-49a9-824f-f4555f7611cc",
   "metadata": {},
   "source": [
    "# Scrapeo URLS"
   ]
  },
  {
   "cell_type": "code",
   "execution_count": 5,
   "id": "ae31aa60-3e51-4ac9-bf0d-a6d4793d3469",
   "metadata": {
    "tags": []
   },
   "outputs": [],
   "source": [
    "user_agent = \"Mozilla/5.0 (Windows NT 10.0; Win64; x64) AppleWebKit/537.36 (KHTML, like Gecko) Chrome/118.0.0.0 Safari/537.36\""
   ]
  },
  {
   "cell_type": "code",
   "execution_count": 47,
   "id": "e5d84676-ea55-4759-8ab0-38ecdea5b5d6",
   "metadata": {
    "tags": []
   },
   "outputs": [],
   "source": [
    "perfumes_hombre = \"https://www.notino.es/perfumes-hombre/\"\n",
    "perfumes_mujer = \"https://www.notino.es/perfumes-mujer/\"\n",
    "\n",
    "busqueda = [perfumes_hombre, perfumes_mujer]"
   ]
  },
  {
   "cell_type": "code",
   "execution_count": 48,
   "id": "2b42520d-7f6e-4e32-940e-af02a4ba707f",
   "metadata": {
    "tags": []
   },
   "outputs": [
    {
     "name": "stderr",
     "output_type": "stream",
     "text": [
      "C:\\Users\\regue\\AppData\\Local\\Temp\\ipykernel_24552\\454601998.py:14: DeprecationWarning: use options instead of chrome_options\n",
      "  browser = webdriver.Chrome(executable_path = path_driver, chrome_options=opts)\n"
     ]
    }
   ],
   "source": [
    "df_urls_perfumes = iniciar_scraper(path, user_agent, busqueda)"
   ]
  },
  {
   "cell_type": "markdown",
   "id": "980d0078-1722-43a7-945b-1db76141499f",
   "metadata": {
    "tags": []
   },
   "source": [
    "## CSV"
   ]
  },
  {
   "cell_type": "code",
   "execution_count": 52,
   "id": "ba59faeb-6736-4852-bc47-ab6a0daabaee",
   "metadata": {
    "tags": []
   },
   "outputs": [],
   "source": [
    "# df_urls_perfumes.to_csv(\"urls_perfumes_notino.csv\", index=\"False\", sep= \",\")"
   ]
  },
  {
   "cell_type": "markdown",
   "id": "34030a0b-6239-46a0-9b39-bb3f0a096131",
   "metadata": {},
   "source": [
    "# Scrapeo la info de todos los productos de cada página:"
   ]
  },
  {
   "cell_type": "code",
   "execution_count": 6,
   "id": "f83a58ea-68d5-4dd5-aa46-a8abdd2699d4",
   "metadata": {
    "tags": []
   },
   "outputs": [],
   "source": [
    "df_urls_perfumes = pd.read_csv(\"urls_perfumes_notino.csv\")"
   ]
  },
  {
   "cell_type": "code",
   "execution_count": 12,
   "id": "c2362156-92c2-4e02-bf17-f3a36f5c0a6f",
   "metadata": {
    "tags": []
   },
   "outputs": [
    {
     "name": "stderr",
     "output_type": "stream",
     "text": [
      "100%|██████████| 25/25 [2:31:10<00:00, 362.82s/it]  \n"
     ]
    }
   ],
   "source": [
    "user_agent = \"Mozilla/5.0 (Windows NT 10.0; Win64; x64) AppleWebKit/537.36 (KHTML, like Gecko) Chrome/118.0.0.0 Safari/537.36\"\n",
    "\n",
    "info_productos = []\n",
    "for url in tqdm.tqdm(df_urls_perfumes[\"url\"].values[200:225]):\n",
    "\n",
    "    info = scrape_info(user_agent, url)\n",
    "    info_productos.extend(info)"
   ]
  },
  {
   "cell_type": "code",
   "execution_count": 16,
   "id": "06fb8ea8-3e50-43df-9d92-b75b469ea0a2",
   "metadata": {
    "tags": []
   },
   "outputs": [],
   "source": [
    "df_info_productos = pd.DataFrame(info_productos, columns= [\"categoria\", \"marca\", \"nombre\", \"tipo\", \"precio_sin_desc\", \"descuento\", \"precio_con_desc\", \"valoracion\", \"num_valoraciones\"] )"
   ]
  },
  {
   "cell_type": "markdown",
   "id": "570275f7-fb9e-46db-852c-f7f002eed496",
   "metadata": {},
   "source": [
    "## CSV"
   ]
  },
  {
   "cell_type": "code",
   "execution_count": 18,
   "id": "5407b96a-9491-4515-84a8-79b9db167273",
   "metadata": {
    "tags": []
   },
   "outputs": [],
   "source": [
    "df_info_productos.to_csv(\"datos_perfumes_notino_200_225.csv\", index=\"False\", sep= \",\")"
   ]
  },
  {
   "cell_type": "code",
   "execution_count": null,
   "id": "81f33db0-74f6-434b-9965-d176c493143a",
   "metadata": {},
   "outputs": [],
   "source": []
  },
  {
   "cell_type": "code",
   "execution_count": null,
   "id": "8f85fcb3-6b4c-4c17-8ab3-795b0beb0374",
   "metadata": {},
   "outputs": [],
   "source": []
  }
 ],
 "metadata": {
  "kernelspec": {
   "display_name": "Python 3 (ipykernel)",
   "language": "python",
   "name": "python3"
  },
  "language_info": {
   "codemirror_mode": {
    "name": "ipython",
    "version": 3
   },
   "file_extension": ".py",
   "mimetype": "text/x-python",
   "name": "python",
   "nbconvert_exporter": "python",
   "pygments_lexer": "ipython3",
   "version": "3.11.5"
  }
 },
 "nbformat": 4,
 "nbformat_minor": 5
}
