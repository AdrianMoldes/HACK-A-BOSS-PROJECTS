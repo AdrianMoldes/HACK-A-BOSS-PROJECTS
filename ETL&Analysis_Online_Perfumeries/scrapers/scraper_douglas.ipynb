{
 "cells": [
  {
   "cell_type": "code",
   "execution_count": 1,
   "id": "4e3391fd-fcc3-4aba-8b38-2bea1b78795a",
   "metadata": {
    "tags": []
   },
   "outputs": [
    {
     "data": {
      "text/plain": [
       "True"
      ]
     },
     "execution_count": 1,
     "metadata": {},
     "output_type": "execute_result"
    }
   ],
   "source": [
    "import requests \n",
    "\n",
    "from bs4 import BeautifulSoup\n",
    "import selenium\n",
    "from selenium import webdriver\n",
    "from selenium.webdriver.common.by import By\n",
    "from selenium.webdriver.common.keys import Keys\n",
    "from selenium.webdriver.chrome.options import Options\n",
    "\n",
    "from time import sleep\n",
    "import pandas as pd\n",
    "import numpy as np\n",
    "\n",
    "# Para visualizar el progreso:\n",
    "import tqdm"
   ]
  },
  {
   "cell_type": "markdown",
   "id": "0b7b2989-d198-4d99-9232-2563b5a24c5d",
   "metadata": {},
   "source": [
    "# FUNCIONES SCRAPING:"
   ]
  },
  {
   "cell_type": "markdown",
   "id": "3683b4b9-8a50-4909-b624-f9eea14e7a4b",
   "metadata": {},
   "source": [
    "- URLS"
   ]
  },
  {
   "cell_type": "code",
   "execution_count": 2,
   "id": "fd2751ff-7912-4223-b130-941f71a689e8",
   "metadata": {
    "tags": []
   },
   "outputs": [],
   "source": [
    "def iniciar_scraper(user_agent, scrape_urls):\n",
    "    \n",
    "    # Options:\n",
    "    opts = Options()\n",
    "    opts.add_argument(\"--disable-extensions\")\n",
    "    opts.add_argument(f\"User-Agent={user_agent}\")\n",
    "    \n",
    "    # Initialize:\n",
    "    browser = webdriver.Chrome(options=opts)\n",
    "    browser.maximize_window()\n",
    "    sleep(5)\n",
    "    \n",
    "    urls_paginas_perfumes = []\n",
    "    \n",
    "    inicio = 1\n",
    "    for url in scrape_urls:\n",
    "\n",
    "        browser.get(url)\n",
    "        sleep(5)###########################################################################\n",
    "        \n",
    "        #Acepto cookies:\n",
    "        if inicio == 1:            \n",
    "            browser.find_element(By.CLASS_NAME, \"uc-list-button__accept-all\").click()\n",
    "            sleep(6)########################################################################\n",
    "\n",
    "        soup = BeautifulSoup(browser.page_source, \"html.parser\")\n",
    "        \n",
    "        num_paginas = int(soup.find(\"div\", class_= \"pagination-title pagination-title--with-dropdown\").text.split()[-1])        \n",
    "\n",
    "        urls_paginas = [f\"{url}?page={num_pagina}\" for num_pagina in range(1,num_paginas)]\n",
    "        \n",
    "        urls_paginas_perfumes.extend(urls_paginas)\n",
    "        \n",
    "        inicio += 1                \n",
    "        \n",
    "    ############################################################################################################    \n",
    "    browser.close()    \n",
    "    return urls_paginas_perfumes\n"
   ]
  },
  {
   "cell_type": "markdown",
   "id": "015e911b-cb47-47c9-9564-5eb384591aff",
   "metadata": {},
   "source": [
    "- FUNCIÓN INFO:"
   ]
  },
  {
   "cell_type": "code",
   "execution_count": 1,
   "id": "d56dd820-690c-4f1c-b40e-75bed3922d21",
   "metadata": {},
   "outputs": [],
   "source": [
    "def scrape_info(url):\n",
    "    \n",
    "    response = requests.get(url)\n",
    "    sleep(10)\n",
    "    soup = BeautifulSoup(response.text, \"html.parser\")\n",
    "    \n",
    "    productos = soup.find_all(\"div\", class_= \"product-grid-column col-sm-6 col-md-4 col-lg-3\")\n",
    "    \n",
    "    cat = soup.find(\"h1\", class_= \"headline-bold headline-bold--small product-overview__headline\").text\n",
    "    \n",
    "    info_productos = []\n",
    "    \n",
    "    for producto in productos:\n",
    "        \n",
    "        categoria = cat\n",
    "        \n",
    "        try:\n",
    "            marca = producto.find(\"div\", class_= \"text top-brand\").text\n",
    "        except:\n",
    "            marca = \"Sin marca\"\n",
    "            \n",
    "        try:\n",
    "            nombre = producto.find(\"div\", class_= \"text brand-line\").text\n",
    "        except:\n",
    "            nombre = \"Sin nombre\"\n",
    "        \n",
    "        try:\n",
    "            tipo = producto.find(\"div\", class_= \"text category\").text.strip()\n",
    "        except:\n",
    "            tipo = \"Sin categoria\"           \n",
    "            \n",
    "            \n",
    "        precio = producto.find(\"div\", class_= \"price-row\").find_all(\"span\", class_= \"product-price__price\")\n",
    "        \n",
    "        if len(precio) == 2:\n",
    "            try:\n",
    "                precio_sin_desc = precio[0].text\n",
    "\n",
    "                precio_con_desc = precio[1].text\n",
    "            except:\n",
    "                precio_sin_desc = np.nan\n",
    "\n",
    "                precio_con_desc = np.nan\n",
    "                \n",
    "        if  len(precio) == 1:\n",
    "            try:\n",
    "                precio_sin_desc = precio[0].text\n",
    "\n",
    "                precio_con_desc = \"Sin descuento\"\n",
    "            except:\n",
    "                precio_sin_desc = np.nan\n",
    "\n",
    "                precio_con_desc = np.nan\n",
    "                \n",
    "        descuento = \"No aparece\"\n",
    "        \n",
    "        try:\n",
    "            evaluacion = producto.find(\"div\", class_= \"Xjks1stJBh1GPUKjmb16\").find(\"span\", class_= \"k3DCj3KuQfDwBmZAVbJN\").text.replace(\")\",\"\").split(\"\\xa0(\")\n",
    "            \n",
    "            valoracion = evaluacion[0]        \n",
    "            num_valoraciones = evaluacion[1]\n",
    "        except:\n",
    "            valoracion = np.nan\n",
    "            num_valoraciones = np.nan\n",
    "        \n",
    "        \n",
    "            \n",
    "        info_productos.append([categoria, marca, nombre, tipo, precio_sin_desc, descuento, precio_con_desc, valoracion, num_valoraciones])\n",
    "    \n",
    "    return info_productos"
   ]
  },
  {
   "cell_type": "code",
   "execution_count": 68,
   "id": "3362b13f-c01e-4ac7-9886-fe9be73b3299",
   "metadata": {},
   "outputs": [],
   "source": [
    "######################################################################################################################################################"
   ]
  },
  {
   "cell_type": "code",
   "execution_count": 69,
   "id": "cd15b8ba-631f-4905-bb20-ca6c27071961",
   "metadata": {
    "tags": []
   },
   "outputs": [],
   "source": [
    "######################################################################################################################################################"
   ]
  },
  {
   "cell_type": "markdown",
   "id": "c6b9c8b3-0b9e-498c-a35f-d4e2e78f1d62",
   "metadata": {},
   "source": [
    "# Scrapeo URLS"
   ]
  },
  {
   "cell_type": "code",
   "execution_count": 21,
   "id": "338d4aaf-01e5-4748-8a32-902c561d5ff2",
   "metadata": {
    "tags": []
   },
   "outputs": [],
   "source": [
    "# PONER EL USER-AGENT Y LOS ELEMENTOS DE BUSQUEDA:\n",
    "user_agent = \"Mozilla/5.0 (Windows NT 10.0; Win64; x64) AppleWebKit/537.36 (KHTML, like Gecko) Chrome/118.0.0.0 Safari/537.36\"\n",
    "\n",
    "perfumes_hombre = \"https://www.douglas.es/es/c/perfumes/fragancias-de-hombre/0102\"\n",
    "perfumes_mujer = \"https://www.douglas.es/es/c/perfumes/fragancias-de-mujer/0101\"\n",
    "\n",
    "busqueda = [perfumes_hombre, perfumes_mujer]"
   ]
  },
  {
   "cell_type": "code",
   "execution_count": 22,
   "id": "8369c7a0-484c-4fb9-a913-1a75ca0298c9",
   "metadata": {
    "tags": []
   },
   "outputs": [
    {
     "name": "stderr",
     "output_type": "stream",
     "text": [
      "C:\\Users\\regue\\AppData\\Local\\Temp\\ipykernel_4384\\2451663283.py:9: DeprecationWarning: use options instead of chrome_options\n",
      "  browser = webdriver.Chrome(executable_path = path_driver, chrome_options=opts)\n"
     ]
    }
   ],
   "source": [
    "# Inicio el scrapeo de las url's, guardándolas en la siguiente variable\n",
    "\n",
    "urls_totales = iniciar_scraper(user_agent, busqueda)"
   ]
  },
  {
   "cell_type": "code",
   "execution_count": 23,
   "id": "7bf0e126-0962-4e81-8d5c-749868e5b7d7",
   "metadata": {
    "tags": []
   },
   "outputs": [],
   "source": [
    "df_urls_perfumes = pd.DataFrame(urls_totales, columns= [\"url\"])"
   ]
  },
  {
   "cell_type": "markdown",
   "id": "dbd6121c-5f12-454f-a987-382fc87d88e8",
   "metadata": {},
   "source": [
    "## CSV"
   ]
  },
  {
   "cell_type": "code",
   "execution_count": 24,
   "id": "181fe484-cdf7-48ae-9031-5343f0976692",
   "metadata": {
    "tags": []
   },
   "outputs": [],
   "source": [
    "# df_urls_perfumes.to_csv(\"urls_perfumes_douglas.csv\", index=\"False\", sep= \",\")"
   ]
  },
  {
   "cell_type": "code",
   "execution_count": null,
   "id": "a66cf9a7-54bc-4409-8a99-344db561be94",
   "metadata": {},
   "outputs": [],
   "source": [
    "######################################################################################################################################################"
   ]
  },
  {
   "cell_type": "code",
   "execution_count": null,
   "id": "4a63b833-8ee9-47f9-83de-1e7632e02b99",
   "metadata": {},
   "outputs": [],
   "source": [
    "######################################################################################################################################################"
   ]
  },
  {
   "cell_type": "markdown",
   "id": "d17fe2b3-2e47-4e4f-a61c-9bbdc6efb519",
   "metadata": {},
   "source": [
    "# Scrapeo la info de todos los productos de cada página:"
   ]
  },
  {
   "cell_type": "code",
   "execution_count": 63,
   "id": "432e1bf6-be47-4ed6-a2db-27aad3c52b33",
   "metadata": {
    "tags": []
   },
   "outputs": [],
   "source": [
    "df_urls_perfumes = pd.read_csv(\"urls_perfumes_douglas.csv\")"
   ]
  },
  {
   "cell_type": "code",
   "execution_count": 64,
   "id": "e4ce2c99-3f7f-48fe-b970-569faefed0f2",
   "metadata": {},
   "outputs": [
    {
     "name": "stderr",
     "output_type": "stream",
     "text": [
      "100%|██████████| 74/74 [13:48<00:00, 11.19s/it]\n"
     ]
    }
   ],
   "source": [
    "info_productos = []\n",
    "\n",
    "for url in tqdm.tqdm(df_urls_perfumes[\"url\"].values):\n",
    "\n",
    "    info = scrape_info(url)\n",
    "    info_productos.extend(info)"
   ]
  },
  {
   "cell_type": "code",
   "execution_count": 65,
   "id": "e6cbbe24-b950-4d0c-bdc1-a3fd4b7b2a7b",
   "metadata": {},
   "outputs": [],
   "source": [
    "df_info_productos = pd.DataFrame(info_productos, columns= [\"categoria\", \"marca\", \"nombre\", \"tipo\", \"precio_sin_desc\", \"descuento\", \"precio_con_desc\", \"valoracion\", \"num_valoraciones\"] )"
   ]
  },
  {
   "cell_type": "markdown",
   "id": "a9ceb3c2-2ca6-4387-871a-3be8e3081d0e",
   "metadata": {},
   "source": [
    "## CSV"
   ]
  },
  {
   "cell_type": "code",
   "execution_count": 66,
   "id": "074cbccb-c224-4b0f-93f7-5dfcdc746a3a",
   "metadata": {},
   "outputs": [],
   "source": [
    "# df_info_productos.to_csv(\"datos_perfumes_douglas.csv\", index=\"False\", sep= \",\")"
   ]
  },
  {
   "cell_type": "code",
   "execution_count": null,
   "id": "8dd81aae-abac-486a-8fcb-a62025c17214",
   "metadata": {},
   "outputs": [],
   "source": [
    "######################################################################################################################################################"
   ]
  },
  {
   "cell_type": "code",
   "execution_count": null,
   "id": "5288a3d1-3b95-4cc2-bf57-b733198bfb7e",
   "metadata": {},
   "outputs": [],
   "source": [
    "######################################################################################################################################################"
   ]
  }
 ],
 "metadata": {
  "kernelspec": {
   "display_name": "Python 3 (ipykernel)",
   "language": "python",
   "name": "python3"
  },
  "language_info": {
   "codemirror_mode": {
    "name": "ipython",
    "version": 3
   },
   "file_extension": ".py",
   "mimetype": "text/x-python",
   "name": "python",
   "nbconvert_exporter": "python",
   "pygments_lexer": "ipython3",
   "version": "3.11.5"
  }
 },
 "nbformat": 4,
 "nbformat_minor": 5
}
