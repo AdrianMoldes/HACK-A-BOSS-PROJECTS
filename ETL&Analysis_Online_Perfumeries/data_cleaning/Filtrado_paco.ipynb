{
 "cells": [
  {
   "cell_type": "code",
   "execution_count": 1,
   "id": "5a0f5921-edcd-4e4c-987b-de747e7ffdda",
   "metadata": {
    "tags": []
   },
   "outputs": [],
   "source": [
    "import pandas as pd\n",
    "import numpy as np"
   ]
  },
  {
   "cell_type": "code",
   "execution_count": 2,
   "id": "e9475b9d-4ea2-4703-bc22-fc0c0d9d6a76",
   "metadata": {
    "tags": []
   },
   "outputs": [],
   "source": [
    "df = pd.read_csv(\"datos_perfumes_paco.csv\")"
   ]
  },
  {
   "cell_type": "code",
   "execution_count": 3,
   "id": "3a10ba86-919c-4d03-b4a9-d4c48a0db860",
   "metadata": {},
   "outputs": [],
   "source": [
    "df = df.drop('Unnamed: 0', axis=1)"
   ]
  },
  {
   "cell_type": "code",
   "execution_count": 4,
   "id": "378923fa-72e7-4039-b2c6-cc1992700085",
   "metadata": {
    "tags": []
   },
   "outputs": [],
   "source": [
    "df.insert(0, 'tienda', \"paco\")"
   ]
  },
  {
   "cell_type": "code",
   "execution_count": 5,
   "id": "9b536da2-c3ec-43f3-b474-e1ef5c6bf166",
   "metadata": {
    "tags": []
   },
   "outputs": [],
   "source": [
    "def convertir_a_minusculas(valor):\n",
    "    if isinstance(valor, str):\n",
    "        return valor.lower()\n",
    "    return valor\n",
    "\n",
    "df = df.map(convertir_a_minusculas)"
   ]
  },
  {
   "cell_type": "code",
   "execution_count": 6,
   "id": "6ab2c9a1-a830-403b-b6e9-32ef7142ebe5",
   "metadata": {},
   "outputs": [],
   "source": [
    "df['categoria'] = df['categoria'].str.replace('perfumes de hombre', 'hombre')\n",
    "df['categoria'] = df['categoria'].str.replace('perfumes de mujer', 'mujer')"
   ]
  },
  {
   "cell_type": "code",
   "execution_count": 7,
   "id": "7d3512b8-933f-485a-89a1-474a53cc5f6b",
   "metadata": {
    "tags": []
   },
   "outputs": [
    {
     "data": {
      "text/html": [
       "<div>\n",
       "<style scoped>\n",
       "    .dataframe tbody tr th:only-of-type {\n",
       "        vertical-align: middle;\n",
       "    }\n",
       "\n",
       "    .dataframe tbody tr th {\n",
       "        vertical-align: top;\n",
       "    }\n",
       "\n",
       "    .dataframe thead th {\n",
       "        text-align: right;\n",
       "    }\n",
       "</style>\n",
       "<table border=\"1\" class=\"dataframe\">\n",
       "  <thead>\n",
       "    <tr style=\"text-align: right;\">\n",
       "      <th></th>\n",
       "      <th>tienda</th>\n",
       "      <th>categoria</th>\n",
       "      <th>marca</th>\n",
       "      <th>nombre</th>\n",
       "      <th>tipo</th>\n",
       "      <th>precio_sin_desc</th>\n",
       "      <th>descuento</th>\n",
       "      <th>precio_con_desc</th>\n",
       "      <th>valoracion</th>\n",
       "      <th>num_valoraciones</th>\n",
       "    </tr>\n",
       "  </thead>\n",
       "  <tbody>\n",
       "    <tr>\n",
       "      <th>0</th>\n",
       "      <td>paco</td>\n",
       "      <td>hombre</td>\n",
       "      <td>paco rabanne</td>\n",
       "      <td>1 million</td>\n",
       "      <td>eau de toilette</td>\n",
       "      <td>80.50</td>\n",
       "      <td>38%</td>\n",
       "      <td>80.50</td>\n",
       "      <td>5</td>\n",
       "      <td>4</td>\n",
       "    </tr>\n",
       "    <tr>\n",
       "      <th>1</th>\n",
       "      <td>paco</td>\n",
       "      <td>hombre</td>\n",
       "      <td>dior</td>\n",
       "      <td>sauvage</td>\n",
       "      <td>eau de parfum</td>\n",
       "      <td>77.94</td>\n",
       "      <td>no tiene</td>\n",
       "      <td>sin descuento</td>\n",
       "      <td>4</td>\n",
       "      <td>17</td>\n",
       "    </tr>\n",
       "    <tr>\n",
       "      <th>2</th>\n",
       "      <td>paco</td>\n",
       "      <td>hombre</td>\n",
       "      <td>paco rabanne</td>\n",
       "      <td>invictus</td>\n",
       "      <td>eau de toilette</td>\n",
       "      <td>79.00</td>\n",
       "      <td>38%</td>\n",
       "      <td>79.00</td>\n",
       "      <td>4</td>\n",
       "      <td>58</td>\n",
       "    </tr>\n",
       "    <tr>\n",
       "      <th>3</th>\n",
       "      <td>paco</td>\n",
       "      <td>hombre</td>\n",
       "      <td>armani</td>\n",
       "      <td>acqua di giò hombre</td>\n",
       "      <td>eau de toilette</td>\n",
       "      <td>70.00</td>\n",
       "      <td>50%</td>\n",
       "      <td>70.00</td>\n",
       "      <td>4</td>\n",
       "      <td>10</td>\n",
       "    </tr>\n",
       "    <tr>\n",
       "      <th>4</th>\n",
       "      <td>paco</td>\n",
       "      <td>hombre</td>\n",
       "      <td>loewe</td>\n",
       "      <td>esencia loewe</td>\n",
       "      <td>eau de toilette</td>\n",
       "      <td>97.00</td>\n",
       "      <td>35%</td>\n",
       "      <td>97.00</td>\n",
       "      <td>4</td>\n",
       "      <td>2</td>\n",
       "    </tr>\n",
       "    <tr>\n",
       "      <th>...</th>\n",
       "      <td>...</td>\n",
       "      <td>...</td>\n",
       "      <td>...</td>\n",
       "      <td>...</td>\n",
       "      <td>...</td>\n",
       "      <td>...</td>\n",
       "      <td>...</td>\n",
       "      <td>...</td>\n",
       "      <td>...</td>\n",
       "      <td>...</td>\n",
       "    </tr>\n",
       "    <tr>\n",
       "      <th>1563</th>\n",
       "      <td>paco</td>\n",
       "      <td>mujer</td>\n",
       "      <td>perris monte carlo</td>\n",
       "      <td>musk extreme</td>\n",
       "      <td>eau de parfum</td>\n",
       "      <td>145.00</td>\n",
       "      <td>no tiene</td>\n",
       "      <td>sin descuento</td>\n",
       "      <td>0</td>\n",
       "      <td>0</td>\n",
       "    </tr>\n",
       "    <tr>\n",
       "      <th>1564</th>\n",
       "      <td>paco</td>\n",
       "      <td>mujer</td>\n",
       "      <td>jimmy boyd</td>\n",
       "      <td>wonderful india</td>\n",
       "      <td>eau de toilette</td>\n",
       "      <td>62.00</td>\n",
       "      <td>15%</td>\n",
       "      <td>62.00</td>\n",
       "      <td>0</td>\n",
       "      <td>0</td>\n",
       "    </tr>\n",
       "    <tr>\n",
       "      <th>1565</th>\n",
       "      <td>paco</td>\n",
       "      <td>mujer</td>\n",
       "      <td>montale paris</td>\n",
       "      <td>velvet fantasy</td>\n",
       "      <td>eau de parfum</td>\n",
       "      <td>129.95</td>\n",
       "      <td>no tiene</td>\n",
       "      <td>sin descuento</td>\n",
       "      <td>0</td>\n",
       "      <td>0</td>\n",
       "    </tr>\n",
       "    <tr>\n",
       "      <th>1566</th>\n",
       "      <td>paco</td>\n",
       "      <td>mujer</td>\n",
       "      <td>loewe</td>\n",
       "      <td>aura floral</td>\n",
       "      <td>eau de parfum</td>\n",
       "      <td>130.00</td>\n",
       "      <td>35%</td>\n",
       "      <td>130.00</td>\n",
       "      <td>4</td>\n",
       "      <td>5</td>\n",
       "    </tr>\n",
       "    <tr>\n",
       "      <th>1567</th>\n",
       "      <td>paco</td>\n",
       "      <td>mujer</td>\n",
       "      <td>guerlain</td>\n",
       "      <td>l'heure bleue edp</td>\n",
       "      <td>eau de parfum</td>\n",
       "      <td>146.50</td>\n",
       "      <td>35%</td>\n",
       "      <td>146.50</td>\n",
       "      <td>0</td>\n",
       "      <td>0</td>\n",
       "    </tr>\n",
       "  </tbody>\n",
       "</table>\n",
       "<p>1568 rows × 10 columns</p>\n",
       "</div>"
      ],
      "text/plain": [
       "     tienda categoria               marca               nombre  \\\n",
       "0      paco    hombre        paco rabanne            1 million   \n",
       "1      paco    hombre                dior              sauvage   \n",
       "2      paco    hombre        paco rabanne             invictus   \n",
       "3      paco    hombre              armani  acqua di giò hombre   \n",
       "4      paco    hombre               loewe        esencia loewe   \n",
       "...     ...       ...                 ...                  ...   \n",
       "1563   paco     mujer  perris monte carlo         musk extreme   \n",
       "1564   paco     mujer          jimmy boyd      wonderful india   \n",
       "1565   paco     mujer       montale paris       velvet fantasy   \n",
       "1566   paco     mujer               loewe          aura floral   \n",
       "1567   paco     mujer            guerlain    l'heure bleue edp   \n",
       "\n",
       "                 tipo  precio_sin_desc descuento precio_con_desc  valoracion  \\\n",
       "0     eau de toilette            80.50       38%           80.50           5   \n",
       "1       eau de parfum            77.94  no tiene   sin descuento           4   \n",
       "2     eau de toilette            79.00       38%           79.00           4   \n",
       "3     eau de toilette            70.00       50%           70.00           4   \n",
       "4     eau de toilette            97.00       35%           97.00           4   \n",
       "...               ...              ...       ...             ...         ...   \n",
       "1563    eau de parfum           145.00  no tiene   sin descuento           0   \n",
       "1564  eau de toilette            62.00       15%           62.00           0   \n",
       "1565    eau de parfum           129.95  no tiene   sin descuento           0   \n",
       "1566    eau de parfum           130.00       35%          130.00           4   \n",
       "1567    eau de parfum           146.50       35%          146.50           0   \n",
       "\n",
       "      num_valoraciones  \n",
       "0                    4  \n",
       "1                   17  \n",
       "2                   58  \n",
       "3                   10  \n",
       "4                    2  \n",
       "...                ...  \n",
       "1563                 0  \n",
       "1564                 0  \n",
       "1565                 0  \n",
       "1566                 5  \n",
       "1567                 0  \n",
       "\n",
       "[1568 rows x 10 columns]"
      ]
     },
     "execution_count": 7,
     "metadata": {},
     "output_type": "execute_result"
    }
   ],
   "source": [
    "def mapear_tipos_y_limpiar(df):    \n",
    "\n",
    "    mapping = {\n",
    "        'eau de  parfum'         : 'eau de parfum',\n",
    "        'eau parfumee'           : 'eau de parfum',\n",
    "        'eau parfumeé'           : 'eau de parfum',\n",
    "        'extrait de parfum'      : 'parfum',\n",
    "        'essence de parfum'      : 'parfum',\n",
    "        'eau detoilette'         : 'eau de toilette',\n",
    "        'eau fraîche'            : 'eau de cologne',\n",
    "        'para hombre'            : '',\n",
    "        'para mujer'             : '',\n",
    "        'para  mujer'            : '',\n",
    "        'unisex'                 : '',\n",
    "        'intense'                : '',\n",
    "        'extreme'                : '',\n",
    "        'légère'                 : '',\n",
    "        'cologne spray'          : '',\n",
    "        'el ritual perfumado -'  : '',\n",
    "        'y vaporizador de viaje' : ''\n",
    "    }\n",
    "\n",
    "    for name, replacement in mapping.items():\n",
    "        df['tipo'] = df['tipo'].str.replace(name, replacement, regex=False)\n",
    "\n",
    "    df['tipo'] = df['tipo'].str.strip()\n",
    "    \n",
    "    return df\n",
    "\n",
    "mapear_tipos_y_limpiar(df)"
   ]
  },
  {
   "cell_type": "code",
   "execution_count": 8,
   "id": "3d4b1f3f-3e80-4212-96f0-c7e05671f5f8",
   "metadata": {
    "tags": []
   },
   "outputs": [],
   "source": [
    "df.loc[df['tipo'] == 'cologne', 'tipo'] = 'eau de cologne'"
   ]
  },
  {
   "cell_type": "code",
   "execution_count": 9,
   "id": "687b6630-9768-4eab-9fbf-c514aaaef398",
   "metadata": {},
   "outputs": [],
   "source": [
    "def clean_prices(df, columns):\n",
    "    \n",
    "    for col in columns:\n",
    "        \n",
    "        df[col] = df[col].str.replace('[^0-9,]', '', regex=True) \n",
    "        df[col] = df[col].str.replace(',', '.', regex=True)\n",
    "        df[col] = df[col].replace('', '0', regex=True)\n",
    "        df[col] = df[col].astype(float)  \n",
    "\n",
    "columns = ['descuento', 'precio_con_desc']\n",
    "\n",
    "clean_prices(df, columns)"
   ]
  },
  {
   "cell_type": "code",
   "execution_count": 10,
   "id": "a1456d5f-e4d5-4094-a5a9-e73d6c0b6fb5",
   "metadata": {
    "tags": []
   },
   "outputs": [],
   "source": [
    "df['precio_con_desc'] = (df['precio_sin_desc'] * (1 - df['descuento'] / 100)).round(2)"
   ]
  },
  {
   "cell_type": "code",
   "execution_count": 11,
   "id": "96d2448f-3725-4e35-82e7-60a6cf97b8da",
   "metadata": {
    "tags": []
   },
   "outputs": [],
   "source": [
    "columns = ['valoracion', 'num_valoraciones']\n",
    "\n",
    "for col in columns:\n",
    "    df[col] = df[col].replace(['sin valoracion', 'sin valoraciones'], np.nan)"
   ]
  },
  {
   "cell_type": "code",
   "execution_count": 12,
   "id": "35a7094d-fa5f-43b3-a8ea-ba16b52c1727",
   "metadata": {},
   "outputs": [],
   "source": [
    "df = df.drop_duplicates()"
   ]
  },
  {
   "cell_type": "code",
   "execution_count": 13,
   "id": "85e08362-c970-47c4-b031-ff8b1e51fab5",
   "metadata": {
    "tags": []
   },
   "outputs": [
    {
     "data": {
      "text/plain": [
       "tipo\n",
       "eau de parfum                    792\n",
       "eau de toilette                  714\n",
       "parfum                            34\n",
       "eau de cologne                    27\n",
       "agua de tratamiento perfumada      1\n",
       "Name: count, dtype: int64"
      ]
     },
     "execution_count": 13,
     "metadata": {},
     "output_type": "execute_result"
    }
   ],
   "source": [
    "df['tipo'].value_counts()"
   ]
  },
  {
   "cell_type": "code",
   "execution_count": 14,
   "id": "7c9733f7-c95c-4aef-9325-581f015159a2",
   "metadata": {},
   "outputs": [
    {
     "name": "stdout",
     "output_type": "stream",
     "text": [
      "<class 'pandas.core.frame.DataFrame'>\n",
      "RangeIndex: 1568 entries, 0 to 1567\n",
      "Data columns (total 10 columns):\n",
      " #   Column            Non-Null Count  Dtype  \n",
      "---  ------            --------------  -----  \n",
      " 0   tienda            1568 non-null   object \n",
      " 1   categoria         1568 non-null   object \n",
      " 2   marca             1568 non-null   object \n",
      " 3   nombre            1568 non-null   object \n",
      " 4   tipo              1568 non-null   object \n",
      " 5   precio_sin_desc   1568 non-null   float64\n",
      " 6   descuento         1568 non-null   float64\n",
      " 7   precio_con_desc   1568 non-null   float64\n",
      " 8   valoracion        1568 non-null   int64  \n",
      " 9   num_valoraciones  1568 non-null   int64  \n",
      "dtypes: float64(3), int64(2), object(5)\n",
      "memory usage: 122.6+ KB\n"
     ]
    }
   ],
   "source": [
    "df.info()"
   ]
  },
  {
   "cell_type": "code",
   "execution_count": 15,
   "id": "bb098964-6104-4657-847e-47ab3ec6d6e1",
   "metadata": {
    "tags": []
   },
   "outputs": [],
   "source": [
    "lista_tipos = ['eau de parfum', 'eau de toilette', 'parfum', 'eau de cologne']\n",
    "df = df[df[\"tipo\"].isin(lista_tipos)].reset_index(drop=True)"
   ]
  },
  {
   "cell_type": "code",
   "execution_count": 16,
   "id": "e63110c5-5d2d-4b8c-b52b-876f52927876",
   "metadata": {
    "tags": []
   },
   "outputs": [],
   "source": [
    "df.to_csv('datos_perfumes_paco_filtrados.csv', index=False)"
   ]
  }
 ],
 "metadata": {
  "kernelspec": {
   "display_name": "Python 3 (ipykernel)",
   "language": "python",
   "name": "python3"
  },
  "language_info": {
   "codemirror_mode": {
    "name": "ipython",
    "version": 3
   },
   "file_extension": ".py",
   "mimetype": "text/x-python",
   "name": "python",
   "nbconvert_exporter": "python",
   "pygments_lexer": "ipython3",
   "version": "3.11.4"
  }
 },
 "nbformat": 4,
 "nbformat_minor": 5
}
