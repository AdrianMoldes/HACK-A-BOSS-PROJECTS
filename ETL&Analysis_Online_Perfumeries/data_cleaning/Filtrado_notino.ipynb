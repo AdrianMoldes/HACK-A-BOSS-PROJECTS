{
 "cells": [
  {
   "cell_type": "code",
   "execution_count": 1,
   "id": "ca069a89-0b6c-4027-a212-7275cc8402ee",
   "metadata": {
    "tags": []
   },
   "outputs": [],
   "source": [
    "import pandas as pd\n",
    "import numpy as np\n",
    "import re\n",
    "\n",
    "# Para visualizar el progreso:\n",
    "import tqdm"
   ]
  },
  {
   "cell_type": "code",
   "execution_count": 2,
   "id": "6baaf3b5-3ada-4132-af0e-63011f1e0066",
   "metadata": {
    "tags": []
   },
   "outputs": [],
   "source": [
    "df_notino_0_25 = pd.read_csv(\"datos_perfumes_notino_0_25.csv\")\n",
    "df_notino_25_50 = pd.read_csv(\"datos_perfumes_notino_25_50.csv\")\n",
    "df_notino_50_75 = pd.read_csv(\"datos_perfumes_notino_50_75.csv\")\n",
    "df_notino_75_100 = pd.read_csv(\"datos_perfumes_notino_75_100.csv\")\n",
    "df_notino_100_125 = pd.read_csv(\"datos_perfumes_notino_100_125.csv\")\n",
    "df_notino_125_175 = pd.read_csv(\"datos_perfumes_notino_125_175.csv\")\n",
    "df_notino_175_200 = pd.read_csv(\"datos_perfumes_notino_175_200.csv\")\n",
    "df_notino_200_225 = pd.read_csv(\"datos_perfumes_notino_200_225.csv\")\n",
    "df_notino_225_226 = pd.read_csv(\"datos_perfumes_notino_225_226.csv\")\n",
    "df_notino_226_248 = pd.read_csv(\"datos_perfumes_notino_226_248.csv\")"
   ]
  },
  {
   "cell_type": "code",
   "execution_count": 3,
   "id": "02a3262a-c625-47bf-bc66-262022c7a832",
   "metadata": {
    "tags": []
   },
   "outputs": [],
   "source": [
    "df_notino = pd.concat([df_notino_0_25, df_notino_25_50, df_notino_50_75, df_notino_75_100, df_notino_100_125, df_notino_125_175, df_notino_175_200, df_notino_226_248], axis = 0)"
   ]
  },
  {
   "cell_type": "code",
   "execution_count": 4,
   "id": "38a7475f-5b6d-4c89-96df-78ac5f91e2ad",
   "metadata": {
    "tags": []
   },
   "outputs": [],
   "source": [
    "df_notino_clean = df_notino.copy()"
   ]
  },
  {
   "cell_type": "markdown",
   "id": "1cdd2f52-4ab0-4103-8d85-adec798bbf53",
   "metadata": {},
   "source": [
    "### Elimino la primera y última columna:"
   ]
  },
  {
   "cell_type": "code",
   "execution_count": 5,
   "id": "5460d732-8e87-4c3e-9780-394e29c8b802",
   "metadata": {
    "tags": []
   },
   "outputs": [],
   "source": [
    "def convertir_a_minusculas(valor):\n",
    "    if isinstance(valor, str):\n",
    "        return valor.lower()\n",
    "    return valor\n",
    "\n",
    "df_notino_clean = df_notino_clean.map(convertir_a_minusculas)"
   ]
  },
  {
   "cell_type": "markdown",
   "id": "6bcc491f-7e7f-4a71-a8dc-fe8a0180549b",
   "metadata": {},
   "source": [
    "### Añado la columna tienda:"
   ]
  },
  {
   "cell_type": "code",
   "execution_count": 6,
   "id": "747f6e3a-392b-467c-8483-13a964a2a752",
   "metadata": {
    "tags": []
   },
   "outputs": [],
   "source": [
    "df_notino_clean.insert(0, 'tienda', \"notino\")"
   ]
  },
  {
   "cell_type": "markdown",
   "id": "bb8411fc-f28d-4957-8847-00f6efad97de",
   "metadata": {},
   "source": [
    "### Paso las columnas a minusculas:"
   ]
  },
  {
   "cell_type": "code",
   "execution_count": 7,
   "id": "d9a34c9f-b54b-4ccd-8baf-afb8a9464838",
   "metadata": {
    "tags": []
   },
   "outputs": [
    {
     "name": "stderr",
     "output_type": "stream",
     "text": [
      "C:\\Users\\regue\\AppData\\Local\\Temp\\ipykernel_55136\\1907073959.py:1: FutureWarning: DataFrame.applymap has been deprecated. Use DataFrame.map instead.\n",
      "  df_notino_clean = df_notino_clean.applymap(lambda x: x.lower() if isinstance(x, str) else x)\n"
     ]
    }
   ],
   "source": [
    "df_notino_clean = df_notino_clean.map(lambda x: x.lower() if isinstance(x, str) else x)"
   ]
  },
  {
   "cell_type": "markdown",
   "id": "47ef42eb-8a30-4cfb-9ede-75d8832969b1",
   "metadata": {
    "tags": []
   },
   "source": [
    "### Limpio categoria"
   ]
  },
  {
   "cell_type": "code",
   "execution_count": 8,
   "id": "2b5a1876-a34d-48a2-8aed-1cdb32f095c8",
   "metadata": {
    "tags": []
   },
   "outputs": [
    {
     "data": {
      "text/plain": [
       "array(['perfumes de hombre', 'perfumes de mujer'], dtype=object)"
      ]
     },
     "execution_count": 8,
     "metadata": {},
     "output_type": "execute_result"
    }
   ],
   "source": [
    "df_notino_clean[\"categoria\"].unique()"
   ]
  },
  {
   "cell_type": "code",
   "execution_count": 9,
   "id": "19011953-b9e4-40e0-bff3-c766fa9e02da",
   "metadata": {
    "tags": []
   },
   "outputs": [],
   "source": [
    "df_notino_clean['categoria'] = df_notino_clean['categoria'].str.replace('perfumes de hombre', 'hombre')\n",
    "df_notino_clean['categoria'] = df_notino_clean['categoria'].str.replace('perfumes de mujer', 'mujer')"
   ]
  },
  {
   "cell_type": "code",
   "execution_count": 10,
   "id": "116ba874-bff2-4cd8-aea3-7fbc567666b1",
   "metadata": {
    "tags": []
   },
   "outputs": [
    {
     "data": {
      "text/html": [
       "<div>\n",
       "<style scoped>\n",
       "    .dataframe tbody tr th:only-of-type {\n",
       "        vertical-align: middle;\n",
       "    }\n",
       "\n",
       "    .dataframe tbody tr th {\n",
       "        vertical-align: top;\n",
       "    }\n",
       "\n",
       "    .dataframe thead th {\n",
       "        text-align: right;\n",
       "    }\n",
       "</style>\n",
       "<table border=\"1\" class=\"dataframe\">\n",
       "  <thead>\n",
       "    <tr style=\"text-align: right;\">\n",
       "      <th></th>\n",
       "      <th>tienda</th>\n",
       "      <th>categoria</th>\n",
       "      <th>marca</th>\n",
       "      <th>nombre</th>\n",
       "      <th>tipo</th>\n",
       "      <th>precio_sin_desc</th>\n",
       "      <th>descuento</th>\n",
       "      <th>precio_con_desc</th>\n",
       "      <th>valoracion</th>\n",
       "      <th>num_valoraciones</th>\n",
       "    </tr>\n",
       "  </thead>\n",
       "  <tbody>\n",
       "    <tr>\n",
       "      <th>0</th>\n",
       "      <td>notino</td>\n",
       "      <td>hombre</td>\n",
       "      <td>hugo boss</td>\n",
       "      <td>boss the scent absolute</td>\n",
       "      <td>eau de parfum para hombre</td>\n",
       "      <td>134,00€</td>\n",
       "      <td>-15 %</td>\n",
       "      <td>45,40</td>\n",
       "      <td>5</td>\n",
       "      <td>3</td>\n",
       "    </tr>\n",
       "    <tr>\n",
       "      <th>1</th>\n",
       "      <td>notino</td>\n",
       "      <td>hombre</td>\n",
       "      <td>versace</td>\n",
       "      <td>eros</td>\n",
       "      <td>eau de toilette para hombre</td>\n",
       "      <td>es el precio con desc</td>\n",
       "      <td>-15 %</td>\n",
       "      <td>57,50</td>\n",
       "      <td>sin valoracion</td>\n",
       "      <td>sin valoraciones</td>\n",
       "    </tr>\n",
       "    <tr>\n",
       "      <th>2</th>\n",
       "      <td>notino</td>\n",
       "      <td>hombre</td>\n",
       "      <td>versace</td>\n",
       "      <td>pour homme</td>\n",
       "      <td>eau de toilette para hombre</td>\n",
       "      <td>es el precio con desc</td>\n",
       "      <td>-15 %</td>\n",
       "      <td>47,00</td>\n",
       "      <td>sin valoracion</td>\n",
       "      <td>sin valoraciones</td>\n",
       "    </tr>\n",
       "  </tbody>\n",
       "</table>\n",
       "</div>"
      ],
      "text/plain": [
       "   tienda categoria      marca                   nombre  \\\n",
       "0  notino    hombre  hugo boss  boss the scent absolute   \n",
       "1  notino    hombre    versace                     eros   \n",
       "2  notino    hombre    versace               pour homme   \n",
       "\n",
       "                          tipo        precio_sin_desc descuento  \\\n",
       "0    eau de parfum para hombre                134,00€     -15 %   \n",
       "1  eau de toilette para hombre  es el precio con desc     -15 %   \n",
       "2  eau de toilette para hombre  es el precio con desc     -15 %   \n",
       "\n",
       "  precio_con_desc      valoracion  num_valoraciones  \n",
       "0           45,40               5                 3  \n",
       "1           57,50  sin valoracion  sin valoraciones  \n",
       "2           47,00  sin valoracion  sin valoraciones  "
      ]
     },
     "execution_count": 10,
     "metadata": {},
     "output_type": "execute_result"
    }
   ],
   "source": [
    "df_notino_clean.head(3)"
   ]
  },
  {
   "cell_type": "markdown",
   "id": "fa1894e4-2b4c-4919-8eed-512d731f6c09",
   "metadata": {},
   "source": [
    "### Limpiamos la columna \"tipo\" agrupando:"
   ]
  },
  {
   "cell_type": "code",
   "execution_count": 11,
   "id": "fa5bae95-3c8c-4261-9055-212db671bf47",
   "metadata": {
    "tags": []
   },
   "outputs": [],
   "source": [
    "def mapear_tipos_y_limpiar(df):\n",
    "\n",
    "    mapping = {\"para hombre\"             : \"\",\n",
    "    \"para mujer\"                         : \"\",\n",
    "    \"ml\"                                 : \"\",\n",
    "    \"0\"                                  : \"\",\n",
    "    \"1\"                                  : \"\",\n",
    "    \"2\"                                  : \"\",\n",
    "    \"3\"                                  : \"\",\n",
    "    \"4\"                                  : \"\",\n",
    "    \"5\"                                  : \"\",\n",
    "    \"6\"                                  : \"\",\n",
    "    \"7\"                                  : \"\",\n",
    "    \"8\"                                  : \"\",\n",
    "    \"9\"                                  : \"\",\n",
    "    \"roll-on\"                            : \"\",\n",
    "    \"con vaporizador para hombre\"        : \"\",\n",
    "    \"recargable\"                         : \"\",\n",
    "    \"recambio\"                           : \"\",\n",
    "    \"(intense)\"                          : \"\",\n",
    "    \"unisex\"                             : \"\",\n",
    "    \"new design para hombre\"             : \"\",\n",
    "    \"(edición limitada)\"                 : \"\",\n",
    "    \"(roll-on)\"                          : \"\",\n",
    "    \"perfumado\"                          : \"\",\n",
    "    \"y+\"                                 : \"\",\n",
    "    \"sin pulverizador\"                   : \"\",\n",
    "    \"extracto de perfume\"                : \"parfum\",\n",
    "    \"en caja\"                            : \"\",\n",
    "    \"new design\"                         : \"\",\n",
    "    \"edición limitada\"                   : \"\",\n",
    "    \"perfume\"                            : \"parfum\",\n",
    "    \"con efecto energizante\"             : \"\",\n",
    "    \"con vaporizador\"                    : \"\",\n",
    "    \"recarga con pulverizador  x\"        : \"\",\n",
    "    \"(x  + x recarga)  x\"                : \"\",\n",
    "    \"agua de colonia\"                    : \"eau de cologne\"\n",
    "    }\n",
    "    for name, replacement in mapping.items():\n",
    "        df['tipo'] = df['tipo'].str.replace(name, replacement, regex=False)\n",
    "\n",
    "    df['tipo'] = df['tipo'].str.strip()\n",
    "    \n",
    "    return df"
   ]
  },
  {
   "cell_type": "code",
   "execution_count": null,
   "id": "db7dc32c-a89c-46c5-a772-19ffc504ffd4",
   "metadata": {},
   "outputs": [],
   "source": [
    "df_notino_clean = mapear_tipos_y_limpiar(df_notino_clean)"
   ]
  },
  {
   "cell_type": "code",
   "execution_count": 12,
   "id": "df1b8701-3f0b-4c6f-ae15-3dc4b49db0a9",
   "metadata": {
    "tags": []
   },
   "outputs": [
    {
     "data": {
      "text/plain": [
       "tipo\n",
       "eau de parfum                         4760\n",
       "eau de toilette                        311\n",
       "parfum                                 128\n",
       "eau de cologne                          47\n",
       "spray corporal                          42\n",
       "aceite                                  30\n",
       "lote de regalo                           8\n",
       "set                                      6\n",
       "bruma perfumada corporal y capilar       5\n",
       "sin categoria                            4\n",
       "desodorante y spray corporal             3\n",
       "eau fraiche                              2\n",
       "spray corporal estimulante               2\n",
       "spray corporal  con purpurina            2\n",
       "aceite   (roll on)                       2\n",
       "rocío corporal                           1\n",
       "spray corporal refrescante               1\n",
       "aceite  sin alcohol                      1\n",
       "                                         1\n",
       "bruma para cabello y cuerpo              1\n",
       "Name: count, dtype: int64"
      ]
     },
     "execution_count": 12,
     "metadata": {},
     "output_type": "execute_result"
    }
   ],
   "source": [
    "df_notino_clean[\"tipo\"].value_counts()"
   ]
  },
  {
   "cell_type": "markdown",
   "id": "b275316a-fa14-438f-8d75-c7225b35d8ee",
   "metadata": {},
   "source": [
    "### Limpio la columna valoración y num_valoraciones"
   ]
  },
  {
   "cell_type": "code",
   "execution_count": 13,
   "id": "84b854ba-832b-40af-ae79-7a31bec7808e",
   "metadata": {
    "tags": []
   },
   "outputs": [],
   "source": [
    "columns = ['valoracion', 'num_valoraciones']\n",
    "\n",
    "for col in columns:\n",
    "    df_notino_clean[col] = df_notino_clean[col].replace(['sin valoracion', 'sin valoraciones'], np.nan).astype(float)"
   ]
  },
  {
   "cell_type": "code",
   "execution_count": 14,
   "id": "aa37678d-d236-4bff-966b-2ca546d6f0bf",
   "metadata": {
    "tags": []
   },
   "outputs": [
    {
     "name": "stdout",
     "output_type": "stream",
     "text": [
      "<class 'pandas.core.frame.DataFrame'>\n",
      "Index: 5357 entries, 0 to 551\n",
      "Data columns (total 10 columns):\n",
      " #   Column            Non-Null Count  Dtype  \n",
      "---  ------            --------------  -----  \n",
      " 0   tienda            5357 non-null   object \n",
      " 1   categoria         5357 non-null   object \n",
      " 2   marca             5357 non-null   object \n",
      " 3   nombre            5357 non-null   object \n",
      " 4   tipo              5357 non-null   object \n",
      " 5   precio_sin_desc   5357 non-null   object \n",
      " 6   descuento         5357 non-null   object \n",
      " 7   precio_con_desc   5357 non-null   object \n",
      " 8   valoracion        3798 non-null   float64\n",
      " 9   num_valoraciones  3798 non-null   float64\n",
      "dtypes: float64(2), object(8)\n",
      "memory usage: 460.4+ KB\n"
     ]
    }
   ],
   "source": [
    "df_notino_clean.info()"
   ]
  },
  {
   "cell_type": "code",
   "execution_count": 15,
   "id": "4bf214c1-8b99-45bf-aaaf-7adeef59899d",
   "metadata": {
    "tags": []
   },
   "outputs": [
    {
     "data": {
      "text/html": [
       "<div>\n",
       "<style scoped>\n",
       "    .dataframe tbody tr th:only-of-type {\n",
       "        vertical-align: middle;\n",
       "    }\n",
       "\n",
       "    .dataframe tbody tr th {\n",
       "        vertical-align: top;\n",
       "    }\n",
       "\n",
       "    .dataframe thead th {\n",
       "        text-align: right;\n",
       "    }\n",
       "</style>\n",
       "<table border=\"1\" class=\"dataframe\">\n",
       "  <thead>\n",
       "    <tr style=\"text-align: right;\">\n",
       "      <th></th>\n",
       "      <th>tienda</th>\n",
       "      <th>categoria</th>\n",
       "      <th>marca</th>\n",
       "      <th>nombre</th>\n",
       "      <th>tipo</th>\n",
       "      <th>precio_sin_desc</th>\n",
       "      <th>descuento</th>\n",
       "      <th>precio_con_desc</th>\n",
       "      <th>valoracion</th>\n",
       "      <th>num_valoraciones</th>\n",
       "    </tr>\n",
       "  </thead>\n",
       "  <tbody>\n",
       "    <tr>\n",
       "      <th>0</th>\n",
       "      <td>notino</td>\n",
       "      <td>hombre</td>\n",
       "      <td>hugo boss</td>\n",
       "      <td>boss the scent absolute</td>\n",
       "      <td>eau de parfum</td>\n",
       "      <td>134,00€</td>\n",
       "      <td>-15 %</td>\n",
       "      <td>45,40</td>\n",
       "      <td>5.0</td>\n",
       "      <td>3.0</td>\n",
       "    </tr>\n",
       "    <tr>\n",
       "      <th>1</th>\n",
       "      <td>notino</td>\n",
       "      <td>hombre</td>\n",
       "      <td>versace</td>\n",
       "      <td>eros</td>\n",
       "      <td>eau de toilette</td>\n",
       "      <td>es el precio con desc</td>\n",
       "      <td>-15 %</td>\n",
       "      <td>57,50</td>\n",
       "      <td>NaN</td>\n",
       "      <td>NaN</td>\n",
       "    </tr>\n",
       "    <tr>\n",
       "      <th>2</th>\n",
       "      <td>notino</td>\n",
       "      <td>hombre</td>\n",
       "      <td>versace</td>\n",
       "      <td>pour homme</td>\n",
       "      <td>eau de toilette</td>\n",
       "      <td>es el precio con desc</td>\n",
       "      <td>-15 %</td>\n",
       "      <td>47,00</td>\n",
       "      <td>NaN</td>\n",
       "      <td>NaN</td>\n",
       "    </tr>\n",
       "    <tr>\n",
       "      <th>3</th>\n",
       "      <td>notino</td>\n",
       "      <td>hombre</td>\n",
       "      <td>sin marca</td>\n",
       "      <td>sin nombre</td>\n",
       "      <td>sin categoria</td>\n",
       "      <td>es el precio con desc</td>\n",
       "      <td>sin descuento</td>\n",
       "      <td>sin precio</td>\n",
       "      <td>NaN</td>\n",
       "      <td>NaN</td>\n",
       "    </tr>\n",
       "    <tr>\n",
       "      <th>4</th>\n",
       "      <td>notino</td>\n",
       "      <td>hombre</td>\n",
       "      <td>narciso rodriguez</td>\n",
       "      <td>for him bleu noir</td>\n",
       "      <td>eau de parfum</td>\n",
       "      <td>110,00€</td>\n",
       "      <td>-15 %</td>\n",
       "      <td>57,50</td>\n",
       "      <td>5.0</td>\n",
       "      <td>1.0</td>\n",
       "    </tr>\n",
       "    <tr>\n",
       "      <th>...</th>\n",
       "      <td>...</td>\n",
       "      <td>...</td>\n",
       "      <td>...</td>\n",
       "      <td>...</td>\n",
       "      <td>...</td>\n",
       "      <td>...</td>\n",
       "      <td>...</td>\n",
       "      <td>...</td>\n",
       "      <td>...</td>\n",
       "      <td>...</td>\n",
       "    </tr>\n",
       "    <tr>\n",
       "      <th>547</th>\n",
       "      <td>notino</td>\n",
       "      <td>mujer</td>\n",
       "      <td>beyoncé</td>\n",
       "      <td>heat rush</td>\n",
       "      <td>eau de toilette</td>\n",
       "      <td>es el precio con desc</td>\n",
       "      <td>sin descuento</td>\n",
       "      <td>sin precio</td>\n",
       "      <td>NaN</td>\n",
       "      <td>NaN</td>\n",
       "    </tr>\n",
       "    <tr>\n",
       "      <th>548</th>\n",
       "      <td>notino</td>\n",
       "      <td>mujer</td>\n",
       "      <td>katy perry</td>\n",
       "      <td>katy perry's mad potion</td>\n",
       "      <td>eau de parfum</td>\n",
       "      <td>es el precio con desc</td>\n",
       "      <td>sin descuento</td>\n",
       "      <td>sin precio</td>\n",
       "      <td>NaN</td>\n",
       "      <td>NaN</td>\n",
       "    </tr>\n",
       "    <tr>\n",
       "      <th>549</th>\n",
       "      <td>notino</td>\n",
       "      <td>mujer</td>\n",
       "      <td>biotherm</td>\n",
       "      <td>l’eau</td>\n",
       "      <td>eau de toilette</td>\n",
       "      <td>es el precio con desc</td>\n",
       "      <td>sin descuento</td>\n",
       "      <td>sin precio</td>\n",
       "      <td>NaN</td>\n",
       "      <td>NaN</td>\n",
       "    </tr>\n",
       "    <tr>\n",
       "      <th>550</th>\n",
       "      <td>notino</td>\n",
       "      <td>mujer</td>\n",
       "      <td>eisenberg</td>\n",
       "      <td>rouge et noir</td>\n",
       "      <td>eau de parfum</td>\n",
       "      <td>es el precio con desc</td>\n",
       "      <td>sin descuento</td>\n",
       "      <td>sin precio</td>\n",
       "      <td>NaN</td>\n",
       "      <td>NaN</td>\n",
       "    </tr>\n",
       "    <tr>\n",
       "      <th>551</th>\n",
       "      <td>notino</td>\n",
       "      <td>mujer</td>\n",
       "      <td>houbigant</td>\n",
       "      <td>quelques fleurs royale</td>\n",
       "      <td>eau de parfum</td>\n",
       "      <td>es el precio con desc</td>\n",
       "      <td>sin descuento</td>\n",
       "      <td>sin precio</td>\n",
       "      <td>NaN</td>\n",
       "      <td>NaN</td>\n",
       "    </tr>\n",
       "  </tbody>\n",
       "</table>\n",
       "<p>5357 rows × 10 columns</p>\n",
       "</div>"
      ],
      "text/plain": [
       "     tienda categoria              marca                   nombre  \\\n",
       "0    notino    hombre          hugo boss  boss the scent absolute   \n",
       "1    notino    hombre            versace                     eros   \n",
       "2    notino    hombre            versace               pour homme   \n",
       "3    notino    hombre          sin marca               sin nombre   \n",
       "4    notino    hombre  narciso rodriguez        for him bleu noir   \n",
       "..      ...       ...                ...                      ...   \n",
       "547  notino     mujer            beyoncé                heat rush   \n",
       "548  notino     mujer         katy perry  katy perry's mad potion   \n",
       "549  notino     mujer           biotherm                    l’eau   \n",
       "550  notino     mujer          eisenberg            rouge et noir   \n",
       "551  notino     mujer          houbigant   quelques fleurs royale   \n",
       "\n",
       "                tipo        precio_sin_desc      descuento precio_con_desc  \\\n",
       "0      eau de parfum                134,00€          -15 %           45,40   \n",
       "1    eau de toilette  es el precio con desc          -15 %           57,50   \n",
       "2    eau de toilette  es el precio con desc          -15 %           47,00   \n",
       "3      sin categoria  es el precio con desc  sin descuento      sin precio   \n",
       "4      eau de parfum                110,00€          -15 %           57,50   \n",
       "..               ...                    ...            ...             ...   \n",
       "547  eau de toilette  es el precio con desc  sin descuento      sin precio   \n",
       "548    eau de parfum  es el precio con desc  sin descuento      sin precio   \n",
       "549  eau de toilette  es el precio con desc  sin descuento      sin precio   \n",
       "550    eau de parfum  es el precio con desc  sin descuento      sin precio   \n",
       "551    eau de parfum  es el precio con desc  sin descuento      sin precio   \n",
       "\n",
       "     valoracion  num_valoraciones  \n",
       "0           5.0               3.0  \n",
       "1           NaN               NaN  \n",
       "2           NaN               NaN  \n",
       "3           NaN               NaN  \n",
       "4           5.0               1.0  \n",
       "..          ...               ...  \n",
       "547         NaN               NaN  \n",
       "548         NaN               NaN  \n",
       "549         NaN               NaN  \n",
       "550         NaN               NaN  \n",
       "551         NaN               NaN  \n",
       "\n",
       "[5357 rows x 10 columns]"
      ]
     },
     "execution_count": 15,
     "metadata": {},
     "output_type": "execute_result"
    }
   ],
   "source": [
    "df_notino_clean"
   ]
  },
  {
   "cell_type": "markdown",
   "id": "39f4e20c-6a0f-4cec-ac95-fdc1e5e80983",
   "metadata": {},
   "source": [
    "### Limpio las columnas precio_sin_desc, precio_con_desc y  descuento:"
   ]
  },
  {
   "cell_type": "markdown",
   "id": "2a6ddf94-18bb-4d41-9167-c5c26b88ee81",
   "metadata": {},
   "source": [
    "Al scrapear esta página no se pudo obtener el precio sin descuento en todos los productos debido al diseño de la página. Solo en los que tenían precio con descuento y precio sin descuento se podían sacar bien los datos. En los productos que no tenían descuento el precio sin descuento era el precio_con_desc, por lo que este hay que pasarlo a la columna de precio_sin_desc"
   ]
  },
  {
   "cell_type": "markdown",
   "id": "5884d6cd-753c-4536-8328-2aaa0f54e134",
   "metadata": {},
   "source": [
    "- Precios:"
   ]
  },
  {
   "cell_type": "code",
   "execution_count": 16,
   "id": "a6a0eb3e-18fc-40bf-8e2c-a4c698c309a0",
   "metadata": {
    "tags": []
   },
   "outputs": [],
   "source": [
    " def clean_prices(df, columns):\n",
    "    for col in columns:\n",
    "        \n",
    "        df[col] = df[col].str.replace('[^0-9,]', '', regex=True) \n",
    "        df[col] = df[col].str.replace(',', '.', regex=True)\n",
    "        df[col] = df[col].replace('', '0', regex=True)\n",
    "        df[col] = df[col].astype(float)  \n",
    "\n",
    "columns = ['precio_sin_desc', 'precio_con_desc', \"descuento\"]\n",
    "\n",
    "clean_prices(df_notino_clean, columns)"
   ]
  },
  {
   "cell_type": "code",
   "execution_count": 17,
   "id": "8ec2022c-ad54-4411-aeee-7672b54fa3ee",
   "metadata": {
    "tags": []
   },
   "outputs": [
    {
     "data": {
      "text/html": [
       "<div>\n",
       "<style scoped>\n",
       "    .dataframe tbody tr th:only-of-type {\n",
       "        vertical-align: middle;\n",
       "    }\n",
       "\n",
       "    .dataframe tbody tr th {\n",
       "        vertical-align: top;\n",
       "    }\n",
       "\n",
       "    .dataframe thead th {\n",
       "        text-align: right;\n",
       "    }\n",
       "</style>\n",
       "<table border=\"1\" class=\"dataframe\">\n",
       "  <thead>\n",
       "    <tr style=\"text-align: right;\">\n",
       "      <th></th>\n",
       "      <th>tienda</th>\n",
       "      <th>categoria</th>\n",
       "      <th>marca</th>\n",
       "      <th>nombre</th>\n",
       "      <th>tipo</th>\n",
       "      <th>precio_sin_desc</th>\n",
       "      <th>descuento</th>\n",
       "      <th>precio_con_desc</th>\n",
       "      <th>valoracion</th>\n",
       "      <th>num_valoraciones</th>\n",
       "    </tr>\n",
       "  </thead>\n",
       "  <tbody>\n",
       "    <tr>\n",
       "      <th>0</th>\n",
       "      <td>notino</td>\n",
       "      <td>hombre</td>\n",
       "      <td>hugo boss</td>\n",
       "      <td>boss the scent absolute</td>\n",
       "      <td>eau de parfum</td>\n",
       "      <td>134.0</td>\n",
       "      <td>15.0</td>\n",
       "      <td>45.4</td>\n",
       "      <td>5.0</td>\n",
       "      <td>3.0</td>\n",
       "    </tr>\n",
       "    <tr>\n",
       "      <th>1</th>\n",
       "      <td>notino</td>\n",
       "      <td>hombre</td>\n",
       "      <td>versace</td>\n",
       "      <td>eros</td>\n",
       "      <td>eau de toilette</td>\n",
       "      <td>0.0</td>\n",
       "      <td>15.0</td>\n",
       "      <td>57.5</td>\n",
       "      <td>NaN</td>\n",
       "      <td>NaN</td>\n",
       "    </tr>\n",
       "    <tr>\n",
       "      <th>2</th>\n",
       "      <td>notino</td>\n",
       "      <td>hombre</td>\n",
       "      <td>versace</td>\n",
       "      <td>pour homme</td>\n",
       "      <td>eau de toilette</td>\n",
       "      <td>0.0</td>\n",
       "      <td>15.0</td>\n",
       "      <td>47.0</td>\n",
       "      <td>NaN</td>\n",
       "      <td>NaN</td>\n",
       "    </tr>\n",
       "  </tbody>\n",
       "</table>\n",
       "</div>"
      ],
      "text/plain": [
       "   tienda categoria      marca                   nombre             tipo  \\\n",
       "0  notino    hombre  hugo boss  boss the scent absolute    eau de parfum   \n",
       "1  notino    hombre    versace                     eros  eau de toilette   \n",
       "2  notino    hombre    versace               pour homme  eau de toilette   \n",
       "\n",
       "   precio_sin_desc  descuento  precio_con_desc  valoracion  num_valoraciones  \n",
       "0            134.0       15.0             45.4         5.0               3.0  \n",
       "1              0.0       15.0             57.5         NaN               NaN  \n",
       "2              0.0       15.0             47.0         NaN               NaN  "
      ]
     },
     "execution_count": 17,
     "metadata": {},
     "output_type": "execute_result"
    }
   ],
   "source": [
    "df_notino_clean.head(3)"
   ]
  },
  {
   "cell_type": "code",
   "execution_count": 18,
   "id": "2e9a1127-276d-4c89-a1de-58cceac7066b",
   "metadata": {
    "tags": []
   },
   "outputs": [],
   "source": [
    "# Función para actualizar Con Descuento\n",
    "def actualizar_valor(row):\n",
    "    if row['precio_sin_desc'] == 0.0:\n",
    "        return row['precio_con_desc']\n",
    "    else:\n",
    "        return row['precio_sin_desc']"
   ]
  },
  {
   "cell_type": "code",
   "execution_count": 19,
   "id": "eb58abd9-c2ae-4ec3-9c1b-84644d6c43d7",
   "metadata": {
    "tags": []
   },
   "outputs": [],
   "source": [
    "df_notino_clean['precio_sin_desc'] = df_notino_clean.apply(actualizar_valor, axis=1)"
   ]
  },
  {
   "cell_type": "markdown",
   "id": "9f52d0c7-3b00-461a-bc4d-cd0eceb416d2",
   "metadata": {},
   "source": [
    "- Descuento:"
   ]
  },
  {
   "cell_type": "code",
   "execution_count": 20,
   "id": "c21c6019-17a6-4feb-834b-4d4f71c8709d",
   "metadata": {
    "tags": []
   },
   "outputs": [],
   "source": [
    "df_notino_clean['descuento'] = (((df_notino_clean['precio_sin_desc'] - df_notino_clean['precio_con_desc']) / df_notino_clean['precio_sin_desc']) * 100).round(2)"
   ]
  },
  {
   "cell_type": "code",
   "execution_count": 21,
   "id": "35bcf5d8-a98b-4aba-82d9-b8cd05c3e0f2",
   "metadata": {
    "tags": []
   },
   "outputs": [
    {
     "data": {
      "text/html": [
       "<div>\n",
       "<style scoped>\n",
       "    .dataframe tbody tr th:only-of-type {\n",
       "        vertical-align: middle;\n",
       "    }\n",
       "\n",
       "    .dataframe tbody tr th {\n",
       "        vertical-align: top;\n",
       "    }\n",
       "\n",
       "    .dataframe thead th {\n",
       "        text-align: right;\n",
       "    }\n",
       "</style>\n",
       "<table border=\"1\" class=\"dataframe\">\n",
       "  <thead>\n",
       "    <tr style=\"text-align: right;\">\n",
       "      <th></th>\n",
       "      <th>tienda</th>\n",
       "      <th>categoria</th>\n",
       "      <th>marca</th>\n",
       "      <th>nombre</th>\n",
       "      <th>tipo</th>\n",
       "      <th>precio_sin_desc</th>\n",
       "      <th>descuento</th>\n",
       "      <th>precio_con_desc</th>\n",
       "      <th>valoracion</th>\n",
       "      <th>num_valoraciones</th>\n",
       "    </tr>\n",
       "  </thead>\n",
       "  <tbody>\n",
       "    <tr>\n",
       "      <th>0</th>\n",
       "      <td>notino</td>\n",
       "      <td>hombre</td>\n",
       "      <td>hugo boss</td>\n",
       "      <td>boss the scent absolute</td>\n",
       "      <td>eau de parfum</td>\n",
       "      <td>134.0</td>\n",
       "      <td>66.12</td>\n",
       "      <td>45.4</td>\n",
       "      <td>5.0</td>\n",
       "      <td>3.0</td>\n",
       "    </tr>\n",
       "    <tr>\n",
       "      <th>1</th>\n",
       "      <td>notino</td>\n",
       "      <td>hombre</td>\n",
       "      <td>versace</td>\n",
       "      <td>eros</td>\n",
       "      <td>eau de toilette</td>\n",
       "      <td>57.5</td>\n",
       "      <td>0.00</td>\n",
       "      <td>57.5</td>\n",
       "      <td>NaN</td>\n",
       "      <td>NaN</td>\n",
       "    </tr>\n",
       "    <tr>\n",
       "      <th>2</th>\n",
       "      <td>notino</td>\n",
       "      <td>hombre</td>\n",
       "      <td>versace</td>\n",
       "      <td>pour homme</td>\n",
       "      <td>eau de toilette</td>\n",
       "      <td>47.0</td>\n",
       "      <td>0.00</td>\n",
       "      <td>47.0</td>\n",
       "      <td>NaN</td>\n",
       "      <td>NaN</td>\n",
       "    </tr>\n",
       "  </tbody>\n",
       "</table>\n",
       "</div>"
      ],
      "text/plain": [
       "   tienda categoria      marca                   nombre             tipo  \\\n",
       "0  notino    hombre  hugo boss  boss the scent absolute    eau de parfum   \n",
       "1  notino    hombre    versace                     eros  eau de toilette   \n",
       "2  notino    hombre    versace               pour homme  eau de toilette   \n",
       "\n",
       "   precio_sin_desc  descuento  precio_con_desc  valoracion  num_valoraciones  \n",
       "0            134.0      66.12             45.4         5.0               3.0  \n",
       "1             57.5       0.00             57.5         NaN               NaN  \n",
       "2             47.0       0.00             47.0         NaN               NaN  "
      ]
     },
     "execution_count": 21,
     "metadata": {},
     "output_type": "execute_result"
    }
   ],
   "source": [
    "df_notino_clean.head(3)"
   ]
  },
  {
   "cell_type": "markdown",
   "id": "513a7a20-fc61-4d5e-b835-958c5b81a8a0",
   "metadata": {},
   "source": [
    "### Elimino datos sin valores"
   ]
  },
  {
   "cell_type": "code",
   "execution_count": 22,
   "id": "c2a66e51-8ed3-4afd-8b52-d6410e8fefed",
   "metadata": {
    "tags": []
   },
   "outputs": [
    {
     "data": {
      "text/plain": [
       "tienda                 0\n",
       "categoria              0\n",
       "marca                  0\n",
       "nombre                 0\n",
       "tipo                   0\n",
       "precio_sin_desc        0\n",
       "descuento            292\n",
       "precio_con_desc        0\n",
       "valoracion          1559\n",
       "num_valoraciones    1559\n",
       "dtype: int64"
      ]
     },
     "execution_count": 22,
     "metadata": {},
     "output_type": "execute_result"
    }
   ],
   "source": [
    "df_notino_clean.isna().sum()"
   ]
  },
  {
   "cell_type": "code",
   "execution_count": 23,
   "id": "fb88ce90-07b4-4e9c-9899-14aceca8f8f8",
   "metadata": {
    "tags": []
   },
   "outputs": [
    {
     "data": {
      "text/html": [
       "<div>\n",
       "<style scoped>\n",
       "    .dataframe tbody tr th:only-of-type {\n",
       "        vertical-align: middle;\n",
       "    }\n",
       "\n",
       "    .dataframe tbody tr th {\n",
       "        vertical-align: top;\n",
       "    }\n",
       "\n",
       "    .dataframe thead th {\n",
       "        text-align: right;\n",
       "    }\n",
       "</style>\n",
       "<table border=\"1\" class=\"dataframe\">\n",
       "  <thead>\n",
       "    <tr style=\"text-align: right;\">\n",
       "      <th></th>\n",
       "      <th>tienda</th>\n",
       "      <th>categoria</th>\n",
       "      <th>marca</th>\n",
       "      <th>nombre</th>\n",
       "      <th>tipo</th>\n",
       "      <th>precio_sin_desc</th>\n",
       "      <th>descuento</th>\n",
       "      <th>precio_con_desc</th>\n",
       "      <th>valoracion</th>\n",
       "      <th>num_valoraciones</th>\n",
       "    </tr>\n",
       "  </thead>\n",
       "  <tbody>\n",
       "    <tr>\n",
       "      <th>3</th>\n",
       "      <td>notino</td>\n",
       "      <td>hombre</td>\n",
       "      <td>sin marca</td>\n",
       "      <td>sin nombre</td>\n",
       "      <td>sin categoria</td>\n",
       "      <td>0.0</td>\n",
       "      <td>NaN</td>\n",
       "      <td>0.0</td>\n",
       "      <td>NaN</td>\n",
       "      <td>NaN</td>\n",
       "    </tr>\n",
       "    <tr>\n",
       "      <th>29</th>\n",
       "      <td>notino</td>\n",
       "      <td>hombre</td>\n",
       "      <td>sin marca</td>\n",
       "      <td>sin nombre</td>\n",
       "      <td>sin categoria</td>\n",
       "      <td>0.0</td>\n",
       "      <td>NaN</td>\n",
       "      <td>0.0</td>\n",
       "      <td>NaN</td>\n",
       "      <td>NaN</td>\n",
       "    </tr>\n",
       "    <tr>\n",
       "      <th>192</th>\n",
       "      <td>notino</td>\n",
       "      <td>hombre</td>\n",
       "      <td>al haramain</td>\n",
       "      <td>amber oud tobacco edition</td>\n",
       "      <td>eau de parfum</td>\n",
       "      <td>0.0</td>\n",
       "      <td>NaN</td>\n",
       "      <td>0.0</td>\n",
       "      <td>NaN</td>\n",
       "      <td>NaN</td>\n",
       "    </tr>\n",
       "  </tbody>\n",
       "</table>\n",
       "</div>"
      ],
      "text/plain": [
       "     tienda categoria        marca                     nombre           tipo  \\\n",
       "3    notino    hombre    sin marca                 sin nombre  sin categoria   \n",
       "29   notino    hombre    sin marca                 sin nombre  sin categoria   \n",
       "192  notino    hombre  al haramain  amber oud tobacco edition  eau de parfum   \n",
       "\n",
       "     precio_sin_desc  descuento  precio_con_desc  valoracion  num_valoraciones  \n",
       "3                0.0        NaN              0.0         NaN               NaN  \n",
       "29               0.0        NaN              0.0         NaN               NaN  \n",
       "192              0.0        NaN              0.0         NaN               NaN  "
      ]
     },
     "execution_count": 23,
     "metadata": {},
     "output_type": "execute_result"
    }
   ],
   "source": [
    "df_notino_clean[df_notino_clean[\"descuento\"].isna()].head(3)"
   ]
  },
  {
   "cell_type": "code",
   "execution_count": 24,
   "id": "6e98e690-e6bc-4de7-8828-e0804eaeb8c4",
   "metadata": {
    "tags": []
   },
   "outputs": [],
   "source": [
    "df_notino_clean = df_notino_clean.dropna(subset= \"descuento\")"
   ]
  },
  {
   "cell_type": "code",
   "execution_count": 25,
   "id": "cb67afab-e5f0-4ace-a601-d366ec4d4167",
   "metadata": {
    "tags": []
   },
   "outputs": [
    {
     "data": {
      "text/html": [
       "<div>\n",
       "<style scoped>\n",
       "    .dataframe tbody tr th:only-of-type {\n",
       "        vertical-align: middle;\n",
       "    }\n",
       "\n",
       "    .dataframe tbody tr th {\n",
       "        vertical-align: top;\n",
       "    }\n",
       "\n",
       "    .dataframe thead th {\n",
       "        text-align: right;\n",
       "    }\n",
       "</style>\n",
       "<table border=\"1\" class=\"dataframe\">\n",
       "  <thead>\n",
       "    <tr style=\"text-align: right;\">\n",
       "      <th></th>\n",
       "      <th>tienda</th>\n",
       "      <th>categoria</th>\n",
       "      <th>marca</th>\n",
       "      <th>nombre</th>\n",
       "      <th>tipo</th>\n",
       "      <th>precio_sin_desc</th>\n",
       "      <th>descuento</th>\n",
       "      <th>precio_con_desc</th>\n",
       "      <th>valoracion</th>\n",
       "      <th>num_valoraciones</th>\n",
       "    </tr>\n",
       "  </thead>\n",
       "  <tbody>\n",
       "  </tbody>\n",
       "</table>\n",
       "</div>"
      ],
      "text/plain": [
       "Empty DataFrame\n",
       "Columns: [tienda, categoria, marca, nombre, tipo, precio_sin_desc, descuento, precio_con_desc, valoracion, num_valoraciones]\n",
       "Index: []"
      ]
     },
     "execution_count": 25,
     "metadata": {},
     "output_type": "execute_result"
    }
   ],
   "source": [
    "df_notino_clean[df_notino_clean[\"marca\"]==\"sin marca\"]"
   ]
  },
  {
   "cell_type": "markdown",
   "id": "bf91eea2-9ca3-466d-9f4d-b38e0bf70e4a",
   "metadata": {},
   "source": [
    "### Elimino duplicados:"
   ]
  },
  {
   "cell_type": "code",
   "execution_count": 26,
   "id": "18ecbba4-cd4d-496e-a339-fca8a808cea9",
   "metadata": {
    "tags": []
   },
   "outputs": [
    {
     "data": {
      "text/plain": [
       "True     4180\n",
       "False     885\n",
       "Name: count, dtype: int64"
      ]
     },
     "execution_count": 26,
     "metadata": {},
     "output_type": "execute_result"
    }
   ],
   "source": [
    "df_notino_clean.duplicated().value_counts()"
   ]
  },
  {
   "cell_type": "code",
   "execution_count": 27,
   "id": "89262fb5-8eda-49ad-98e3-cf295c8a8f7c",
   "metadata": {
    "tags": []
   },
   "outputs": [],
   "source": [
    "df_notino_clean = df_notino_clean.drop_duplicates()"
   ]
  },
  {
   "cell_type": "markdown",
   "id": "a4f0b834-b4d3-4b61-bb6d-523112c48bde",
   "metadata": {
    "tags": []
   },
   "source": [
    "### Filtro por los tipos sobre los que vamos a trabajar:"
   ]
  },
  {
   "cell_type": "code",
   "execution_count": 202,
   "id": "0d8358d4-2fa4-4916-a8f6-c560cfddf0f6",
   "metadata": {
    "tags": []
   },
   "outputs": [],
   "source": [
    "lista_tipos = ['eau de parfum', 'eau de toilette', 'parfum', 'eau de cologne']\n",
    "df_notino_clean = df_notino_clean[df_notino_clean[\"tipo\"].isin(lista_tipos)].reset_index(drop=True)"
   ]
  },
  {
   "cell_type": "code",
   "execution_count": 204,
   "id": "942bbac9-87b8-4e0d-9b93-5f06667f5633",
   "metadata": {
    "tags": []
   },
   "outputs": [],
   "source": [
    "df_notino_clean.to_csv(\"datos_perfumes_notino_filtrado.csv\", index= False, sep= \",\")"
   ]
  }
 ],
 "metadata": {
  "kernelspec": {
   "display_name": "Python 3 (ipykernel)",
   "language": "python",
   "name": "python3"
  },
  "language_info": {
   "codemirror_mode": {
    "name": "ipython",
    "version": 3
   },
   "file_extension": ".py",
   "mimetype": "text/x-python",
   "name": "python",
   "nbconvert_exporter": "python",
   "pygments_lexer": "ipython3",
   "version": "3.11.5"
  }
 },
 "nbformat": 4,
 "nbformat_minor": 5
}
