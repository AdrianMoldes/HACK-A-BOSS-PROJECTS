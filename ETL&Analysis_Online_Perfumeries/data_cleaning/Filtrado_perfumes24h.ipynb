{
 "cells": [
  {
   "cell_type": "code",
   "execution_count": 1,
   "id": "5a0f5921-edcd-4e4c-987b-de747e7ffdda",
   "metadata": {
    "tags": []
   },
   "outputs": [],
   "source": [
    "import pandas as pd\n",
    "import numpy as np"
   ]
  },
  {
   "cell_type": "code",
   "execution_count": 2,
   "id": "e9475b9d-4ea2-4703-bc22-fc0c0d9d6a76",
   "metadata": {
    "tags": []
   },
   "outputs": [],
   "source": [
    "df = pd.read_csv(\"datos_perfumes_perfumes24h.csv\")"
   ]
  },
  {
   "cell_type": "code",
   "execution_count": 3,
   "id": "b578fdc2-b804-435e-b9f1-9466e334fed5",
   "metadata": {
    "tags": []
   },
   "outputs": [],
   "source": [
    "df = df.drop(\"Unnamed: 0\", axis=1)"
   ]
  },
  {
   "cell_type": "code",
   "execution_count": 4,
   "id": "be26c8ef-00dc-4a31-a858-db7d2e7eb288",
   "metadata": {},
   "outputs": [],
   "source": [
    "df.insert(0, 'tienda', \"perfumes24h\")"
   ]
  },
  {
   "cell_type": "code",
   "execution_count": 5,
   "id": "0105cbe3-1530-4bf6-abcd-33657e0774be",
   "metadata": {},
   "outputs": [],
   "source": [
    "def convertir_a_minusculas(valor):\n",
    "    if isinstance(valor, str):\n",
    "        return valor.lower()\n",
    "    return valor\n",
    "\n",
    "df = df.map(convertir_a_minusculas)"
   ]
  },
  {
   "cell_type": "code",
   "execution_count": 6,
   "id": "40bb07fb-4f8b-4a30-bd8b-3c34327a9924",
   "metadata": {},
   "outputs": [],
   "source": [
    "df['categoria'] = df['categoria'].str.replace('perfumes hombre', 'hombre')\n",
    "df['categoria'] = df['categoria'].str.replace('perfumes mujer', 'mujer')"
   ]
  },
  {
   "cell_type": "code",
   "execution_count": 7,
   "id": "656ed3a5-1be7-4fc0-9e7b-652fb7179f00",
   "metadata": {},
   "outputs": [
    {
     "data": {
      "text/html": [
       "<div>\n",
       "<style scoped>\n",
       "    .dataframe tbody tr th:only-of-type {\n",
       "        vertical-align: middle;\n",
       "    }\n",
       "\n",
       "    .dataframe tbody tr th {\n",
       "        vertical-align: top;\n",
       "    }\n",
       "\n",
       "    .dataframe thead th {\n",
       "        text-align: right;\n",
       "    }\n",
       "</style>\n",
       "<table border=\"1\" class=\"dataframe\">\n",
       "  <thead>\n",
       "    <tr style=\"text-align: right;\">\n",
       "      <th></th>\n",
       "      <th>tienda</th>\n",
       "      <th>categoria</th>\n",
       "      <th>marca</th>\n",
       "      <th>nombre</th>\n",
       "      <th>tipo</th>\n",
       "      <th>precio_sin_desc</th>\n",
       "      <th>descuento</th>\n",
       "      <th>precio_con_desc</th>\n",
       "      <th>valoracion</th>\n",
       "      <th>num_valoraciones</th>\n",
       "    </tr>\n",
       "  </thead>\n",
       "  <tbody>\n",
       "    <tr>\n",
       "      <th>0</th>\n",
       "      <td>perfumes24h</td>\n",
       "      <td>hombre</td>\n",
       "      <td>issey miyake</td>\n",
       "      <td>l'eau d'issey pour homme intense</td>\n",
       "      <td>eau de toilette</td>\n",
       "      <td>88,00€</td>\n",
       "      <td>62.556818</td>\n",
       "      <td>32,95€</td>\n",
       "      <td>4.8</td>\n",
       "      <td>4</td>\n",
       "    </tr>\n",
       "    <tr>\n",
       "      <th>1</th>\n",
       "      <td>perfumes24h</td>\n",
       "      <td>hombre</td>\n",
       "      <td>carolina herrera</td>\n",
       "      <td>chic for men</td>\n",
       "      <td>eau de toilette</td>\n",
       "      <td>55,00€</td>\n",
       "      <td>32.818182</td>\n",
       "      <td>36,95€</td>\n",
       "      <td>4.5</td>\n",
       "      <td>2</td>\n",
       "    </tr>\n",
       "    <tr>\n",
       "      <th>2</th>\n",
       "      <td>perfumes24h</td>\n",
       "      <td>hombre</td>\n",
       "      <td>calvin klein</td>\n",
       "      <td>truth for men</td>\n",
       "      <td>eau de toilette</td>\n",
       "      <td>70,00€</td>\n",
       "      <td>64.357143</td>\n",
       "      <td>24,95€</td>\n",
       "      <td>5.0</td>\n",
       "      <td>1</td>\n",
       "    </tr>\n",
       "    <tr>\n",
       "      <th>3</th>\n",
       "      <td>perfumes24h</td>\n",
       "      <td>hombre</td>\n",
       "      <td>paco rabanne</td>\n",
       "      <td>xs pour homme</td>\n",
       "      <td>eau de toilette</td>\n",
       "      <td>89,00€</td>\n",
       "      <td>58.483146</td>\n",
       "      <td>36,95€</td>\n",
       "      <td>4.8</td>\n",
       "      <td>6</td>\n",
       "    </tr>\n",
       "    <tr>\n",
       "      <th>4</th>\n",
       "      <td>perfumes24h</td>\n",
       "      <td>hombre</td>\n",
       "      <td>montblanc</td>\n",
       "      <td>explorer platinum</td>\n",
       "      <td>eau de parfum</td>\n",
       "      <td>106,00€</td>\n",
       "      <td>43.443396</td>\n",
       "      <td>59,95€</td>\n",
       "      <td>4.8</td>\n",
       "      <td>6</td>\n",
       "    </tr>\n",
       "    <tr>\n",
       "      <th>...</th>\n",
       "      <td>...</td>\n",
       "      <td>...</td>\n",
       "      <td>...</td>\n",
       "      <td>...</td>\n",
       "      <td>...</td>\n",
       "      <td>...</td>\n",
       "      <td>...</td>\n",
       "      <td>...</td>\n",
       "      <td>...</td>\n",
       "      <td>...</td>\n",
       "    </tr>\n",
       "    <tr>\n",
       "      <th>3107</th>\n",
       "      <td>perfumes24h</td>\n",
       "      <td>mujer</td>\n",
       "      <td>alqvimia</td>\n",
       "      <td>agua de colonia anti-stress</td>\n",
       "      <td>eau de cologne</td>\n",
       "      <td>45,00€</td>\n",
       "      <td>17.511111</td>\n",
       "      <td>37,12€</td>\n",
       "      <td>5.0</td>\n",
       "      <td>7</td>\n",
       "    </tr>\n",
       "    <tr>\n",
       "      <th>3108</th>\n",
       "      <td>perfumes24h</td>\n",
       "      <td>mujer</td>\n",
       "      <td>hugo boss</td>\n",
       "      <td>the scent private accord</td>\n",
       "      <td>eau de parfum</td>\n",
       "      <td>100,00€</td>\n",
       "      <td>37.050000</td>\n",
       "      <td>62,95€</td>\n",
       "      <td>5.0</td>\n",
       "      <td>7</td>\n",
       "    </tr>\n",
       "    <tr>\n",
       "      <th>3109</th>\n",
       "      <td>perfumes24h</td>\n",
       "      <td>mujer</td>\n",
       "      <td>etro</td>\n",
       "      <td>heliotrope</td>\n",
       "      <td>eau de toilette</td>\n",
       "      <td>76,00€</td>\n",
       "      <td>21.118421</td>\n",
       "      <td>59,95€</td>\n",
       "      <td>5.0</td>\n",
       "      <td>7</td>\n",
       "    </tr>\n",
       "    <tr>\n",
       "      <th>3110</th>\n",
       "      <td>perfumes24h</td>\n",
       "      <td>mujer</td>\n",
       "      <td>thierry mugler</td>\n",
       "      <td>angel</td>\n",
       "      <td>eau de parfum</td>\n",
       "      <td>65,00€</td>\n",
       "      <td>15.461538</td>\n",
       "      <td>54,95€</td>\n",
       "      <td>5.0</td>\n",
       "      <td>7</td>\n",
       "    </tr>\n",
       "    <tr>\n",
       "      <th>3111</th>\n",
       "      <td>perfumes24h</td>\n",
       "      <td>mujer</td>\n",
       "      <td>guess</td>\n",
       "      <td>guess girl</td>\n",
       "      <td>eau de toilette</td>\n",
       "      <td>55,00€</td>\n",
       "      <td>58.272727</td>\n",
       "      <td>22,95€</td>\n",
       "      <td>5.0</td>\n",
       "      <td>1</td>\n",
       "    </tr>\n",
       "  </tbody>\n",
       "</table>\n",
       "<p>3112 rows × 10 columns</p>\n",
       "</div>"
      ],
      "text/plain": [
       "           tienda categoria             marca  \\\n",
       "0     perfumes24h    hombre      issey miyake   \n",
       "1     perfumes24h    hombre  carolina herrera   \n",
       "2     perfumes24h    hombre      calvin klein   \n",
       "3     perfumes24h    hombre      paco rabanne   \n",
       "4     perfumes24h    hombre         montblanc   \n",
       "...           ...       ...               ...   \n",
       "3107  perfumes24h     mujer          alqvimia   \n",
       "3108  perfumes24h     mujer         hugo boss   \n",
       "3109  perfumes24h     mujer              etro   \n",
       "3110  perfumes24h     mujer    thierry mugler   \n",
       "3111  perfumes24h     mujer             guess   \n",
       "\n",
       "                                nombre             tipo precio_sin_desc  \\\n",
       "0     l'eau d'issey pour homme intense  eau de toilette          88,00€   \n",
       "1                         chic for men  eau de toilette          55,00€   \n",
       "2                        truth for men  eau de toilette          70,00€   \n",
       "3                        xs pour homme  eau de toilette          89,00€   \n",
       "4                    explorer platinum    eau de parfum         106,00€   \n",
       "...                                ...              ...             ...   \n",
       "3107       agua de colonia anti-stress   eau de cologne          45,00€   \n",
       "3108          the scent private accord    eau de parfum         100,00€   \n",
       "3109                        heliotrope  eau de toilette          76,00€   \n",
       "3110                             angel    eau de parfum          65,00€   \n",
       "3111                        guess girl  eau de toilette          55,00€   \n",
       "\n",
       "      descuento precio_con_desc  valoracion  num_valoraciones  \n",
       "0     62.556818          32,95€         4.8                 4  \n",
       "1     32.818182          36,95€         4.5                 2  \n",
       "2     64.357143          24,95€         5.0                 1  \n",
       "3     58.483146          36,95€         4.8                 6  \n",
       "4     43.443396          59,95€         4.8                 6  \n",
       "...         ...             ...         ...               ...  \n",
       "3107  17.511111          37,12€         5.0                 7  \n",
       "3108  37.050000          62,95€         5.0                 7  \n",
       "3109  21.118421          59,95€         5.0                 7  \n",
       "3110  15.461538          54,95€         5.0                 7  \n",
       "3111  58.272727          22,95€         5.0                 1  \n",
       "\n",
       "[3112 rows x 10 columns]"
      ]
     },
     "execution_count": 7,
     "metadata": {},
     "output_type": "execute_result"
    }
   ],
   "source": [
    "def mapear_tipos_y_limpiar(df):\n",
    "\n",
    "    mapping = {\n",
    "        'parfum'          : 'parfum',\n",
    "        'cologne'         : 'eau de cologne',\n",
    "        'agua de colonia' : 'eau de cologne',\n",
    "        'eau fraîche'     : 'eau fraîche'\n",
    "    }\n",
    "\n",
    "    for name, tipo in mapping.items():\n",
    "        df.loc[df['nombre'].str.contains(name), 'tipo'] = tipo\n",
    "\n",
    "    df['tipo'] = df['tipo'].str.strip()\n",
    "    \n",
    "    return df\n",
    "\n",
    "mapear_tipos_y_limpiar(df)"
   ]
  },
  {
   "cell_type": "code",
   "execution_count": 8,
   "id": "3d4b1f3f-3e80-4212-96f0-c7e05671f5f8",
   "metadata": {
    "tags": []
   },
   "outputs": [],
   "source": [
    "def clean_prices(df, columns):\n",
    "    for col in columns:\n",
    "        \n",
    "        df[col] = df[col].str.replace('[^0-9,]', '', regex=True) \n",
    "        df[col] = df[col].str.replace(',', '.', regex=True)\n",
    "        df[col] = df[col].replace('', '0', regex=True)\n",
    "        df[col] = df[col].astype(float)  \n",
    "\n",
    "columns = ['precio_sin_desc', 'precio_con_desc']\n",
    "\n",
    "clean_prices(df, columns)"
   ]
  },
  {
   "cell_type": "code",
   "execution_count": 9,
   "id": "21d84ce6-769d-44c2-b8d8-27bbefb900f0",
   "metadata": {},
   "outputs": [],
   "source": [
    "df['descuento'] = df['descuento'].round(2)"
   ]
  },
  {
   "cell_type": "code",
   "execution_count": 10,
   "id": "687b6630-9768-4eab-9fbf-c514aaaef398",
   "metadata": {},
   "outputs": [],
   "source": [
    "columns = ['valoracion', 'num_valoraciones']\n",
    "\n",
    "for col in columns:\n",
    "    df[col] = df[col].replace(['sin valoracion', 'sin valoraciones'], np.nan)"
   ]
  },
  {
   "cell_type": "code",
   "execution_count": 11,
   "id": "2a86e324-5a4d-427f-a50b-addbcd19cd2f",
   "metadata": {},
   "outputs": [],
   "source": [
    "df = df.drop_duplicates()"
   ]
  },
  {
   "cell_type": "code",
   "execution_count": 12,
   "id": "0b83c5bb-093f-42e5-8146-8733a20e7bc7",
   "metadata": {
    "tags": []
   },
   "outputs": [
    {
     "data": {
      "text/plain": [
       "tipo\n",
       "eau de toilette    1248\n",
       "eau de parfum       991\n",
       "eau de cologne      140\n",
       "parfum               91\n",
       "eau fraîche          16\n",
       "Name: count, dtype: int64"
      ]
     },
     "execution_count": 12,
     "metadata": {},
     "output_type": "execute_result"
    }
   ],
   "source": [
    "df['tipo'].value_counts()"
   ]
  },
  {
   "cell_type": "code",
   "execution_count": null,
   "id": "e34d3797-6b18-4258-9221-429298ac3449",
   "metadata": {
    "tags": []
   },
   "outputs": [],
   "source": []
  },
  {
   "cell_type": "code",
   "execution_count": 13,
   "id": "85e08362-c970-47c4-b031-ff8b1e51fab5",
   "metadata": {
    "tags": []
   },
   "outputs": [
    {
     "name": "stdout",
     "output_type": "stream",
     "text": [
      "<class 'pandas.core.frame.DataFrame'>\n",
      "Index: 2530 entries, 0 to 3111\n",
      "Data columns (total 10 columns):\n",
      " #   Column            Non-Null Count  Dtype  \n",
      "---  ------            --------------  -----  \n",
      " 0   tienda            2530 non-null   object \n",
      " 1   categoria         2530 non-null   object \n",
      " 2   marca             2530 non-null   object \n",
      " 3   nombre            2530 non-null   object \n",
      " 4   tipo              2486 non-null   object \n",
      " 5   precio_sin_desc   2530 non-null   float64\n",
      " 6   descuento         2530 non-null   float64\n",
      " 7   precio_con_desc   2530 non-null   float64\n",
      " 8   valoracion        2530 non-null   float64\n",
      " 9   num_valoraciones  2530 non-null   int64  \n",
      "dtypes: float64(4), int64(1), object(5)\n",
      "memory usage: 217.4+ KB\n"
     ]
    }
   ],
   "source": [
    "df.info()"
   ]
  },
  {
   "cell_type": "code",
   "execution_count": 14,
   "id": "bcde57e1-3278-4065-a16b-6a1165dd0ba0",
   "metadata": {
    "tags": []
   },
   "outputs": [],
   "source": [
    "lista_tipos = ['eau de parfum', 'eau de toilette', 'parfum', 'eau de cologne']\n",
    "df = df[df[\"tipo\"].isin(lista_tipos)].reset_index(drop=True)"
   ]
  },
  {
   "cell_type": "code",
   "execution_count": 15,
   "id": "e63110c5-5d2d-4b8c-b52b-876f52927876",
   "metadata": {
    "tags": []
   },
   "outputs": [],
   "source": [
    "df.to_csv('datos_perfumes_prefumes24_filtrados.csv', index=False)"
   ]
  }
 ],
 "metadata": {
  "kernelspec": {
   "display_name": "Python 3 (ipykernel)",
   "language": "python",
   "name": "python3"
  },
  "language_info": {
   "codemirror_mode": {
    "name": "ipython",
    "version": 3
   },
   "file_extension": ".py",
   "mimetype": "text/x-python",
   "name": "python",
   "nbconvert_exporter": "python",
   "pygments_lexer": "ipython3",
   "version": "3.11.4"
  }
 },
 "nbformat": 4,
 "nbformat_minor": 5
}
