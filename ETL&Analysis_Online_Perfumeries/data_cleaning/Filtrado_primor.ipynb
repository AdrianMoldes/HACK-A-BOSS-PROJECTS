{
 "cells": [
  {
   "cell_type": "code",
   "execution_count": 1,
   "id": "5a0f5921-edcd-4e4c-987b-de747e7ffdda",
   "metadata": {
    "tags": []
   },
   "outputs": [],
   "source": [
    "import pandas as pd\n",
    "import numpy as np"
   ]
  },
  {
   "cell_type": "code",
   "execution_count": 2,
   "id": "e9475b9d-4ea2-4703-bc22-fc0c0d9d6a76",
   "metadata": {
    "tags": []
   },
   "outputs": [],
   "source": [
    "df = pd.read_csv(\"datos_perfumes_primor.csv\")"
   ]
  },
  {
   "cell_type": "code",
   "execution_count": 3,
   "id": "0978a47d-4856-4526-8b07-ecdc2ae600a5",
   "metadata": {},
   "outputs": [],
   "source": [
    "df = df.drop('Unnamed: 0', axis=1)"
   ]
  },
  {
   "cell_type": "code",
   "execution_count": 4,
   "id": "f96cfc34-d903-458a-a2f9-f42f7e6102e7",
   "metadata": {},
   "outputs": [],
   "source": [
    "df.insert(0, 'tienda', \"primor\")"
   ]
  },
  {
   "cell_type": "code",
   "execution_count": 5,
   "id": "dd12888c-516f-4b6c-bb25-afd7fbd4c351",
   "metadata": {
    "tags": []
   },
   "outputs": [],
   "source": [
    "def convertir_a_minusculas(valor):\n",
    "    if isinstance(valor, str):\n",
    "        return valor.lower()\n",
    "    return valor\n",
    "\n",
    "df = df.map(convertir_a_minusculas)"
   ]
  },
  {
   "cell_type": "code",
   "execution_count": 6,
   "id": "6c22b888-4d05-4243-8f54-a3b140a69d2b",
   "metadata": {},
   "outputs": [],
   "source": [
    "df['categoria'] = df['categoria'].str.replace('perfumes para hombres', 'hombre')\n",
    "df['categoria'] = df['categoria'].str.replace('perfumes de mujer', 'mujer')"
   ]
  },
  {
   "cell_type": "code",
   "execution_count": 7,
   "id": "7d3512b8-933f-485a-89a1-474a53cc5f6b",
   "metadata": {
    "tags": []
   },
   "outputs": [
    {
     "data": {
      "text/html": [
       "<div>\n",
       "<style scoped>\n",
       "    .dataframe tbody tr th:only-of-type {\n",
       "        vertical-align: middle;\n",
       "    }\n",
       "\n",
       "    .dataframe tbody tr th {\n",
       "        vertical-align: top;\n",
       "    }\n",
       "\n",
       "    .dataframe thead th {\n",
       "        text-align: right;\n",
       "    }\n",
       "</style>\n",
       "<table border=\"1\" class=\"dataframe\">\n",
       "  <thead>\n",
       "    <tr style=\"text-align: right;\">\n",
       "      <th></th>\n",
       "      <th>tienda</th>\n",
       "      <th>categoria</th>\n",
       "      <th>marca</th>\n",
       "      <th>nombre</th>\n",
       "      <th>tipo</th>\n",
       "      <th>precio_sin_desc</th>\n",
       "      <th>descuento</th>\n",
       "      <th>precio_con_desc</th>\n",
       "      <th>valoracion</th>\n",
       "      <th>num_valoraciones</th>\n",
       "    </tr>\n",
       "  </thead>\n",
       "  <tbody>\n",
       "    <tr>\n",
       "      <th>0</th>\n",
       "      <td>primor</td>\n",
       "      <td>hombre</td>\n",
       "      <td>hugo boss</td>\n",
       "      <td>boss bottled</td>\n",
       "      <td>eau de toilette</td>\n",
       "      <td>81,70€</td>\n",
       "      <td>-56%</td>\n",
       "      <td>35,95€</td>\n",
       "      <td>4,81</td>\n",
       "      <td>212</td>\n",
       "    </tr>\n",
       "    <tr>\n",
       "      <th>1</th>\n",
       "      <td>primor</td>\n",
       "      <td>hombre</td>\n",
       "      <td>davidoff</td>\n",
       "      <td>hombre</td>\n",
       "      <td>eau de toilette</td>\n",
       "      <td>74,00€</td>\n",
       "      <td>-74%</td>\n",
       "      <td>18,94€</td>\n",
       "      <td>4,71</td>\n",
       "      <td>118</td>\n",
       "    </tr>\n",
       "    <tr>\n",
       "      <th>2</th>\n",
       "      <td>primor</td>\n",
       "      <td>hombre</td>\n",
       "      <td>armani</td>\n",
       "      <td>giorgio armani perfume hombre acqua di gio homme</td>\n",
       "      <td>eau de toilette</td>\n",
       "      <td>85,00€</td>\n",
       "      <td>-54%</td>\n",
       "      <td>38,94€</td>\n",
       "      <td>4,93</td>\n",
       "      <td>98</td>\n",
       "    </tr>\n",
       "    <tr>\n",
       "      <th>3</th>\n",
       "      <td>primor</td>\n",
       "      <td>hombre</td>\n",
       "      <td>calvin klein</td>\n",
       "      <td>ck in2u for him</td>\n",
       "      <td>eau de toilette</td>\n",
       "      <td>76,00€</td>\n",
       "      <td>-76%</td>\n",
       "      <td>18,49€</td>\n",
       "      <td>4,70</td>\n",
       "      <td>94</td>\n",
       "    </tr>\n",
       "    <tr>\n",
       "      <th>4</th>\n",
       "      <td>primor</td>\n",
       "      <td>hombre</td>\n",
       "      <td>carolina herrera</td>\n",
       "      <td>212 men</td>\n",
       "      <td>eau de toilette</td>\n",
       "      <td>74,50€</td>\n",
       "      <td>-49%</td>\n",
       "      <td>37,95€</td>\n",
       "      <td>4,89</td>\n",
       "      <td>66</td>\n",
       "    </tr>\n",
       "    <tr>\n",
       "      <th>...</th>\n",
       "      <td>...</td>\n",
       "      <td>...</td>\n",
       "      <td>...</td>\n",
       "      <td>...</td>\n",
       "      <td>...</td>\n",
       "      <td>...</td>\n",
       "      <td>...</td>\n",
       "      <td>...</td>\n",
       "      <td>...</td>\n",
       "      <td>...</td>\n",
       "    </tr>\n",
       "    <tr>\n",
       "      <th>2318</th>\n",
       "      <td>primor</td>\n",
       "      <td>mujer</td>\n",
       "      <td>narciso rodriguez</td>\n",
       "      <td>narciso poudrée generous  spray</td>\n",
       "      <td>eau de parfum</td>\n",
       "      <td>98,00€</td>\n",
       "      <td>-35%</td>\n",
       "      <td>84,93€</td>\n",
       "      <td>sin valoracion</td>\n",
       "      <td>sin valoraciones</td>\n",
       "    </tr>\n",
       "    <tr>\n",
       "      <th>2319</th>\n",
       "      <td>primor</td>\n",
       "      <td>mujer</td>\n",
       "      <td>cartier</td>\n",
       "      <td>baiser volé</td>\n",
       "      <td>set</td>\n",
       "      <td>160,00€</td>\n",
       "      <td>sin descuento</td>\n",
       "      <td>sin precio descuento</td>\n",
       "      <td>sin valoracion</td>\n",
       "      <td>sin valoraciones</td>\n",
       "    </tr>\n",
       "    <tr>\n",
       "      <th>2320</th>\n",
       "      <td>primor</td>\n",
       "      <td>mujer</td>\n",
       "      <td>dolce &amp; gabbana</td>\n",
       "      <td>light blue summer vibes</td>\n",
       "      <td>eau de toilette</td>\n",
       "      <td>sin precio</td>\n",
       "      <td>sin descuento</td>\n",
       "      <td>sin precio descuento</td>\n",
       "      <td>5,00</td>\n",
       "      <td>2</td>\n",
       "    </tr>\n",
       "    <tr>\n",
       "      <th>2321</th>\n",
       "      <td>primor</td>\n",
       "      <td>mujer</td>\n",
       "      <td>guerlain</td>\n",
       "      <td>aqua allegoria nerolia vetiver  de regalo</td>\n",
       "      <td>set</td>\n",
       "      <td>103,09€</td>\n",
       "      <td>-42%</td>\n",
       "      <td>sin precio descuento</td>\n",
       "      <td>sin valoracion</td>\n",
       "      <td>sin valoraciones</td>\n",
       "    </tr>\n",
       "    <tr>\n",
       "      <th>2322</th>\n",
       "      <td>primor</td>\n",
       "      <td>mujer</td>\n",
       "      <td>versace</td>\n",
       "      <td>bright crystal</td>\n",
       "      <td>set</td>\n",
       "      <td>sin precio</td>\n",
       "      <td>sin descuento</td>\n",
       "      <td>sin precio descuento</td>\n",
       "      <td>3,00</td>\n",
       "      <td>2</td>\n",
       "    </tr>\n",
       "  </tbody>\n",
       "</table>\n",
       "<p>2323 rows × 10 columns</p>\n",
       "</div>"
      ],
      "text/plain": [
       "      tienda categoria              marca  \\\n",
       "0     primor    hombre          hugo boss   \n",
       "1     primor    hombre           davidoff   \n",
       "2     primor    hombre             armani   \n",
       "3     primor    hombre       calvin klein   \n",
       "4     primor    hombre   carolina herrera   \n",
       "...      ...       ...                ...   \n",
       "2318  primor     mujer  narciso rodriguez   \n",
       "2319  primor     mujer            cartier   \n",
       "2320  primor     mujer    dolce & gabbana   \n",
       "2321  primor     mujer           guerlain   \n",
       "2322  primor     mujer            versace   \n",
       "\n",
       "                                                 nombre             tipo  \\\n",
       "0                                         boss bottled   eau de toilette   \n",
       "1                                                hombre  eau de toilette   \n",
       "2     giorgio armani perfume hombre acqua di gio homme   eau de toilette   \n",
       "3                                      ck in2u for him   eau de toilette   \n",
       "4                                              212 men   eau de toilette   \n",
       "...                                                 ...              ...   \n",
       "2318                    narciso poudrée generous  spray    eau de parfum   \n",
       "2319                                       baiser volé               set   \n",
       "2320                           light blue summer vibes   eau de toilette   \n",
       "2321         aqua allegoria nerolia vetiver  de regalo               set   \n",
       "2322                                    bright crystal               set   \n",
       "\n",
       "     precio_sin_desc      descuento       precio_con_desc      valoracion  \\\n",
       "0             81,70€           -56%                35,95€            4,81   \n",
       "1             74,00€           -74%                18,94€            4,71   \n",
       "2             85,00€           -54%                38,94€            4,93   \n",
       "3             76,00€           -76%                18,49€            4,70   \n",
       "4             74,50€           -49%                37,95€            4,89   \n",
       "...              ...            ...                   ...             ...   \n",
       "2318          98,00€           -35%                84,93€  sin valoracion   \n",
       "2319         160,00€  sin descuento  sin precio descuento  sin valoracion   \n",
       "2320      sin precio  sin descuento  sin precio descuento            5,00   \n",
       "2321         103,09€           -42%  sin precio descuento  sin valoracion   \n",
       "2322      sin precio  sin descuento  sin precio descuento            3,00   \n",
       "\n",
       "      num_valoraciones  \n",
       "0                  212  \n",
       "1                  118  \n",
       "2                   98  \n",
       "3                   94  \n",
       "4                   66  \n",
       "...                ...  \n",
       "2318  sin valoraciones  \n",
       "2319  sin valoraciones  \n",
       "2320                 2  \n",
       "2321  sin valoraciones  \n",
       "2322                 2  \n",
       "\n",
       "[2323 rows x 10 columns]"
      ]
     },
     "execution_count": 7,
     "metadata": {},
     "output_type": "execute_result"
    }
   ],
   "source": [
    "def mapear_tipos_y_limpiar(df):    \n",
    "\n",
    "    mapping = {\n",
    "        'parfum'            : 'parfum',\n",
    "        'eau de toilette'   : 'eau de toilette',\n",
    "        'edt'               : 'eau de toilette',\n",
    "        'eau de toillette'  : 'eau de toilette',\n",
    "        'cool water'        : 'eau de toilette',\n",
    "        'eau de parfum'     : 'eau de parfum',\n",
    "        'edp'               : 'eau de parfum',\n",
    "        'agua de perfume'   : 'eau de parfum',\n",
    "        'colonia'           : 'eau de cologne',\n",
    "        'edc'               : 'eau de cologne',\n",
    "        'cologne'           : 'eau de cologne',\n",
    "        'set'               : 'set',\n",
    "        'estuche'           : 'set',\n",
    "        'cofre de Navidad'  : 'set',\n",
    "        'cofre'             : 'set',\n",
    "        'body mist'         : 'locion corporal'\n",
    "    }\n",
    "\n",
    "    for name, tipo in mapping.items():\n",
    "        df.loc[df['nombre'].str.contains(name), 'tipo'] = tipo\n",
    "\n",
    "    for name in mapping.keys():\n",
    "        df['nombre'] = df['nombre'].str.replace(name, '', regex=False)\n",
    "\n",
    "    df['tipo'] = df['tipo'].str.strip()\n",
    "\n",
    "    return df\n",
    "\n",
    "mapear_tipos_y_limpiar(df)"
   ]
  },
  {
   "cell_type": "code",
   "execution_count": 8,
   "id": "3d4b1f3f-3e80-4212-96f0-c7e05671f5f8",
   "metadata": {
    "tags": []
   },
   "outputs": [],
   "source": [
    "def clean_prices(df, columns):\n",
    "    \n",
    "    for col in columns:\n",
    "        \n",
    "        df[col] = df[col].str.replace('[^0-9,]', '', regex=True) \n",
    "        df[col] = df[col].str.replace(',', '.', regex=True)\n",
    "        df[col] = df[col].replace('', '0', regex=True)\n",
    "        df[col] = df[col].astype(float)  \n",
    "\n",
    "columns = ['precio_sin_desc', 'descuento', 'precio_con_desc', 'valoracion', 'num_valoraciones']\n",
    "\n",
    "clean_prices(df, columns)"
   ]
  },
  {
   "cell_type": "code",
   "execution_count": 9,
   "id": "5df0b496-f857-422b-970f-23c620b785fc",
   "metadata": {},
   "outputs": [],
   "source": [
    "df['descuento'] = df['descuento'].fillna(0)"
   ]
  },
  {
   "cell_type": "code",
   "execution_count": 10,
   "id": "86c71abc-83d1-44b0-b8e5-1051daf12a5e",
   "metadata": {},
   "outputs": [],
   "source": [
    "df['precio_con_desc'] = (df['precio_sin_desc'] * (1 - df['descuento'] / 100)).round(2)"
   ]
  },
  {
   "cell_type": "code",
   "execution_count": 11,
   "id": "687b6630-9768-4eab-9fbf-c514aaaef398",
   "metadata": {},
   "outputs": [],
   "source": [
    "columns = ['tipo', 'valoracion', 'num_valoraciones']\n",
    "\n",
    "for col in columns:\n",
    "    df[col] = df[col].replace(['sin categoria', 'sin valoracion', 'sin valoraciones'], np.nan)"
   ]
  },
  {
   "cell_type": "code",
   "execution_count": null,
   "id": "21eb8abb-8bac-416b-a511-6f46eb0a7f96",
   "metadata": {},
   "outputs": [],
   "source": []
  },
  {
   "cell_type": "code",
   "execution_count": 12,
   "id": "9f43c7e8-a02f-4f72-9a2e-95ee9b32969b",
   "metadata": {},
   "outputs": [],
   "source": [
    "df = df.drop_duplicates()"
   ]
  },
  {
   "cell_type": "code",
   "execution_count": 13,
   "id": "a314c6e7-0c8c-4b87-be97-79ec431c64de",
   "metadata": {},
   "outputs": [],
   "source": [
    "df = df[df['nombre'] != '']"
   ]
  },
  {
   "cell_type": "code",
   "execution_count": 14,
   "id": "dbcac61f-6f34-4ecb-a84e-a25333e4c23c",
   "metadata": {},
   "outputs": [],
   "source": [
    "lista_tipos = ['eau de parfum', 'eau de toilette', 'parfum', 'eau de cologne']\n",
    "df = df[df[\"tipo\"].isin(lista_tipos)].reset_index(drop=True)"
   ]
  },
  {
   "cell_type": "code",
   "execution_count": 15,
   "id": "f59f949e-ad6c-4a54-aef0-e779e938242c",
   "metadata": {},
   "outputs": [],
   "source": [
    "df = df[(df[\"precio_sin_desc\"] != 0) & (df[\"precio_con_desc\"] != 0)]"
   ]
  },
  {
   "cell_type": "code",
   "execution_count": 16,
   "id": "0b83c5bb-093f-42e5-8146-8733a20e7bc7",
   "metadata": {
    "tags": []
   },
   "outputs": [
    {
     "data": {
      "text/plain": [
       "tipo\n",
       "eau de toilette    586\n",
       "eau de parfum      572\n",
       "eau de cologne      72\n",
       "parfum              43\n",
       "Name: count, dtype: int64"
      ]
     },
     "execution_count": 16,
     "metadata": {},
     "output_type": "execute_result"
    }
   ],
   "source": [
    "df['tipo'].value_counts()"
   ]
  },
  {
   "cell_type": "code",
   "execution_count": 17,
   "id": "85e08362-c970-47c4-b031-ff8b1e51fab5",
   "metadata": {
    "tags": []
   },
   "outputs": [
    {
     "data": {
      "text/html": [
       "<div>\n",
       "<style scoped>\n",
       "    .dataframe tbody tr th:only-of-type {\n",
       "        vertical-align: middle;\n",
       "    }\n",
       "\n",
       "    .dataframe tbody tr th {\n",
       "        vertical-align: top;\n",
       "    }\n",
       "\n",
       "    .dataframe thead th {\n",
       "        text-align: right;\n",
       "    }\n",
       "</style>\n",
       "<table border=\"1\" class=\"dataframe\">\n",
       "  <thead>\n",
       "    <tr style=\"text-align: right;\">\n",
       "      <th></th>\n",
       "      <th>tienda</th>\n",
       "      <th>categoria</th>\n",
       "      <th>marca</th>\n",
       "      <th>nombre</th>\n",
       "      <th>tipo</th>\n",
       "      <th>precio_sin_desc</th>\n",
       "      <th>descuento</th>\n",
       "      <th>precio_con_desc</th>\n",
       "      <th>valoracion</th>\n",
       "      <th>num_valoraciones</th>\n",
       "    </tr>\n",
       "  </thead>\n",
       "  <tbody>\n",
       "  </tbody>\n",
       "</table>\n",
       "</div>"
      ],
      "text/plain": [
       "Empty DataFrame\n",
       "Columns: [tienda, categoria, marca, nombre, tipo, precio_sin_desc, descuento, precio_con_desc, valoracion, num_valoraciones]\n",
       "Index: []"
      ]
     },
     "execution_count": 17,
     "metadata": {},
     "output_type": "execute_result"
    }
   ],
   "source": [
    "df[df['tipo'] == 'sin categoria']"
   ]
  },
  {
   "cell_type": "code",
   "execution_count": 18,
   "id": "bcde57e1-3278-4065-a16b-6a1165dd0ba0",
   "metadata": {
    "tags": []
   },
   "outputs": [
    {
     "name": "stdout",
     "output_type": "stream",
     "text": [
      "<class 'pandas.core.frame.DataFrame'>\n",
      "Index: 1273 entries, 0 to 1419\n",
      "Data columns (total 10 columns):\n",
      " #   Column            Non-Null Count  Dtype  \n",
      "---  ------            --------------  -----  \n",
      " 0   tienda            1273 non-null   object \n",
      " 1   categoria         1273 non-null   object \n",
      " 2   marca             1273 non-null   object \n",
      " 3   nombre            1273 non-null   object \n",
      " 4   tipo              1273 non-null   object \n",
      " 5   precio_sin_desc   1273 non-null   float64\n",
      " 6   descuento         1273 non-null   float64\n",
      " 7   precio_con_desc   1273 non-null   float64\n",
      " 8   valoracion        1108 non-null   float64\n",
      " 9   num_valoraciones  1108 non-null   float64\n",
      "dtypes: float64(5), object(5)\n",
      "memory usage: 109.4+ KB\n"
     ]
    }
   ],
   "source": [
    "df.info()"
   ]
  },
  {
   "cell_type": "code",
   "execution_count": 19,
   "id": "16a5babe-d491-4dc5-aace-929a1b7a6032",
   "metadata": {
    "tags": []
   },
   "outputs": [
    {
     "data": {
      "text/plain": [
       "tienda                0\n",
       "categoria             0\n",
       "marca                 0\n",
       "nombre                0\n",
       "tipo                  0\n",
       "precio_sin_desc       0\n",
       "descuento             0\n",
       "precio_con_desc       0\n",
       "valoracion          165\n",
       "num_valoraciones    165\n",
       "dtype: int64"
      ]
     },
     "execution_count": 19,
     "metadata": {},
     "output_type": "execute_result"
    }
   ],
   "source": [
    "df.isna().sum()"
   ]
  },
  {
   "cell_type": "code",
   "execution_count": 20,
   "id": "4cd93120-f80b-4938-bfb5-560386d5d1f1",
   "metadata": {},
   "outputs": [],
   "source": [
    "lista_tipos = ['eau de parfum', 'eau de toilette', 'parfum', 'eau de cologne']\n",
    "df = df[df[\"tipo\"].isin(lista_tipos)].reset_index(drop=True)"
   ]
  },
  {
   "cell_type": "code",
   "execution_count": 21,
   "id": "e63110c5-5d2d-4b8c-b52b-876f52927876",
   "metadata": {
    "tags": []
   },
   "outputs": [],
   "source": [
    "df.to_csv('datos_perfumes_primor_filtrados.csv', index=False)"
   ]
  },
  {
   "cell_type": "code",
   "execution_count": null,
   "id": "e46a5566-6462-434f-882e-90669c2f07b6",
   "metadata": {},
   "outputs": [],
   "source": []
  }
 ],
 "metadata": {
  "kernelspec": {
   "display_name": "Python 3 (ipykernel)",
   "language": "python",
   "name": "python3"
  },
  "language_info": {
   "codemirror_mode": {
    "name": "ipython",
    "version": 3
   },
   "file_extension": ".py",
   "mimetype": "text/x-python",
   "name": "python",
   "nbconvert_exporter": "python",
   "pygments_lexer": "ipython3",
   "version": "3.11.4"
  }
 },
 "nbformat": 4,
 "nbformat_minor": 5
}
